{
 "cells": [
  {
   "cell_type": "code",
   "execution_count": 1,
   "metadata": {},
   "outputs": [],
   "source": [
    "#Import chunk\n",
    "\n",
    "\n",
    "import numpy as np\n",
    "\n",
    "import math\n",
    "\n",
    "import struct\n",
    "\n",
    "import random\n",
    "\n",
    "import time\n",
    "\n",
    "from tqdm import tqdm_notebook\n",
    "\n",
    "import matplotlib.pyplot as plt\n"
   ]
  },
  {
   "cell_type": "code",
   "execution_count": 2,
   "metadata": {},
   "outputs": [],
   "source": [
    "def tanh(x):\n",
    "    return np.tanh(x)\n",
    "\n",
    "def softmax(x):\n",
    "    #这里减去x.max()为了防止指数爆炸，并不会影响结果\n",
    "    exp=np.exp(x-x.max())\n",
    "    return exp/exp.sum()"
   ]
  },
  {
   "cell_type": "code",
   "execution_count": 3,
   "metadata": {},
   "outputs": [],
   "source": [
    "#Initial chunk\n",
    "\n",
    "#两层的维度\n",
    "dimension=[784,10]\n",
    "#两层的激活函数\n",
    "activation=[tanh,softmax]\n",
    "\n",
    "distribution=[\n",
    "    {'b':[0,0]},\n",
    "    {'b':[0,0],'w':[-math.sqrt(6/(dimension[0]+dimension[1])),math.sqrt(6/(dimension[0]+dimension[1]))]}\n",
    "]\n",
    "\n",
    "\n",
    "\n"
   ]
  },
  {
   "cell_type": "code",
   "execution_count": 4,
   "metadata": {},
   "outputs": [],
   "source": [
    "#Parameter's initial\n",
    "\n",
    "\n",
    "def init_b(layer):\n",
    "    dist=distribution[layer]['b']\n",
    "    return np.random.rand(dimension[layer])*(dist[1]-dist[0])+dist[0]\n",
    "\n",
    "\n",
    "def init_w(layer):\n",
    "    dist=distribution[layer]['w']\n",
    "    return np.random.rand(dimension[layer-1],dimension[layer])*(dist[1]-dist[0])+dist[0]\n",
    "\n",
    "def init_wb():\n",
    "    parameter=[]\n",
    "    for i in range(len(distribution)):\n",
    "        layer_parameter={}\n",
    "        for j in distribution[i].keys():\n",
    "            if j=='w':\n",
    "                layer_parameter['w']=init_w(i)\n",
    "            elif j=='b':\n",
    "                layer_parameter['b']=init_b(i)\n",
    "        parameter.append(layer_parameter)\n",
    "    return parameter"
   ]
  },
  {
   "cell_type": "code",
   "execution_count": 5,
   "metadata": {},
   "outputs": [],
   "source": [
    "parameters=init_wb()"
   ]
  },
  {
   "cell_type": "code",
   "execution_count": 6,
   "metadata": {},
   "outputs": [],
   "source": [
    "def predict(image,parameters):\n",
    "    hidden=activation[0](image+parameters[0]['b'])\n",
    "    output=activation[1](np.dot(hidden,parameters[1]['w'])+parameters[1]['b'])\n",
    "    return output"
   ]
  },
  {
   "cell_type": "code",
   "execution_count": 7,
   "metadata": {},
   "outputs": [],
   "source": [
    "data_path='./datas/'\n",
    "\n",
    "train_image_path=data_path+'train-images.idx3-ubyte'\n",
    "train_label_path=data_path+'train-labels.idx1-ubyte'\n",
    "\n",
    "test_image_path=data_path+'t10k-images.idx3-ubyte'\n",
    "test_label_path=data_path+'t10k-labels.idx1-ubyte'\n"
   ]
  },
  {
   "cell_type": "code",
   "execution_count": 8,
   "metadata": {},
   "outputs": [],
   "source": [
    "train_num=50000\n",
    "validate_num=10000\n",
    "test_num=10000\n",
    "\n",
    "with open(train_image_path,'rb') as f:\n",
    "    struct.unpack('>4i',f.read(16))\n",
    "    tem_image=np.fromfile(f,dtype=np.uint8).reshape(-1,784)/255\n",
    "    train_image=tem_image[:train_num]\n",
    "    validate_image=tem_image[train_num:]\n",
    "    \n",
    "with open(test_image_path,'rb') as f:\n",
    "    struct.unpack('>4i',f.read(16))\n",
    "    test_image=np.fromfile(f,dtype=np.uint8).reshape(-1,784)/255\n",
    "    \n",
    "\n",
    "with open(train_label_path,'rb') as f:\n",
    "    struct.unpack('>2i',f.read(8))\n",
    "    tem_label=np.fromfile(f,dtype=np.uint8)\n",
    "    train_label=tem_label[:train_num]\n",
    "    validate_label=tem_label[train_num:]\n",
    "\n",
    "with open(test_label_path,'rb') as f:\n",
    "    struct.unpack('>2i',f.read(8))\n",
    "    test_label=np.fromfile(f,dtype=np.uint8)    \n",
    "    "
   ]
  },
  {
   "cell_type": "code",
   "execution_count": 9,
   "metadata": {},
   "outputs": [],
   "source": [
    "def show_train(index):\n",
    "    print('label:'+str(train_label[index]))\n",
    "    a_image=train_image[index].reshape(-1,28)\n",
    "    plt.imshow(a_image,cmap='gray')\n",
    "    \n",
    "    \n",
    "def show_validate(index):\n",
    "    print('label:'+str(validate_label[index]))\n",
    "    a_image=validate_image[index].reshape(-1,28)\n",
    "    plt.imshow(a_image,cmap='gray')\n",
    "    plt.pause(3)\n",
    "    \n",
    "def show_test(index):\n",
    "    print('label:'+str(test_label[index]))\n",
    "    a_image=test_image[index].reshape(-1,28)\n",
    "    plt.imshow(a_image,cmap='gray')\n",
    "    "
   ]
  },
  {
   "cell_type": "code",
   "execution_count": null,
   "metadata": {},
   "outputs": [],
   "source": []
  },
  {
   "cell_type": "code",
   "execution_count": 10,
   "metadata": {},
   "outputs": [],
   "source": [
    "label_keys=np.identity(dimension[-1])\n"
   ]
  },
  {
   "cell_type": "code",
   "execution_count": 11,
   "metadata": {},
   "outputs": [],
   "source": [
    "def loss(image,label,parameters):\n",
    "    y_predict=predict(image,parameters)\n",
    "    y_label=label_keys[label]\n",
    "    difference=y_predict-y_label\n",
    "    return np.dot(difference,difference)"
   ]
  },
  {
   "cell_type": "code",
   "execution_count": 12,
   "metadata": {},
   "outputs": [],
   "source": [
    "#loss(train_image[0],train_label[0],parameters)"
   ]
  },
  {
   "cell_type": "code",
   "execution_count": 13,
   "metadata": {},
   "outputs": [],
   "source": [
    "def validate_verify(parameters):\n",
    "    error_num=0\n",
    "    for i in range(validate_num):\n",
    "        \n",
    "        if predict(validate_image[i],parameters).argmax()!=validate_label[i]:\n",
    "        \n",
    "            error_num+=1\n",
    "            \n",
    "    rate=1-error_num/validate_num\n",
    "    print('准确率：'+str(rate*100)+'%')\n",
    "    "
   ]
  },
  {
   "cell_type": "code",
   "execution_count": 14,
   "metadata": {},
   "outputs": [],
   "source": [
    "#validate_verify(parameters)"
   ]
  },
  {
   "cell_type": "code",
   "execution_count": 15,
   "metadata": {},
   "outputs": [],
   "source": [
    "def init_zero_grad():\n",
    "    parameter=[]\n",
    "    for layer in range(len(distribution)):\n",
    "        layer_parameter={}\n",
    "        for j in distribution[layer].keys():\n",
    "            if j=='w':\n",
    "                layer_parameter['w']=np.zeros((dimension[layer-1],dimension[layer]))\n",
    "            elif j=='b':\n",
    "                layer_parameter['b']=np.zeros(dimension[layer])\n",
    "        parameter.append(layer_parameter)\n",
    "    return parameter"
   ]
  },
  {
   "cell_type": "code",
   "execution_count": null,
   "metadata": {},
   "outputs": [],
   "source": []
  },
  {
   "cell_type": "code",
   "execution_count": 16,
   "metadata": {},
   "outputs": [],
   "source": [
    "def calculate_a_grad(image,label):\n",
    "    \n",
    "    l0=image+parameters[0]['b']\n",
    "    \n",
    "    h=activation[0](l0)\n",
    "    \n",
    "    l2=np.dot(h,parameters[1]['w'])+parameters[1]['b']\n",
    "    \n",
    "    l3=activation[1](l2)\n",
    "    \n",
    "    a_grad=[{},{}]\n",
    "    \n",
    "    #====1*10\n",
    "    d_L_l3=2*(l3-label_keys[label])\n",
    "    \n",
    "    #====10*10\n",
    "    d_l3_l2=np.diag(l3)-np.outer(l3,l3)\n",
    "    \n",
    "    \n",
    "    d_L_l2=np.dot(d_L_l3,d_l3_l2)\n",
    "    \n",
    "    #10*10\n",
    "    \n",
    "    \n",
    "    \n",
    "    \n",
    "    #并非一一对应关系\n",
    "    \n",
    "    \n",
    "    #d_l2_h=parameters[1]['w']\n",
    "    \n",
    "    #d_h_l0=np.diag(1-np.tanh(l0)**2)\n",
    "    \n",
    "    \n",
    "    \n",
    "    \n",
    "    \n",
    "    #check\n",
    "    a_grad[1]['b']=d_L_l2  \n",
    "    \n",
    "    #\n",
    "    a_grad[1]['w']=np.outer(h,d_L_l2)\n",
    "    \n",
    "    #check\n",
    "    \n",
    "    \n",
    "    #这个速度快，不用点乘\n",
    "    a_grad[0]['b']=(1-np.tanh(l0)**2)*np.dot(parameters[1]['w'],d_L_l2)\n",
    "    #a_grad[0]['b']=np.dot(np.dot(parameters[1]['w'],d_L_l2),d_h_l0)\n",
    "    #a_grad[0]['b']=np.dot(np.dot(d_l2_h,d_L_l2),d_h_l0)\n",
    "    #a_grad[0]['b']=1-(np.tanh(np.dot(d_L_l2,d_l2_h))**2)\n",
    "    #print(zero_grad)\n",
    "    \n",
    "    \n",
    "\n",
    "    #t((a_grad[i][j]-zero_grad[i][j]).max())\n",
    "    return a_grad\n",
    "            \n",
    "            "
   ]
  },
  {
   "cell_type": "code",
   "execution_count": null,
   "metadata": {},
   "outputs": [],
   "source": []
  },
  {
   "cell_type": "code",
   "execution_count": 17,
   "metadata": {},
   "outputs": [],
   "source": [
    "banch_num=100\n",
    "def calculate_banch_grad(banch_time):\n",
    "    \n",
    "    banch_grad=init_zero_grad()\n",
    "    for i in range(banch_num*banch_time,banch_num*(banch_time+1)):\n",
    "        \n",
    "        #print('训练'+str(i+1)+'/'+str(banch_num)+'个参数')\n",
    "        tem_grad=calculate_a_grad(train_image[i],train_label[i])\n",
    "        for j in range(len(banch_grad)):\n",
    "            for k in banch_grad[j].keys():\n",
    "                banch_grad[j][k]+=tem_grad[j][k]\n",
    "    for j in range(len(banch_grad)):\n",
    "        for k in banch_grad[j].keys():\n",
    "            banch_grad[j][k]/=banch_num\n",
    "    \n",
    "    \n",
    "    return banch_grad           "
   ]
  },
  {
   "cell_type": "code",
   "execution_count": 18,
   "metadata": {},
   "outputs": [
    {
     "name": "stdout",
     "output_type": "stream",
     "text": [
      "准确率：10.48%\n"
     ]
    }
   ],
   "source": [
    "parameters=init_wb()\n",
    "validate_verify(parameters)"
   ]
  },
  {
   "cell_type": "code",
   "execution_count": 19,
   "metadata": {},
   "outputs": [],
   "source": [
    "def train_banch(banch_grad,learn_rate):\n",
    "    #print('正在修正参数')\n",
    "    for j in range(len(banch_grad)):\n",
    "        for k in banch_grad[j].keys():\n",
    "            parameters[j][k]-=learn_rate*banch_grad[j][k]\n",
    "            \n",
    "            "
   ]
  },
  {
   "cell_type": "code",
   "execution_count": 28,
   "metadata": {},
   "outputs": [],
   "source": [
    "learn_rate=0.001\n",
    "def train():\n",
    "    \n",
    "    for i in tqdm_notebook(range(train_num//banch_num)):\n",
    "        #time0=time.time()\n",
    "        #print('#===============开始训练第'+str(i+1)+'/'+str(train_num//banch_num)+'组==============#')\n",
    "        banch_grad=calculate_banch_grad(i)\n",
    "        \n",
    "        train_banch(banch_grad,learn_rate)\n",
    "        #time1=time.time()\n",
    "        #print('当前组用时：{}s'.format(time1-time0))\n",
    "        #validate_verify(parameters)\n",
    "    #print('Train Over!')\n",
    "    \n",
    "    "
   ]
  },
  {
   "cell_type": "code",
   "execution_count": 30,
   "metadata": {
    "scrolled": true
   },
   "outputs": [
    {
     "data": {
      "application/vnd.jupyter.widget-view+json": {
       "model_id": "6098336d21da479dbbe4aa96564cf70f",
       "version_major": 2,
       "version_minor": 0
      },
      "text/plain": [
       "HBox(children=(IntProgress(value=0), HTML(value='')))"
      ]
     },
     "metadata": {},
     "output_type": "display_data"
    },
    {
     "data": {
      "application/vnd.jupyter.widget-view+json": {
       "model_id": "f6c31ccbb1b343b986682d1eb098755b",
       "version_major": 2,
       "version_minor": 0
      },
      "text/plain": [
       "HBox(children=(IntProgress(value=0, max=500), HTML(value='')))"
      ]
     },
     "metadata": {},
     "output_type": "display_data"
    },
    {
     "name": "stdout",
     "output_type": "stream",
     "text": [
      "准确率：90.72%\n"
     ]
    },
    {
     "data": {
      "application/vnd.jupyter.widget-view+json": {
       "model_id": "54f1b892ee254251b72144dfca70c1b2",
       "version_major": 2,
       "version_minor": 0
      },
      "text/plain": [
       "HBox(children=(IntProgress(value=0, max=500), HTML(value='')))"
      ]
     },
     "metadata": {},
     "output_type": "display_data"
    },
    {
     "name": "stdout",
     "output_type": "stream",
     "text": [
      "准确率：90.72%\n"
     ]
    },
    {
     "data": {
      "application/vnd.jupyter.widget-view+json": {
       "model_id": "6de44c11ee90484fa074e5218bb7c30f",
       "version_major": 2,
       "version_minor": 0
      },
      "text/plain": [
       "HBox(children=(IntProgress(value=0, max=500), HTML(value='')))"
      ]
     },
     "metadata": {},
     "output_type": "display_data"
    },
    {
     "name": "stdout",
     "output_type": "stream",
     "text": [
      "准确率：90.74%\n"
     ]
    },
    {
     "data": {
      "application/vnd.jupyter.widget-view+json": {
       "model_id": "7a8a5ec710504d449431516afc36d4c3",
       "version_major": 2,
       "version_minor": 0
      },
      "text/plain": [
       "HBox(children=(IntProgress(value=0, max=500), HTML(value='')))"
      ]
     },
     "metadata": {},
     "output_type": "display_data"
    },
    {
     "name": "stdout",
     "output_type": "stream",
     "text": [
      "准确率：90.74%\n"
     ]
    },
    {
     "data": {
      "application/vnd.jupyter.widget-view+json": {
       "model_id": "a49fda0829744def830fcf472ac19007",
       "version_major": 2,
       "version_minor": 0
      },
      "text/plain": [
       "HBox(children=(IntProgress(value=0, max=500), HTML(value='')))"
      ]
     },
     "metadata": {},
     "output_type": "display_data"
    },
    {
     "name": "stdout",
     "output_type": "stream",
     "text": [
      "准确率：90.74%\n"
     ]
    },
    {
     "data": {
      "application/vnd.jupyter.widget-view+json": {
       "model_id": "f07f2fbed9354043aea642e86e8aae74",
       "version_major": 2,
       "version_minor": 0
      },
      "text/plain": [
       "HBox(children=(IntProgress(value=0, max=500), HTML(value='')))"
      ]
     },
     "metadata": {},
     "output_type": "display_data"
    },
    {
     "name": "stdout",
     "output_type": "stream",
     "text": [
      "准确率：90.75%\n"
     ]
    },
    {
     "data": {
      "application/vnd.jupyter.widget-view+json": {
       "model_id": "b3dea9f7b77f4a768f59bb6b52127bea",
       "version_major": 2,
       "version_minor": 0
      },
      "text/plain": [
       "HBox(children=(IntProgress(value=0, max=500), HTML(value='')))"
      ]
     },
     "metadata": {},
     "output_type": "display_data"
    },
    {
     "name": "stdout",
     "output_type": "stream",
     "text": [
      "准确率：90.75999999999999%\n"
     ]
    },
    {
     "data": {
      "application/vnd.jupyter.widget-view+json": {
       "model_id": "93efb80c63754a1080ec514f7850fcfb",
       "version_major": 2,
       "version_minor": 0
      },
      "text/plain": [
       "HBox(children=(IntProgress(value=0, max=500), HTML(value='')))"
      ]
     },
     "metadata": {},
     "output_type": "display_data"
    },
    {
     "name": "stdout",
     "output_type": "stream",
     "text": [
      "准确率：90.75999999999999%\n"
     ]
    },
    {
     "data": {
      "application/vnd.jupyter.widget-view+json": {
       "model_id": "49280b42099a4c54a6b4d846c7d3c477",
       "version_major": 2,
       "version_minor": 0
      },
      "text/plain": [
       "HBox(children=(IntProgress(value=0, max=500), HTML(value='')))"
      ]
     },
     "metadata": {},
     "output_type": "display_data"
    },
    {
     "name": "stdout",
     "output_type": "stream",
     "text": [
      "准确率：90.78%\n"
     ]
    },
    {
     "data": {
      "application/vnd.jupyter.widget-view+json": {
       "model_id": "f645bbe0d2fe4b7e815ec4f55bf04dd2",
       "version_major": 2,
       "version_minor": 0
      },
      "text/plain": [
       "HBox(children=(IntProgress(value=0, max=500), HTML(value='')))"
      ]
     },
     "metadata": {},
     "output_type": "display_data"
    },
    {
     "name": "stdout",
     "output_type": "stream",
     "text": [
      "准确率：90.8%\n"
     ]
    },
    {
     "data": {
      "application/vnd.jupyter.widget-view+json": {
       "model_id": "124ec69a06604723ab0165efd9b047f9",
       "version_major": 2,
       "version_minor": 0
      },
      "text/plain": [
       "HBox(children=(IntProgress(value=0, max=500), HTML(value='')))"
      ]
     },
     "metadata": {},
     "output_type": "display_data"
    },
    {
     "name": "stdout",
     "output_type": "stream",
     "text": [
      "准确率：90.81%\n"
     ]
    },
    {
     "data": {
      "application/vnd.jupyter.widget-view+json": {
       "model_id": "60d4b84e84c444e0a6cdcf8a9dccc124",
       "version_major": 2,
       "version_minor": 0
      },
      "text/plain": [
       "HBox(children=(IntProgress(value=0, max=500), HTML(value='')))"
      ]
     },
     "metadata": {},
     "output_type": "display_data"
    },
    {
     "name": "stdout",
     "output_type": "stream",
     "text": [
      "准确率：90.8%\n"
     ]
    },
    {
     "data": {
      "application/vnd.jupyter.widget-view+json": {
       "model_id": "19554d6191924f81abf9c354a9be7b74",
       "version_major": 2,
       "version_minor": 0
      },
      "text/plain": [
       "HBox(children=(IntProgress(value=0, max=500), HTML(value='')))"
      ]
     },
     "metadata": {},
     "output_type": "display_data"
    },
    {
     "name": "stdout",
     "output_type": "stream",
     "text": [
      "准确率：90.81%\n"
     ]
    },
    {
     "data": {
      "application/vnd.jupyter.widget-view+json": {
       "model_id": "2581cf844a5940ff932f9c526785d333",
       "version_major": 2,
       "version_minor": 0
      },
      "text/plain": [
       "HBox(children=(IntProgress(value=0, max=500), HTML(value='')))"
      ]
     },
     "metadata": {},
     "output_type": "display_data"
    },
    {
     "name": "stdout",
     "output_type": "stream",
     "text": [
      "准确率：90.82000000000001%\n"
     ]
    },
    {
     "data": {
      "application/vnd.jupyter.widget-view+json": {
       "model_id": "cec78a59ef2a4c0d987a51a83ad98b04",
       "version_major": 2,
       "version_minor": 0
      },
      "text/plain": [
       "HBox(children=(IntProgress(value=0, max=500), HTML(value='')))"
      ]
     },
     "metadata": {},
     "output_type": "display_data"
    },
    {
     "name": "stdout",
     "output_type": "stream",
     "text": [
      "准确率：90.81%\n"
     ]
    },
    {
     "data": {
      "application/vnd.jupyter.widget-view+json": {
       "model_id": "a3f12eda53d8470394f50261aa291781",
       "version_major": 2,
       "version_minor": 0
      },
      "text/plain": [
       "HBox(children=(IntProgress(value=0, max=500), HTML(value='')))"
      ]
     },
     "metadata": {},
     "output_type": "display_data"
    },
    {
     "name": "stdout",
     "output_type": "stream",
     "text": [
      "准确率：90.82000000000001%\n"
     ]
    },
    {
     "data": {
      "application/vnd.jupyter.widget-view+json": {
       "model_id": "b36f07a2f3b440d8924352ff20d0f097",
       "version_major": 2,
       "version_minor": 0
      },
      "text/plain": [
       "HBox(children=(IntProgress(value=0, max=500), HTML(value='')))"
      ]
     },
     "metadata": {},
     "output_type": "display_data"
    },
    {
     "name": "stdout",
     "output_type": "stream",
     "text": [
      "准确率：90.82000000000001%\n"
     ]
    },
    {
     "data": {
      "application/vnd.jupyter.widget-view+json": {
       "model_id": "df8b61fe5ad146238922cdd83b5b43ae",
       "version_major": 2,
       "version_minor": 0
      },
      "text/plain": [
       "HBox(children=(IntProgress(value=0, max=500), HTML(value='')))"
      ]
     },
     "metadata": {},
     "output_type": "display_data"
    },
    {
     "name": "stdout",
     "output_type": "stream",
     "text": [
      "准确率：90.82000000000001%\n"
     ]
    },
    {
     "data": {
      "application/vnd.jupyter.widget-view+json": {
       "model_id": "32966779d9014be28aeff297bb480f6a",
       "version_major": 2,
       "version_minor": 0
      },
      "text/plain": [
       "HBox(children=(IntProgress(value=0, max=500), HTML(value='')))"
      ]
     },
     "metadata": {},
     "output_type": "display_data"
    },
    {
     "name": "stdout",
     "output_type": "stream",
     "text": [
      "准确率：90.83%\n"
     ]
    },
    {
     "data": {
      "application/vnd.jupyter.widget-view+json": {
       "model_id": "332dad9358594afb8c2ffce8b3bb44dd",
       "version_major": 2,
       "version_minor": 0
      },
      "text/plain": [
       "HBox(children=(IntProgress(value=0, max=500), HTML(value='')))"
      ]
     },
     "metadata": {},
     "output_type": "display_data"
    },
    {
     "name": "stdout",
     "output_type": "stream",
     "text": [
      "准确率：90.83%\n"
     ]
    },
    {
     "data": {
      "application/vnd.jupyter.widget-view+json": {
       "model_id": "9e3da61d5ced4127b3ca1294eff918fc",
       "version_major": 2,
       "version_minor": 0
      },
      "text/plain": [
       "HBox(children=(IntProgress(value=0, max=500), HTML(value='')))"
      ]
     },
     "metadata": {},
     "output_type": "display_data"
    },
    {
     "name": "stdout",
     "output_type": "stream",
     "text": [
      "准确率：90.84%\n"
     ]
    },
    {
     "data": {
      "application/vnd.jupyter.widget-view+json": {
       "model_id": "dd4d5d4a2a2341be9eede88a79a237b0",
       "version_major": 2,
       "version_minor": 0
      },
      "text/plain": [
       "HBox(children=(IntProgress(value=0, max=500), HTML(value='')))"
      ]
     },
     "metadata": {},
     "output_type": "display_data"
    },
    {
     "name": "stdout",
     "output_type": "stream",
     "text": [
      "准确率：90.84%\n"
     ]
    },
    {
     "data": {
      "application/vnd.jupyter.widget-view+json": {
       "model_id": "371198c57c6b46e5a536e05abf032342",
       "version_major": 2,
       "version_minor": 0
      },
      "text/plain": [
       "HBox(children=(IntProgress(value=0, max=500), HTML(value='')))"
      ]
     },
     "metadata": {},
     "output_type": "display_data"
    },
    {
     "name": "stdout",
     "output_type": "stream",
     "text": [
      "准确率：90.84%\n"
     ]
    },
    {
     "data": {
      "application/vnd.jupyter.widget-view+json": {
       "model_id": "d91ee7061f8d4afbbf3cca20ab841cde",
       "version_major": 2,
       "version_minor": 0
      },
      "text/plain": [
       "HBox(children=(IntProgress(value=0, max=500), HTML(value='')))"
      ]
     },
     "metadata": {},
     "output_type": "display_data"
    },
    {
     "name": "stdout",
     "output_type": "stream",
     "text": [
      "准确率：90.85%\n"
     ]
    },
    {
     "data": {
      "application/vnd.jupyter.widget-view+json": {
       "model_id": "1af499baca46408d8ce87eeb000e9dac",
       "version_major": 2,
       "version_minor": 0
      },
      "text/plain": [
       "HBox(children=(IntProgress(value=0, max=500), HTML(value='')))"
      ]
     },
     "metadata": {},
     "output_type": "display_data"
    },
    {
     "name": "stdout",
     "output_type": "stream",
     "text": [
      "准确率：90.85%\n"
     ]
    },
    {
     "data": {
      "application/vnd.jupyter.widget-view+json": {
       "model_id": "28d616c1b2b741ccbdbc5d10dd9f2b60",
       "version_major": 2,
       "version_minor": 0
      },
      "text/plain": [
       "HBox(children=(IntProgress(value=0, max=500), HTML(value='')))"
      ]
     },
     "metadata": {},
     "output_type": "display_data"
    },
    {
     "name": "stdout",
     "output_type": "stream",
     "text": [
      "准确率：90.86%\n"
     ]
    },
    {
     "data": {
      "application/vnd.jupyter.widget-view+json": {
       "model_id": "6956c1821d2b426a8838ed1e6b1416cc",
       "version_major": 2,
       "version_minor": 0
      },
      "text/plain": [
       "HBox(children=(IntProgress(value=0, max=500), HTML(value='')))"
      ]
     },
     "metadata": {},
     "output_type": "display_data"
    },
    {
     "name": "stdout",
     "output_type": "stream",
     "text": [
      "准确率：90.86%\n"
     ]
    },
    {
     "data": {
      "application/vnd.jupyter.widget-view+json": {
       "model_id": "e662307bb9f04e13bc168e1e2200f676",
       "version_major": 2,
       "version_minor": 0
      },
      "text/plain": [
       "HBox(children=(IntProgress(value=0, max=500), HTML(value='')))"
      ]
     },
     "metadata": {},
     "output_type": "display_data"
    },
    {
     "name": "stdout",
     "output_type": "stream",
     "text": [
      "准确率：90.88000000000001%\n"
     ]
    },
    {
     "data": {
      "application/vnd.jupyter.widget-view+json": {
       "model_id": "bc0d3dbcfb154adcb44cb1e972fd0562",
       "version_major": 2,
       "version_minor": 0
      },
      "text/plain": [
       "HBox(children=(IntProgress(value=0, max=500), HTML(value='')))"
      ]
     },
     "metadata": {},
     "output_type": "display_data"
    },
    {
     "name": "stdout",
     "output_type": "stream",
     "text": [
      "准确率：90.88000000000001%\n"
     ]
    },
    {
     "data": {
      "application/vnd.jupyter.widget-view+json": {
       "model_id": "c75f00e9df1a466d95a0a6d02c55a973",
       "version_major": 2,
       "version_minor": 0
      },
      "text/plain": [
       "HBox(children=(IntProgress(value=0, max=500), HTML(value='')))"
      ]
     },
     "metadata": {},
     "output_type": "display_data"
    },
    {
     "name": "stdout",
     "output_type": "stream",
     "text": [
      "准确率：90.9%\n"
     ]
    },
    {
     "data": {
      "application/vnd.jupyter.widget-view+json": {
       "model_id": "4b99bcd51265490db409b174cbab7b77",
       "version_major": 2,
       "version_minor": 0
      },
      "text/plain": [
       "HBox(children=(IntProgress(value=0, max=500), HTML(value='')))"
      ]
     },
     "metadata": {},
     "output_type": "display_data"
    },
    {
     "name": "stdout",
     "output_type": "stream",
     "text": [
      "准确率：90.91%\n"
     ]
    },
    {
     "data": {
      "application/vnd.jupyter.widget-view+json": {
       "model_id": "73b3c4824e3645aa9dfaaa39a0965dcb",
       "version_major": 2,
       "version_minor": 0
      },
      "text/plain": [
       "HBox(children=(IntProgress(value=0, max=500), HTML(value='')))"
      ]
     },
     "metadata": {},
     "output_type": "display_data"
    },
    {
     "name": "stdout",
     "output_type": "stream",
     "text": [
      "准确率：90.92%\n"
     ]
    },
    {
     "data": {
      "application/vnd.jupyter.widget-view+json": {
       "model_id": "638e2acaf9ea44588233b68a071f21c9",
       "version_major": 2,
       "version_minor": 0
      },
      "text/plain": [
       "HBox(children=(IntProgress(value=0, max=500), HTML(value='')))"
      ]
     },
     "metadata": {},
     "output_type": "display_data"
    },
    {
     "name": "stdout",
     "output_type": "stream",
     "text": [
      "准确率：90.92%\n"
     ]
    },
    {
     "data": {
      "application/vnd.jupyter.widget-view+json": {
       "model_id": "50be6b05fa9b4587a5b55c70380385f8",
       "version_major": 2,
       "version_minor": 0
      },
      "text/plain": [
       "HBox(children=(IntProgress(value=0, max=500), HTML(value='')))"
      ]
     },
     "metadata": {},
     "output_type": "display_data"
    },
    {
     "name": "stdout",
     "output_type": "stream",
     "text": [
      "准确率：90.92%\n"
     ]
    },
    {
     "data": {
      "application/vnd.jupyter.widget-view+json": {
       "model_id": "10ebf74b1e6f49c1ab4308fb36b9ce28",
       "version_major": 2,
       "version_minor": 0
      },
      "text/plain": [
       "HBox(children=(IntProgress(value=0, max=500), HTML(value='')))"
      ]
     },
     "metadata": {},
     "output_type": "display_data"
    },
    {
     "name": "stdout",
     "output_type": "stream",
     "text": [
      "准确率：90.93%\n"
     ]
    },
    {
     "data": {
      "application/vnd.jupyter.widget-view+json": {
       "model_id": "45065ced4307424fb0981f1fcab69e01",
       "version_major": 2,
       "version_minor": 0
      },
      "text/plain": [
       "HBox(children=(IntProgress(value=0, max=500), HTML(value='')))"
      ]
     },
     "metadata": {},
     "output_type": "display_data"
    },
    {
     "name": "stdout",
     "output_type": "stream",
     "text": [
      "准确率：90.94%\n"
     ]
    },
    {
     "data": {
      "application/vnd.jupyter.widget-view+json": {
       "model_id": "3987d1f99c9942348c1ebc1ee5ddb579",
       "version_major": 2,
       "version_minor": 0
      },
      "text/plain": [
       "HBox(children=(IntProgress(value=0, max=500), HTML(value='')))"
      ]
     },
     "metadata": {},
     "output_type": "display_data"
    },
    {
     "name": "stdout",
     "output_type": "stream",
     "text": [
      "准确率：90.95%\n"
     ]
    },
    {
     "data": {
      "application/vnd.jupyter.widget-view+json": {
       "model_id": "1b3f65b7c0074b8781635468c266b041",
       "version_major": 2,
       "version_minor": 0
      },
      "text/plain": [
       "HBox(children=(IntProgress(value=0, max=500), HTML(value='')))"
      ]
     },
     "metadata": {},
     "output_type": "display_data"
    },
    {
     "name": "stdout",
     "output_type": "stream",
     "text": [
      "准确率：90.95%\n"
     ]
    },
    {
     "data": {
      "application/vnd.jupyter.widget-view+json": {
       "model_id": "59838a027a59406fae0688c5f31c867f",
       "version_major": 2,
       "version_minor": 0
      },
      "text/plain": [
       "HBox(children=(IntProgress(value=0, max=500), HTML(value='')))"
      ]
     },
     "metadata": {},
     "output_type": "display_data"
    },
    {
     "name": "stdout",
     "output_type": "stream",
     "text": [
      "准确率：90.96%\n"
     ]
    },
    {
     "data": {
      "application/vnd.jupyter.widget-view+json": {
       "model_id": "504869c2fe074da9a80bb4cc4c1d09ae",
       "version_major": 2,
       "version_minor": 0
      },
      "text/plain": [
       "HBox(children=(IntProgress(value=0, max=500), HTML(value='')))"
      ]
     },
     "metadata": {},
     "output_type": "display_data"
    },
    {
     "name": "stdout",
     "output_type": "stream",
     "text": [
      "准确率：90.97999999999999%\n"
     ]
    },
    {
     "data": {
      "application/vnd.jupyter.widget-view+json": {
       "model_id": "5fec7948b12f45c69ca57f68a2f56c3b",
       "version_major": 2,
       "version_minor": 0
      },
      "text/plain": [
       "HBox(children=(IntProgress(value=0, max=500), HTML(value='')))"
      ]
     },
     "metadata": {},
     "output_type": "display_data"
    },
    {
     "name": "stdout",
     "output_type": "stream",
     "text": [
      "准确率：90.97999999999999%\n"
     ]
    },
    {
     "data": {
      "application/vnd.jupyter.widget-view+json": {
       "model_id": "7a2acd55cafc4456ba488f53db50d4f0",
       "version_major": 2,
       "version_minor": 0
      },
      "text/plain": [
       "HBox(children=(IntProgress(value=0, max=500), HTML(value='')))"
      ]
     },
     "metadata": {},
     "output_type": "display_data"
    },
    {
     "name": "stdout",
     "output_type": "stream",
     "text": [
      "准确率：90.99000000000001%\n"
     ]
    },
    {
     "data": {
      "application/vnd.jupyter.widget-view+json": {
       "model_id": "86ca28e6accb4b04806da209eb597075",
       "version_major": 2,
       "version_minor": 0
      },
      "text/plain": [
       "HBox(children=(IntProgress(value=0, max=500), HTML(value='')))"
      ]
     },
     "metadata": {},
     "output_type": "display_data"
    },
    {
     "name": "stdout",
     "output_type": "stream",
     "text": [
      "准确率：90.99000000000001%\n"
     ]
    },
    {
     "data": {
      "application/vnd.jupyter.widget-view+json": {
       "model_id": "098d5d4317d140459df5033ead39f8a4",
       "version_major": 2,
       "version_minor": 0
      },
      "text/plain": [
       "HBox(children=(IntProgress(value=0, max=500), HTML(value='')))"
      ]
     },
     "metadata": {},
     "output_type": "display_data"
    },
    {
     "name": "stdout",
     "output_type": "stream",
     "text": [
      "准确率：90.99000000000001%\n"
     ]
    },
    {
     "data": {
      "application/vnd.jupyter.widget-view+json": {
       "model_id": "445fa9ac29394e459c356a0566d1769b",
       "version_major": 2,
       "version_minor": 0
      },
      "text/plain": [
       "HBox(children=(IntProgress(value=0, max=500), HTML(value='')))"
      ]
     },
     "metadata": {},
     "output_type": "display_data"
    },
    {
     "name": "stdout",
     "output_type": "stream",
     "text": [
      "准确率：90.99000000000001%\n"
     ]
    },
    {
     "data": {
      "application/vnd.jupyter.widget-view+json": {
       "model_id": "09bbbd80fcea44dca5b1b14fc9d30191",
       "version_major": 2,
       "version_minor": 0
      },
      "text/plain": [
       "HBox(children=(IntProgress(value=0, max=500), HTML(value='')))"
      ]
     },
     "metadata": {},
     "output_type": "display_data"
    },
    {
     "name": "stdout",
     "output_type": "stream",
     "text": [
      "准确率：91.0%\n"
     ]
    },
    {
     "data": {
      "application/vnd.jupyter.widget-view+json": {
       "model_id": "9363b3c3c1d44a6bb062b48a02aa8902",
       "version_major": 2,
       "version_minor": 0
      },
      "text/plain": [
       "HBox(children=(IntProgress(value=0, max=500), HTML(value='')))"
      ]
     },
     "metadata": {},
     "output_type": "display_data"
    },
    {
     "name": "stdout",
     "output_type": "stream",
     "text": [
      "准确率：91.0%\n"
     ]
    },
    {
     "data": {
      "application/vnd.jupyter.widget-view+json": {
       "model_id": "dc54b80d6c744e76856969037cd2c56f",
       "version_major": 2,
       "version_minor": 0
      },
      "text/plain": [
       "HBox(children=(IntProgress(value=0, max=500), HTML(value='')))"
      ]
     },
     "metadata": {},
     "output_type": "display_data"
    },
    {
     "name": "stdout",
     "output_type": "stream",
     "text": [
      "准确率：91.0%\n"
     ]
    },
    {
     "data": {
      "application/vnd.jupyter.widget-view+json": {
       "model_id": "7c4bda14f6c14ef3a2283088c739f9fa",
       "version_major": 2,
       "version_minor": 0
      },
      "text/plain": [
       "HBox(children=(IntProgress(value=0, max=500), HTML(value='')))"
      ]
     },
     "metadata": {},
     "output_type": "display_data"
    },
    {
     "name": "stdout",
     "output_type": "stream",
     "text": [
      "准确率：91.0%\n"
     ]
    },
    {
     "data": {
      "application/vnd.jupyter.widget-view+json": {
       "model_id": "94b29a3452dd49099f73c28339e68c62",
       "version_major": 2,
       "version_minor": 0
      },
      "text/plain": [
       "HBox(children=(IntProgress(value=0, max=500), HTML(value='')))"
      ]
     },
     "metadata": {},
     "output_type": "display_data"
    },
    {
     "name": "stdout",
     "output_type": "stream",
     "text": [
      "准确率：91.0%\n"
     ]
    },
    {
     "data": {
      "application/vnd.jupyter.widget-view+json": {
       "model_id": "743a9a4ff0884b81b79c6ce29baf777c",
       "version_major": 2,
       "version_minor": 0
      },
      "text/plain": [
       "HBox(children=(IntProgress(value=0, max=500), HTML(value='')))"
      ]
     },
     "metadata": {},
     "output_type": "display_data"
    },
    {
     "name": "stdout",
     "output_type": "stream",
     "text": [
      "准确率：90.99000000000001%\n"
     ]
    },
    {
     "data": {
      "application/vnd.jupyter.widget-view+json": {
       "model_id": "8026c23972c74caf8342b3c005fadb3d",
       "version_major": 2,
       "version_minor": 0
      },
      "text/plain": [
       "HBox(children=(IntProgress(value=0, max=500), HTML(value='')))"
      ]
     },
     "metadata": {},
     "output_type": "display_data"
    },
    {
     "name": "stdout",
     "output_type": "stream",
     "text": [
      "准确率：90.99000000000001%\n"
     ]
    },
    {
     "data": {
      "application/vnd.jupyter.widget-view+json": {
       "model_id": "6744c3fa9ecd4ae1b8f114d4268b8cdc",
       "version_major": 2,
       "version_minor": 0
      },
      "text/plain": [
       "HBox(children=(IntProgress(value=0, max=500), HTML(value='')))"
      ]
     },
     "metadata": {},
     "output_type": "display_data"
    },
    {
     "name": "stdout",
     "output_type": "stream",
     "text": [
      "准确率：90.99000000000001%\n"
     ]
    },
    {
     "data": {
      "application/vnd.jupyter.widget-view+json": {
       "model_id": "8a61c80def7045af9b2f542bfe5174bf",
       "version_major": 2,
       "version_minor": 0
      },
      "text/plain": [
       "HBox(children=(IntProgress(value=0, max=500), HTML(value='')))"
      ]
     },
     "metadata": {},
     "output_type": "display_data"
    },
    {
     "name": "stdout",
     "output_type": "stream",
     "text": [
      "准确率：90.99000000000001%\n"
     ]
    },
    {
     "data": {
      "application/vnd.jupyter.widget-view+json": {
       "model_id": "4a5f4597dae440a78ba2d556a1316b14",
       "version_major": 2,
       "version_minor": 0
      },
      "text/plain": [
       "HBox(children=(IntProgress(value=0, max=500), HTML(value='')))"
      ]
     },
     "metadata": {},
     "output_type": "display_data"
    },
    {
     "name": "stdout",
     "output_type": "stream",
     "text": [
      "准确率：90.99000000000001%\n"
     ]
    },
    {
     "data": {
      "application/vnd.jupyter.widget-view+json": {
       "model_id": "a0c99f71331f44ae9d7441697e7d8edb",
       "version_major": 2,
       "version_minor": 0
      },
      "text/plain": [
       "HBox(children=(IntProgress(value=0, max=500), HTML(value='')))"
      ]
     },
     "metadata": {},
     "output_type": "display_data"
    },
    {
     "name": "stdout",
     "output_type": "stream",
     "text": [
      "准确率：90.99000000000001%\n"
     ]
    },
    {
     "data": {
      "application/vnd.jupyter.widget-view+json": {
       "model_id": "0dbcf29db8814317945f1bd525a0bd6a",
       "version_major": 2,
       "version_minor": 0
      },
      "text/plain": [
       "HBox(children=(IntProgress(value=0, max=500), HTML(value='')))"
      ]
     },
     "metadata": {},
     "output_type": "display_data"
    },
    {
     "name": "stdout",
     "output_type": "stream",
     "text": [
      "准确率：90.99000000000001%\n"
     ]
    },
    {
     "data": {
      "application/vnd.jupyter.widget-view+json": {
       "model_id": "ea0c27895f914d5286e7f9a71330a17a",
       "version_major": 2,
       "version_minor": 0
      },
      "text/plain": [
       "HBox(children=(IntProgress(value=0, max=500), HTML(value='')))"
      ]
     },
     "metadata": {},
     "output_type": "display_data"
    },
    {
     "name": "stdout",
     "output_type": "stream",
     "text": [
      "准确率：91.01%\n"
     ]
    },
    {
     "data": {
      "application/vnd.jupyter.widget-view+json": {
       "model_id": "a09ce4031a6e49588b15e2f63d98ae9f",
       "version_major": 2,
       "version_minor": 0
      },
      "text/plain": [
       "HBox(children=(IntProgress(value=0, max=500), HTML(value='')))"
      ]
     },
     "metadata": {},
     "output_type": "display_data"
    },
    {
     "name": "stdout",
     "output_type": "stream",
     "text": [
      "准确率：91.0%\n"
     ]
    },
    {
     "data": {
      "application/vnd.jupyter.widget-view+json": {
       "model_id": "5e09440c788d4fcfbae8f03862cfb51e",
       "version_major": 2,
       "version_minor": 0
      },
      "text/plain": [
       "HBox(children=(IntProgress(value=0, max=500), HTML(value='')))"
      ]
     },
     "metadata": {},
     "output_type": "display_data"
    },
    {
     "name": "stdout",
     "output_type": "stream",
     "text": [
      "准确率：91.0%\n"
     ]
    },
    {
     "data": {
      "application/vnd.jupyter.widget-view+json": {
       "model_id": "89f5b46349ab4ba99541637386f408cc",
       "version_major": 2,
       "version_minor": 0
      },
      "text/plain": [
       "HBox(children=(IntProgress(value=0, max=500), HTML(value='')))"
      ]
     },
     "metadata": {},
     "output_type": "display_data"
    },
    {
     "name": "stdout",
     "output_type": "stream",
     "text": [
      "准确率：91.0%\n"
     ]
    },
    {
     "data": {
      "application/vnd.jupyter.widget-view+json": {
       "model_id": "4dbcbdc634d5419ba17709908212b850",
       "version_major": 2,
       "version_minor": 0
      },
      "text/plain": [
       "HBox(children=(IntProgress(value=0, max=500), HTML(value='')))"
      ]
     },
     "metadata": {},
     "output_type": "display_data"
    },
    {
     "name": "stdout",
     "output_type": "stream",
     "text": [
      "准确率：91.01%\n"
     ]
    },
    {
     "data": {
      "application/vnd.jupyter.widget-view+json": {
       "model_id": "b1a3eac01acf4364bea28ea26e04a999",
       "version_major": 2,
       "version_minor": 0
      },
      "text/plain": [
       "HBox(children=(IntProgress(value=0, max=500), HTML(value='')))"
      ]
     },
     "metadata": {},
     "output_type": "display_data"
    },
    {
     "name": "stdout",
     "output_type": "stream",
     "text": [
      "准确率：91.01%\n"
     ]
    },
    {
     "data": {
      "application/vnd.jupyter.widget-view+json": {
       "model_id": "7b466d4123e44349968666f5b2dd5644",
       "version_major": 2,
       "version_minor": 0
      },
      "text/plain": [
       "HBox(children=(IntProgress(value=0, max=500), HTML(value='')))"
      ]
     },
     "metadata": {},
     "output_type": "display_data"
    },
    {
     "name": "stdout",
     "output_type": "stream",
     "text": [
      "准确率：91.01%\n"
     ]
    },
    {
     "data": {
      "application/vnd.jupyter.widget-view+json": {
       "model_id": "34503409d323499989e6848105973b94",
       "version_major": 2,
       "version_minor": 0
      },
      "text/plain": [
       "HBox(children=(IntProgress(value=0, max=500), HTML(value='')))"
      ]
     },
     "metadata": {},
     "output_type": "display_data"
    },
    {
     "name": "stdout",
     "output_type": "stream",
     "text": [
      "准确率：91.01%\n"
     ]
    },
    {
     "data": {
      "application/vnd.jupyter.widget-view+json": {
       "model_id": "480d1129db5847988877c365b867df9f",
       "version_major": 2,
       "version_minor": 0
      },
      "text/plain": [
       "HBox(children=(IntProgress(value=0, max=500), HTML(value='')))"
      ]
     },
     "metadata": {},
     "output_type": "display_data"
    },
    {
     "name": "stdout",
     "output_type": "stream",
     "text": [
      "准确率：91.0%\n"
     ]
    },
    {
     "data": {
      "application/vnd.jupyter.widget-view+json": {
       "model_id": "c602e9f6b6d543a1ae94e04a8021d827",
       "version_major": 2,
       "version_minor": 0
      },
      "text/plain": [
       "HBox(children=(IntProgress(value=0, max=500), HTML(value='')))"
      ]
     },
     "metadata": {},
     "output_type": "display_data"
    },
    {
     "name": "stdout",
     "output_type": "stream",
     "text": [
      "准确率：91.0%\n"
     ]
    },
    {
     "data": {
      "application/vnd.jupyter.widget-view+json": {
       "model_id": "5bdb2880b3e64cfba9f1a02fd29f73d6",
       "version_major": 2,
       "version_minor": 0
      },
      "text/plain": [
       "HBox(children=(IntProgress(value=0, max=500), HTML(value='')))"
      ]
     },
     "metadata": {},
     "output_type": "display_data"
    },
    {
     "name": "stdout",
     "output_type": "stream",
     "text": [
      "准确率：91.01%\n"
     ]
    },
    {
     "data": {
      "application/vnd.jupyter.widget-view+json": {
       "model_id": "0b72a16042924619aa81fc0628f8e609",
       "version_major": 2,
       "version_minor": 0
      },
      "text/plain": [
       "HBox(children=(IntProgress(value=0, max=500), HTML(value='')))"
      ]
     },
     "metadata": {},
     "output_type": "display_data"
    },
    {
     "name": "stdout",
     "output_type": "stream",
     "text": [
      "准确率：91.02%\n"
     ]
    },
    {
     "data": {
      "application/vnd.jupyter.widget-view+json": {
       "model_id": "5383bd68db874a4ba02741b0a496cf8d",
       "version_major": 2,
       "version_minor": 0
      },
      "text/plain": [
       "HBox(children=(IntProgress(value=0, max=500), HTML(value='')))"
      ]
     },
     "metadata": {},
     "output_type": "display_data"
    },
    {
     "name": "stdout",
     "output_type": "stream",
     "text": [
      "准确率：91.03%\n"
     ]
    },
    {
     "data": {
      "application/vnd.jupyter.widget-view+json": {
       "model_id": "c317ccdcf6c7499db3cef03681d252ec",
       "version_major": 2,
       "version_minor": 0
      },
      "text/plain": [
       "HBox(children=(IntProgress(value=0, max=500), HTML(value='')))"
      ]
     },
     "metadata": {},
     "output_type": "display_data"
    },
    {
     "name": "stdout",
     "output_type": "stream",
     "text": [
      "准确率：91.03%\n"
     ]
    },
    {
     "data": {
      "application/vnd.jupyter.widget-view+json": {
       "model_id": "bc1a47cd6eaa47b99a9abfef04630f16",
       "version_major": 2,
       "version_minor": 0
      },
      "text/plain": [
       "HBox(children=(IntProgress(value=0, max=500), HTML(value='')))"
      ]
     },
     "metadata": {},
     "output_type": "display_data"
    },
    {
     "name": "stdout",
     "output_type": "stream",
     "text": [
      "准确率：91.03%\n"
     ]
    },
    {
     "data": {
      "application/vnd.jupyter.widget-view+json": {
       "model_id": "5b3b77412d064f239865b2b65b2b7181",
       "version_major": 2,
       "version_minor": 0
      },
      "text/plain": [
       "HBox(children=(IntProgress(value=0, max=500), HTML(value='')))"
      ]
     },
     "metadata": {},
     "output_type": "display_data"
    },
    {
     "name": "stdout",
     "output_type": "stream",
     "text": [
      "准确率：91.03%\n"
     ]
    },
    {
     "data": {
      "application/vnd.jupyter.widget-view+json": {
       "model_id": "3d7633b05e0a49c3a1e1209bf19e853d",
       "version_major": 2,
       "version_minor": 0
      },
      "text/plain": [
       "HBox(children=(IntProgress(value=0, max=500), HTML(value='')))"
      ]
     },
     "metadata": {},
     "output_type": "display_data"
    },
    {
     "name": "stdout",
     "output_type": "stream",
     "text": [
      "准确率：91.03%\n"
     ]
    },
    {
     "data": {
      "application/vnd.jupyter.widget-view+json": {
       "model_id": "a6dcad79497b409cb5abb92af1dd7065",
       "version_major": 2,
       "version_minor": 0
      },
      "text/plain": [
       "HBox(children=(IntProgress(value=0, max=500), HTML(value='')))"
      ]
     },
     "metadata": {},
     "output_type": "display_data"
    },
    {
     "name": "stdout",
     "output_type": "stream",
     "text": [
      "准确率：91.03%\n"
     ]
    },
    {
     "data": {
      "application/vnd.jupyter.widget-view+json": {
       "model_id": "092c12eb61ec4384be75c9ccf9606cc2",
       "version_major": 2,
       "version_minor": 0
      },
      "text/plain": [
       "HBox(children=(IntProgress(value=0, max=500), HTML(value='')))"
      ]
     },
     "metadata": {},
     "output_type": "display_data"
    },
    {
     "name": "stdout",
     "output_type": "stream",
     "text": [
      "准确率：91.03%\n"
     ]
    },
    {
     "data": {
      "application/vnd.jupyter.widget-view+json": {
       "model_id": "fb3a5a96ae9e475395e77ddec728d8b8",
       "version_major": 2,
       "version_minor": 0
      },
      "text/plain": [
       "HBox(children=(IntProgress(value=0, max=500), HTML(value='')))"
      ]
     },
     "metadata": {},
     "output_type": "display_data"
    },
    {
     "name": "stdout",
     "output_type": "stream",
     "text": [
      "准确率：91.03%\n"
     ]
    },
    {
     "data": {
      "application/vnd.jupyter.widget-view+json": {
       "model_id": "5f3c1311395643feac82f5832ed70f05",
       "version_major": 2,
       "version_minor": 0
      },
      "text/plain": [
       "HBox(children=(IntProgress(value=0, max=500), HTML(value='')))"
      ]
     },
     "metadata": {},
     "output_type": "display_data"
    },
    {
     "name": "stdout",
     "output_type": "stream",
     "text": [
      "准确率：91.03%\n"
     ]
    },
    {
     "data": {
      "application/vnd.jupyter.widget-view+json": {
       "model_id": "8531bb65aa4d49f6a1a282dd2f850684",
       "version_major": 2,
       "version_minor": 0
      },
      "text/plain": [
       "HBox(children=(IntProgress(value=0, max=500), HTML(value='')))"
      ]
     },
     "metadata": {},
     "output_type": "display_data"
    },
    {
     "ename": "KeyboardInterrupt",
     "evalue": "",
     "output_type": "error",
     "traceback": [
      "\u001b[1;31m---------------------------------------------------------------------------\u001b[0m",
      "\u001b[1;31mKeyboardInterrupt\u001b[0m                         Traceback (most recent call last)",
      "\u001b[1;32m<ipython-input-30-a35e3e4dfc7c>\u001b[0m in \u001b[0;36m<module>\u001b[1;34m\u001b[0m\n\u001b[0;32m      2\u001b[0m \u001b[0mepoch\u001b[0m\u001b[1;33m=\u001b[0m\u001b[1;36m100\u001b[0m\u001b[1;33m\u001b[0m\u001b[1;33m\u001b[0m\u001b[0m\n\u001b[0;32m      3\u001b[0m \u001b[1;32mfor\u001b[0m \u001b[0mi\u001b[0m \u001b[1;32min\u001b[0m \u001b[0mtqdm_notebook\u001b[0m\u001b[1;33m(\u001b[0m\u001b[0mrange\u001b[0m\u001b[1;33m(\u001b[0m\u001b[0mepoch\u001b[0m\u001b[1;33m)\u001b[0m\u001b[1;33m)\u001b[0m\u001b[1;33m:\u001b[0m\u001b[1;33m\u001b[0m\u001b[1;33m\u001b[0m\u001b[0m\n\u001b[1;32m----> 4\u001b[1;33m     \u001b[0mtrain\u001b[0m\u001b[1;33m(\u001b[0m\u001b[1;33m)\u001b[0m\u001b[1;33m\u001b[0m\u001b[1;33m\u001b[0m\u001b[0m\n\u001b[0m\u001b[0;32m      5\u001b[0m     \u001b[0mvalidate_verify\u001b[0m\u001b[1;33m(\u001b[0m\u001b[0mparameters\u001b[0m\u001b[1;33m)\u001b[0m\u001b[1;33m\u001b[0m\u001b[1;33m\u001b[0m\u001b[0m\n\u001b[0;32m      6\u001b[0m \u001b[0mtem_time1\u001b[0m\u001b[1;33m=\u001b[0m\u001b[0mtime\u001b[0m\u001b[1;33m.\u001b[0m\u001b[0mtime\u001b[0m\u001b[1;33m(\u001b[0m\u001b[1;33m)\u001b[0m\u001b[1;33m\u001b[0m\u001b[1;33m\u001b[0m\u001b[0m\n",
      "\u001b[1;32m<ipython-input-28-2f6ebe967d43>\u001b[0m in \u001b[0;36mtrain\u001b[1;34m()\u001b[0m\n\u001b[0;32m      5\u001b[0m         \u001b[1;31m#time0=time.time()\u001b[0m\u001b[1;33m\u001b[0m\u001b[1;33m\u001b[0m\u001b[1;33m\u001b[0m\u001b[0m\n\u001b[0;32m      6\u001b[0m         \u001b[1;31m#print('#===============开始训练第'+str(i+1)+'/'+str(train_num//banch_num)+'组==============#')\u001b[0m\u001b[1;33m\u001b[0m\u001b[1;33m\u001b[0m\u001b[1;33m\u001b[0m\u001b[0m\n\u001b[1;32m----> 7\u001b[1;33m         \u001b[0mbanch_grad\u001b[0m\u001b[1;33m=\u001b[0m\u001b[0mcalculate_banch_grad\u001b[0m\u001b[1;33m(\u001b[0m\u001b[0mi\u001b[0m\u001b[1;33m)\u001b[0m\u001b[1;33m\u001b[0m\u001b[1;33m\u001b[0m\u001b[0m\n\u001b[0m\u001b[0;32m      8\u001b[0m \u001b[1;33m\u001b[0m\u001b[0m\n\u001b[0;32m      9\u001b[0m         \u001b[0mtrain_banch\u001b[0m\u001b[1;33m(\u001b[0m\u001b[0mbanch_grad\u001b[0m\u001b[1;33m,\u001b[0m\u001b[0mlearn_rate\u001b[0m\u001b[1;33m)\u001b[0m\u001b[1;33m\u001b[0m\u001b[1;33m\u001b[0m\u001b[0m\n",
      "\u001b[1;32m<ipython-input-17-d4b1d6c3d53c>\u001b[0m in \u001b[0;36mcalculate_banch_grad\u001b[1;34m(banch_time)\u001b[0m\n\u001b[0;32m      9\u001b[0m         \u001b[1;32mfor\u001b[0m \u001b[0mj\u001b[0m \u001b[1;32min\u001b[0m \u001b[0mrange\u001b[0m\u001b[1;33m(\u001b[0m\u001b[0mlen\u001b[0m\u001b[1;33m(\u001b[0m\u001b[0mbanch_grad\u001b[0m\u001b[1;33m)\u001b[0m\u001b[1;33m)\u001b[0m\u001b[1;33m:\u001b[0m\u001b[1;33m\u001b[0m\u001b[1;33m\u001b[0m\u001b[0m\n\u001b[0;32m     10\u001b[0m             \u001b[1;32mfor\u001b[0m \u001b[0mk\u001b[0m \u001b[1;32min\u001b[0m \u001b[0mbanch_grad\u001b[0m\u001b[1;33m[\u001b[0m\u001b[0mj\u001b[0m\u001b[1;33m]\u001b[0m\u001b[1;33m.\u001b[0m\u001b[0mkeys\u001b[0m\u001b[1;33m(\u001b[0m\u001b[1;33m)\u001b[0m\u001b[1;33m:\u001b[0m\u001b[1;33m\u001b[0m\u001b[1;33m\u001b[0m\u001b[0m\n\u001b[1;32m---> 11\u001b[1;33m                 \u001b[0mbanch_grad\u001b[0m\u001b[1;33m[\u001b[0m\u001b[0mj\u001b[0m\u001b[1;33m]\u001b[0m\u001b[1;33m[\u001b[0m\u001b[0mk\u001b[0m\u001b[1;33m]\u001b[0m\u001b[1;33m+=\u001b[0m\u001b[0mtem_grad\u001b[0m\u001b[1;33m[\u001b[0m\u001b[0mj\u001b[0m\u001b[1;33m]\u001b[0m\u001b[1;33m[\u001b[0m\u001b[0mk\u001b[0m\u001b[1;33m]\u001b[0m\u001b[1;33m\u001b[0m\u001b[1;33m\u001b[0m\u001b[0m\n\u001b[0m\u001b[0;32m     12\u001b[0m     \u001b[1;32mfor\u001b[0m \u001b[0mj\u001b[0m \u001b[1;32min\u001b[0m \u001b[0mrange\u001b[0m\u001b[1;33m(\u001b[0m\u001b[0mlen\u001b[0m\u001b[1;33m(\u001b[0m\u001b[0mbanch_grad\u001b[0m\u001b[1;33m)\u001b[0m\u001b[1;33m)\u001b[0m\u001b[1;33m:\u001b[0m\u001b[1;33m\u001b[0m\u001b[1;33m\u001b[0m\u001b[0m\n\u001b[0;32m     13\u001b[0m         \u001b[1;32mfor\u001b[0m \u001b[0mk\u001b[0m \u001b[1;32min\u001b[0m \u001b[0mbanch_grad\u001b[0m\u001b[1;33m[\u001b[0m\u001b[0mj\u001b[0m\u001b[1;33m]\u001b[0m\u001b[1;33m.\u001b[0m\u001b[0mkeys\u001b[0m\u001b[1;33m(\u001b[0m\u001b[1;33m)\u001b[0m\u001b[1;33m:\u001b[0m\u001b[1;33m\u001b[0m\u001b[1;33m\u001b[0m\u001b[0m\n",
      "\u001b[1;31mKeyboardInterrupt\u001b[0m: "
     ]
    }
   ],
   "source": [
    "tem_time0=time.time()\n",
    "epoch=100\n",
    "for i in tqdm_notebook(range(epoch)):\n",
    "    train()\n",
    "    validate_verify(parameters)\n",
    "tem_time1=time.time()\n",
    "print('总用时：{}'.format(tem_time1-tem_time0))\n"
   ]
  },
  {
   "cell_type": "code",
   "execution_count": 23,
   "metadata": {},
   "outputs": [
    {
     "name": "stdout",
     "output_type": "stream",
     "text": [
      "准确率：91.72%\n"
     ]
    }
   ],
   "source": [
    "#未训练时\n",
    "validate_verify(parameters)"
   ]
  },
  {
   "cell_type": "code",
   "execution_count": 25,
   "metadata": {},
   "outputs": [
    {
     "name": "stdout",
     "output_type": "stream",
     "text": [
      "准确率：92.17%\n"
     ]
    }
   ],
   "source": [
    "#训练前77组(每组500个数据)数据后\n",
    "validate_verify(parameters)"
   ]
  },
  {
   "cell_type": "code",
   "execution_count": 259,
   "metadata": {},
   "outputs": [
    {
     "name": "stdout",
     "output_type": "stream",
     "text": [
      "准确率：88.74%\n"
     ]
    }
   ],
   "source": [
    "#训练前85组(每组500个数据)数据后\n",
    "validate_verify(parameters)"
   ]
  },
  {
   "cell_type": "code",
   "execution_count": 45,
   "metadata": {},
   "outputs": [
    {
     "name": "stdout",
     "output_type": "stream",
     "text": [
      "准确率：93.54%\n"
     ]
    }
   ],
   "source": [
    "#训练前89组(每组500个数据)数据后\n",
    "validate_verify(parameters)"
   ]
  },
  {
   "cell_type": "code",
   "execution_count": 272,
   "metadata": {},
   "outputs": [
    {
     "name": "stdout",
     "output_type": "stream",
     "text": [
      "准确率：92.19%\n"
     ]
    }
   ],
   "source": [
    "validate_verify(parameters)"
   ]
  },
  {
   "cell_type": "code",
   "execution_count": 276,
   "metadata": {},
   "outputs": [
    {
     "name": "stdout",
     "output_type": "stream",
     "text": [
      "准确率：92.5%\n"
     ]
    }
   ],
   "source": [
    "validate_verify(parameters)"
   ]
  },
  {
   "cell_type": "code",
   "execution_count": 46,
   "metadata": {},
   "outputs": [],
   "source": [
    "def rrrr(index):\n",
    "    print('预测序号：{}'.format(index))\n",
    "    print('我的预测：{}'.format(predict(train_image[index],parameters).argmax()))\n",
    "    show_train(index)\n"
   ]
  },
  {
   "cell_type": "code",
   "execution_count": 43,
   "metadata": {},
   "outputs": [],
   "source": [
    "def validate_verify_show():\n",
    "    error_num=0\n",
    "    for i in range(validate_num):\n",
    "        predict_label=predict(validate_image[i],parameters).argmax()\n",
    "        if predict_label!=validate_label[i]:\n",
    "            error_num+=1\n",
    "            print('预测序号：{}'.format(i))\n",
    "            print('我的预测：{}'.format(predict_label))\n",
    "            show_validate(i)"
   ]
  },
  {
   "cell_type": "code",
   "execution_count": 44,
   "metadata": {
    "collapsed": true
   },
   "outputs": [
    {
     "name": "stdout",
     "output_type": "stream",
     "text": [
      "预测序号：7\n",
      "我的预测：5\n",
      "label:3\n"
     ]
    },
    {
     "data": {
      "image/png": "[encoded data removed]",
      "text/plain": [
       "<Figure size 432x288 with 1 Axes>"
      ]
     },
     "metadata": {
      "needs_background": "light"
     },
     "output_type": "display_data"
    },
    {
     "name": "stdout",
     "output_type": "stream",
     "text": [
      "预测序号：17\n",
      "我的预测：8\n",
      "label:5\n"
     ]
    },
    {
     "data": {
      "image/png": "[encoded data removed]",
      "text/plain": [
       "<Figure size 432x288 with 1 Axes>"
      ]
     },
     "metadata": {
      "needs_background": "light"
     },
     "output_type": "display_data"
    },
    {
     "name": "stdout",
     "output_type": "stream",
     "text": [
      "预测序号：25\n",
      "我的预测：6\n",
      "label:3\n"
     ]
    },
    {
     "data": {
      "image/png": "[encoded data removed]",
      "text/plain": [
       "<Figure size 432x288 with 1 Axes>"
      ]
     },
     "metadata": {
      "needs_background": "light"
     },
     "output_type": "display_data"
    },
    {
     "name": "stdout",
     "output_type": "stream",
     "text": [
      "预测序号：33\n",
      "我的预测：5\n",
      "label:3\n"
     ]
    },
    {
     "data": {
      "image/png": "[encoded data removed]",
      "text/plain": [
       "<Figure size 432x288 with 1 Axes>"
      ]
     },
     "metadata": {
      "needs_background": "light"
     },
     "output_type": "display_data"
    },
    {
     "name": "stdout",
     "output_type": "stream",
     "text": [
      "预测序号：52\n",
      "我的预测：6\n",
      "label:2\n"
     ]
    },
    {
     "data": {
      "image/png": "[encoded data removed]",
      "text/plain": [
       "<Figure size 432x288 with 1 Axes>"
      ]
     },
     "metadata": {
      "needs_background": "light"
     },
     "output_type": "display_data"
    },
    {
     "name": "stdout",
     "output_type": "stream",
     "text": [
      "预测序号：78\n",
      "我的预测：3\n",
      "label:9\n"
     ]
    },
    {
     "data": {
      "image/png": "[encoded data removed]",
      "text/plain": [
       "<Figure size 432x288 with 1 Axes>"
      ]
     },
     "metadata": {
      "needs_background": "light"
     },
     "output_type": "display_data"
    },
    {
     "name": "stdout",
     "output_type": "stream",
     "text": [
      "预测序号：79\n",
      "我的预测：4\n",
      "label:9\n"
     ]
    },
    {
     "data": {
      "image/png": "[encoded data removed]",
      "text/plain": [
       "<Figure size 432x288 with 1 Axes>"
      ]
     },
     "metadata": {
      "needs_background": "light"
     },
     "output_type": "display_data"
    },
    {
     "name": "stdout",
     "output_type": "stream",
     "text": [
      "预测序号：90\n",
      "我的预测：9\n",
      "label:4\n"
     ]
    },
    {
     "data": {
      "image/png": "[encoded data removed]",
      "text/plain": [
       "<Figure size 432x288 with 1 Axes>"
      ]
     },
     "metadata": {
      "needs_background": "light"
     },
     "output_type": "display_data"
    },
    {
     "name": "stdout",
     "output_type": "stream",
     "text": [
      "预测序号：120\n",
      "我的预测：4\n",
      "label:1\n"
     ]
    },
    {
     "data": {
      "image/png": "[encoded data removed]",
      "text/plain": [
       "<Figure size 432x288 with 1 Axes>"
      ]
     },
     "metadata": {
      "needs_background": "light"
     },
     "output_type": "display_data"
    },
    {
     "name": "stdout",
     "output_type": "stream",
     "text": [
      "预测序号：144\n",
      "我的预测：4\n",
      "label:9\n"
     ]
    },
    {
     "data": {
      "image/png": "[encoded data removed]",
      "text/plain": [
       "<Figure size 432x288 with 1 Axes>"
      ]
     },
     "metadata": {
      "needs_background": "light"
     },
     "output_type": "display_data"
    },
    {
     "name": "stdout",
     "output_type": "stream",
     "text": [
      "预测序号：149\n",
      "我的预测：6\n",
      "label:4\n"
     ]
    },
    {
     "data": {
      "image/png": "[encoded data removed]",
      "text/plain": [
       "<Figure size 432x288 with 1 Axes>"
      ]
     },
     "metadata": {
      "needs_background": "light"
     },
     "output_type": "display_data"
    },
    {
     "name": "stdout",
     "output_type": "stream",
     "text": [
      "预测序号：155\n",
      "我的预测：3\n",
      "label:5\n"
     ]
    },
    {
     "data": {
      "image/png": "[encoded data removed]",
      "text/plain": [
       "<Figure size 432x288 with 1 Axes>"
      ]
     },
     "metadata": {
      "needs_background": "light"
     },
     "output_type": "display_data"
    },
    {
     "name": "stdout",
     "output_type": "stream",
     "text": [
      "预测序号：192\n",
      "我的预测：6\n",
      "label:0\n"
     ]
    },
    {
     "data": {
      "image/png": "[encoded data removed]",
      "text/plain": [
       "<Figure size 432x288 with 1 Axes>"
      ]
     },
     "metadata": {
      "needs_background": "light"
     },
     "output_type": "display_data"
    },
    {
     "name": "stdout",
     "output_type": "stream",
     "text": [
      "预测序号：212\n",
      "我的预测：8\n",
      "label:3\n"
     ]
    },
    {
     "data": {
      "image/png": "[encoded data removed]",
      "text/plain": [
       "<Figure size 432x288 with 1 Axes>"
      ]
     },
     "metadata": {
      "needs_background": "light"
     },
     "output_type": "display_data"
    },
    {
     "name": "stdout",
     "output_type": "stream",
     "text": [
      "预测序号：223\n",
      "我的预测：8\n",
      "label:5\n"
     ]
    },
    {
     "data": {
      "image/png": "[encoded data removed]",
      "text/plain": [
       "<Figure size 432x288 with 1 Axes>"
      ]
     },
     "metadata": {
      "needs_background": "light"
     },
     "output_type": "display_data"
    },
    {
     "name": "stdout",
     "output_type": "stream",
     "text": [
      "预测序号：228\n",
      "我的预测：0\n",
      "label:9\n"
     ]
    },
    {
     "data": {
      "image/png": "[encoded data removed]",
      "text/plain": [
       "<Figure size 432x288 with 1 Axes>"
      ]
     },
     "metadata": {
      "needs_background": "light"
     },
     "output_type": "display_data"
    },
    {
     "name": "stdout",
     "output_type": "stream",
     "text": [
      "预测序号：233\n",
      "我的预测：9\n",
      "label:7\n"
     ]
    },
    {
     "data": {
      "image/png": "[encoded data removed]",
      "text/plain": [
       "<Figure size 432x288 with 1 Axes>"
      ]
     },
     "metadata": {
      "needs_background": "light"
     },
     "output_type": "display_data"
    },
    {
     "name": "stdout",
     "output_type": "stream",
     "text": [
      "预测序号：236\n",
      "我的预测：8\n",
      "label:0\n"
     ]
    },
    {
     "data": {
      "image/png": "[encoded data removed]",
      "text/plain": [
       "<Figure size 432x288 with 1 Axes>"
      ]
     },
     "metadata": {
      "needs_background": "light"
     },
     "output_type": "display_data"
    },
    {
     "name": "stdout",
     "output_type": "stream",
     "text": [
      "预测序号：239\n",
      "我的预测：0\n",
      "label:9\n"
     ]
    },
    {
     "data": {
      "image/png": "[encoded data removed]",
      "text/plain": [
       "<Figure size 432x288 with 1 Axes>"
      ]
     },
     "metadata": {
      "needs_background": "light"
     },
     "output_type": "display_data"
    },
    {
     "name": "stdout",
     "output_type": "stream",
     "text": [
      "预测序号：246\n",
      "我的预测：7\n",
      "label:8\n"
     ]
    },
    {
     "data": {
      "image/png": "[encoded data removed]",
      "text/plain": [
       "<Figure size 432x288 with 1 Axes>"
      ]
     },
     "metadata": {
      "needs_background": "light"
     },
     "output_type": "display_data"
    },
    {
     "name": "stdout",
     "output_type": "stream",
     "text": [
      "预测序号：274\n",
      "我的预测：3\n",
      "label:8\n"
     ]
    },
    {
     "data": {
      "image/png": "[encoded data removed]",
      "text/plain": [
       "<Figure size 432x288 with 1 Axes>"
      ]
     },
     "metadata": {
      "needs_background": "light"
     },
     "output_type": "display_data"
    },
    {
     "name": "stdout",
     "output_type": "stream",
     "text": [
      "预测序号：297\n",
      "我的预测：5\n",
      "label:3\n"
     ]
    },
    {
     "data": {
      "image/png": "[encoded data removed]",
      "text/plain": [
       "<Figure size 432x288 with 1 Axes>"
      ]
     },
     "metadata": {
      "needs_background": "light"
     },
     "output_type": "display_data"
    },
    {
     "name": "stdout",
     "output_type": "stream",
     "text": [
      "预测序号：317\n",
      "我的预测：5\n",
      "label:3\n"
     ]
    },
    {
     "data": {
      "image/png": "[encoded data removed]",
      "text/plain": [
       "<Figure size 432x288 with 1 Axes>"
      ]
     },
     "metadata": {
      "needs_background": "light"
     },
     "output_type": "display_data"
    },
    {
     "name": "stdout",
     "output_type": "stream",
     "text": [
      "预测序号：320\n",
      "我的预测：7\n",
      "label:5\n"
     ]
    },
    {
     "data": {
      "image/png": "[encoded data removed]",
      "text/plain": [
       "<Figure size 432x288 with 1 Axes>"
      ]
     },
     "metadata": {
      "needs_background": "light"
     },
     "output_type": "display_data"
    },
    {
     "name": "stdout",
     "output_type": "stream",
     "text": [
      "预测序号：322\n",
      "我的预测：3\n",
      "label:5\n"
     ]
    },
    {
     "data": {
      "image/png": "[encoded data removed]",
      "text/plain": [
       "<Figure size 432x288 with 1 Axes>"
      ]
     },
     "metadata": {
      "needs_background": "light"
     },
     "output_type": "display_data"
    },
    {
     "name": "stdout",
     "output_type": "stream",
     "text": [
      "预测序号：329\n",
      "我的预测：7\n",
      "label:9\n"
     ]
    },
    {
     "data": {
      "image/png": "[encoded data removed]",
      "text/plain": [
       "<Figure size 432x288 with 1 Axes>"
      ]
     },
     "metadata": {
      "needs_background": "light"
     },
     "output_type": "display_data"
    },
    {
     "name": "stdout",
     "output_type": "stream",
     "text": [
      "预测序号：340\n",
      "我的预测：2\n",
      "label:3\n"
     ]
    },
    {
     "data": {
      "image/png": "[encoded data removed]",
      "text/plain": [
       "<Figure size 432x288 with 1 Axes>"
      ]
     },
     "metadata": {
      "needs_background": "light"
     },
     "output_type": "display_data"
    },
    {
     "name": "stdout",
     "output_type": "stream",
     "text": [
      "预测序号：359\n",
      "我的预测：1\n",
      "label:7\n"
     ]
    },
    {
     "data": {
      "image/png": "[encoded data removed]",
      "text/plain": [
       "<Figure size 432x288 with 1 Axes>"
      ]
     },
     "metadata": {
      "needs_background": "light"
     },
     "output_type": "display_data"
    },
    {
     "name": "stdout",
     "output_type": "stream",
     "text": [
      "预测序号：369\n",
      "我的预测：9\n",
      "label:3\n"
     ]
    },
    {
     "data": {
      "image/png": "[encoded data removed]",
      "text/plain": [
       "<Figure size 432x288 with 1 Axes>"
      ]
     },
     "metadata": {
      "needs_background": "light"
     },
     "output_type": "display_data"
    },
    {
     "name": "stdout",
     "output_type": "stream",
     "text": [
      "预测序号：371\n",
      "我的预测：0\n",
      "label:7\n"
     ]
    },
    {
     "data": {
      "image/png": "[encoded data removed]",
      "text/plain": [
       "<Figure size 432x288 with 1 Axes>"
      ]
     },
     "metadata": {
      "needs_background": "light"
     },
     "output_type": "display_data"
    },
    {
     "name": "stdout",
     "output_type": "stream",
     "text": [
      "预测序号：391\n",
      "我的预测：4\n",
      "label:9\n"
     ]
    },
    {
     "data": {
      "image/png": "[encoded data removed]",
      "text/plain": [
       "<Figure size 432x288 with 1 Axes>"
      ]
     },
     "metadata": {
      "needs_background": "light"
     },
     "output_type": "display_data"
    },
    {
     "name": "stdout",
     "output_type": "stream",
     "text": [
      "预测序号：396\n",
      "我的预测：5\n",
      "label:1\n"
     ]
    },
    {
     "data": {
      "image/png": "[encoded data removed]",
      "text/plain": [
       "<Figure size 432x288 with 1 Axes>"
      ]
     },
     "metadata": {
      "needs_background": "light"
     },
     "output_type": "display_data"
    },
    {
     "ename": "KeyboardInterrupt",
     "evalue": "",
     "output_type": "error",
     "traceback": [
      "\u001b[1;31m---------------------------------------------------------------------------\u001b[0m",
      "\u001b[1;31mKeyboardInterrupt\u001b[0m                         Traceback (most recent call last)",
      "\u001b[1;32m<ipython-input-44-d58c12cab2ba>\u001b[0m in \u001b[0;36m<module>\u001b[1;34m\u001b[0m\n\u001b[1;32m----> 1\u001b[1;33m \u001b[0mvalidate_verify_show\u001b[0m\u001b[1;33m(\u001b[0m\u001b[1;33m)\u001b[0m\u001b[1;33m\u001b[0m\u001b[1;33m\u001b[0m\u001b[0m\n\u001b[0m",
      "\u001b[1;32m<ipython-input-43-3c402bac45b2>\u001b[0m in \u001b[0;36mvalidate_verify_show\u001b[1;34m()\u001b[0m\n\u001b[0;32m      7\u001b[0m             \u001b[0mprint\u001b[0m\u001b[1;33m(\u001b[0m\u001b[1;34m'预测序号：{}'\u001b[0m\u001b[1;33m.\u001b[0m\u001b[0mformat\u001b[0m\u001b[1;33m(\u001b[0m\u001b[0mi\u001b[0m\u001b[1;33m)\u001b[0m\u001b[1;33m)\u001b[0m\u001b[1;33m\u001b[0m\u001b[1;33m\u001b[0m\u001b[0m\n\u001b[0;32m      8\u001b[0m             \u001b[0mprint\u001b[0m\u001b[1;33m(\u001b[0m\u001b[1;34m'我的预测：{}'\u001b[0m\u001b[1;33m.\u001b[0m\u001b[0mformat\u001b[0m\u001b[1;33m(\u001b[0m\u001b[0mpredict_label\u001b[0m\u001b[1;33m)\u001b[0m\u001b[1;33m)\u001b[0m\u001b[1;33m\u001b[0m\u001b[1;33m\u001b[0m\u001b[0m\n\u001b[1;32m----> 9\u001b[1;33m             \u001b[0mshow_validate\u001b[0m\u001b[1;33m(\u001b[0m\u001b[0mi\u001b[0m\u001b[1;33m)\u001b[0m\u001b[1;33m\u001b[0m\u001b[1;33m\u001b[0m\u001b[0m\n\u001b[0m",
      "\u001b[1;32m<ipython-input-9-7057d94968f7>\u001b[0m in \u001b[0;36mshow_validate\u001b[1;34m(index)\u001b[0m\n\u001b[0;32m      9\u001b[0m     \u001b[0ma_image\u001b[0m\u001b[1;33m=\u001b[0m\u001b[0mvalidate_image\u001b[0m\u001b[1;33m[\u001b[0m\u001b[0mindex\u001b[0m\u001b[1;33m]\u001b[0m\u001b[1;33m.\u001b[0m\u001b[0mreshape\u001b[0m\u001b[1;33m(\u001b[0m\u001b[1;33m-\u001b[0m\u001b[1;36m1\u001b[0m\u001b[1;33m,\u001b[0m\u001b[1;36m28\u001b[0m\u001b[1;33m)\u001b[0m\u001b[1;33m\u001b[0m\u001b[1;33m\u001b[0m\u001b[0m\n\u001b[0;32m     10\u001b[0m     \u001b[0mplt\u001b[0m\u001b[1;33m.\u001b[0m\u001b[0mimshow\u001b[0m\u001b[1;33m(\u001b[0m\u001b[0ma_image\u001b[0m\u001b[1;33m,\u001b[0m\u001b[0mcmap\u001b[0m\u001b[1;33m=\u001b[0m\u001b[1;34m'gray'\u001b[0m\u001b[1;33m)\u001b[0m\u001b[1;33m\u001b[0m\u001b[1;33m\u001b[0m\u001b[0m\n\u001b[1;32m---> 11\u001b[1;33m     \u001b[0mplt\u001b[0m\u001b[1;33m.\u001b[0m\u001b[0mpause\u001b[0m\u001b[1;33m(\u001b[0m\u001b[1;36m3\u001b[0m\u001b[1;33m)\u001b[0m\u001b[1;33m\u001b[0m\u001b[1;33m\u001b[0m\u001b[0m\n\u001b[0m\u001b[0;32m     12\u001b[0m \u001b[1;33m\u001b[0m\u001b[0m\n\u001b[0;32m     13\u001b[0m \u001b[1;32mdef\u001b[0m \u001b[0mshow_test\u001b[0m\u001b[1;33m(\u001b[0m\u001b[0mindex\u001b[0m\u001b[1;33m)\u001b[0m\u001b[1;33m:\u001b[0m\u001b[1;33m\u001b[0m\u001b[1;33m\u001b[0m\u001b[0m\n",
      "\u001b[1;32m~\\Anaconda3\\lib\\site-packages\\matplotlib\\pyplot.py\u001b[0m in \u001b[0;36mpause\u001b[1;34m(interval)\u001b[0m\n\u001b[0;32m    302\u001b[0m             \u001b[0mcanvas\u001b[0m\u001b[1;33m.\u001b[0m\u001b[0mdraw_idle\u001b[0m\u001b[1;33m(\u001b[0m\u001b[1;33m)\u001b[0m\u001b[1;33m\u001b[0m\u001b[1;33m\u001b[0m\u001b[0m\n\u001b[0;32m    303\u001b[0m         \u001b[0mshow\u001b[0m\u001b[1;33m(\u001b[0m\u001b[0mblock\u001b[0m\u001b[1;33m=\u001b[0m\u001b[1;32mFalse\u001b[0m\u001b[1;33m)\u001b[0m\u001b[1;33m\u001b[0m\u001b[1;33m\u001b[0m\u001b[0m\n\u001b[1;32m--> 304\u001b[1;33m         \u001b[0mcanvas\u001b[0m\u001b[1;33m.\u001b[0m\u001b[0mstart_event_loop\u001b[0m\u001b[1;33m(\u001b[0m\u001b[0minterval\u001b[0m\u001b[1;33m)\u001b[0m\u001b[1;33m\u001b[0m\u001b[1;33m\u001b[0m\u001b[0m\n\u001b[0m\u001b[0;32m    305\u001b[0m     \u001b[1;32melse\u001b[0m\u001b[1;33m:\u001b[0m\u001b[1;33m\u001b[0m\u001b[1;33m\u001b[0m\u001b[0m\n\u001b[0;32m    306\u001b[0m         \u001b[0mtime\u001b[0m\u001b[1;33m.\u001b[0m\u001b[0msleep\u001b[0m\u001b[1;33m(\u001b[0m\u001b[0minterval\u001b[0m\u001b[1;33m)\u001b[0m\u001b[1;33m\u001b[0m\u001b[1;33m\u001b[0m\u001b[0m\n",
      "\u001b[1;32m~\\Anaconda3\\lib\\site-packages\\matplotlib\\backend_bases.py\u001b[0m in \u001b[0;36mstart_event_loop\u001b[1;34m(self, timeout)\u001b[0m\n\u001b[0;32m   2258\u001b[0m         \u001b[1;32mwhile\u001b[0m \u001b[0mself\u001b[0m\u001b[1;33m.\u001b[0m\u001b[0m_looping\u001b[0m \u001b[1;32mand\u001b[0m \u001b[0mcounter\u001b[0m \u001b[1;33m*\u001b[0m \u001b[0mtimestep\u001b[0m \u001b[1;33m<\u001b[0m \u001b[0mtimeout\u001b[0m\u001b[1;33m:\u001b[0m\u001b[1;33m\u001b[0m\u001b[1;33m\u001b[0m\u001b[0m\n\u001b[0;32m   2259\u001b[0m             \u001b[0mself\u001b[0m\u001b[1;33m.\u001b[0m\u001b[0mflush_events\u001b[0m\u001b[1;33m(\u001b[0m\u001b[1;33m)\u001b[0m\u001b[1;33m\u001b[0m\u001b[1;33m\u001b[0m\u001b[0m\n\u001b[1;32m-> 2260\u001b[1;33m             \u001b[0mtime\u001b[0m\u001b[1;33m.\u001b[0m\u001b[0msleep\u001b[0m\u001b[1;33m(\u001b[0m\u001b[0mtimestep\u001b[0m\u001b[1;33m)\u001b[0m\u001b[1;33m\u001b[0m\u001b[1;33m\u001b[0m\u001b[0m\n\u001b[0m\u001b[0;32m   2261\u001b[0m             \u001b[0mcounter\u001b[0m \u001b[1;33m+=\u001b[0m \u001b[1;36m1\u001b[0m\u001b[1;33m\u001b[0m\u001b[1;33m\u001b[0m\u001b[0m\n\u001b[0;32m   2262\u001b[0m \u001b[1;33m\u001b[0m\u001b[0m\n",
      "\u001b[1;31mKeyboardInterrupt\u001b[0m: "
     ]
    }
   ],
   "source": [
    "validate_verify_show()"
   ]
  },
  {
   "cell_type": "code",
   "execution_count": 334,
   "metadata": {},
   "outputs": [
    {
     "name": "stdout",
     "output_type": "stream",
     "text": [
      "准确率：90.538%\n"
     ]
    }
   ],
   "source": [
    "train_verify(parameters)"
   ]
  },
  {
   "cell_type": "code",
   "execution_count": 35,
   "metadata": {},
   "outputs": [
    {
     "name": "stdout",
     "output_type": "stream",
     "text": [
      "准确率：91.5%\n"
     ]
    }
   ],
   "source": [
    "test_verify(parameters)"
   ]
  },
  {
   "cell_type": "code",
   "execution_count": 36,
   "metadata": {},
   "outputs": [
    {
     "name": "stdout",
     "output_type": "stream",
     "text": [
      "准确率：91.59%\n"
     ]
    }
   ],
   "source": [
    "validate_verify(parameters)"
   ]
  },
  {
   "cell_type": "code",
   "execution_count": 106,
   "metadata": {},
   "outputs": [],
   "source": [
    "def train_random_verify():\n",
    "    error_num=0\n",
    "    rand_num=100\n",
    "    for i in range(rand_num):\n",
    "        \n",
    "        index=random.randint(0,train_num)\n",
    "        pr=predict(train_image[index],parameters)\n",
    "        pe=pr.argmax()\n",
    "        px=train_label[index]\n",
    "        if px!=pe:\n",
    "            print('{}====not===={}'.format(px,pe))\n",
    "            print(pr)\n",
    "            error_num+=1\n",
    "    #print('随机预测准确率为：{}%'.format(100-100*error_num/rand_num))\n",
    "    return 100-100*error_num/rand_num"
   ]
  },
  {
   "cell_type": "code",
   "execution_count": 107,
   "metadata": {
    "collapsed": true
   },
   "outputs": [
    {
     "name": "stdout",
     "output_type": "stream",
     "text": [
      "5====not====6\n",
      "[9.96882347e-05 6.58556419e-10 7.93776892e-07 2.84090552e-06\n",
      " 1.55765956e-07 3.05181890e-02 9.68453850e-01 7.26243871e-13\n",
      " 9.24261240e-04 2.20496255e-07]\n",
      "7====not====9\n",
      "[5.78069969e-09 5.59674622e-03 3.51212804e-04 7.18226890e-08\n",
      " 2.77628035e-02 3.53399730e-09 2.00244522e-05 4.02743438e-01\n",
      " 7.84903575e-03 5.55676658e-01]\n",
      "3====not====5\n",
      "[3.38221808e-04 1.22059995e-05 7.51197581e-09 4.24376351e-03\n",
      " 1.32540213e-06 9.86118230e-01 5.34174713e-04 3.78418990e-07\n",
      " 8.64672060e-03 1.04971979e-04]\n",
      "9====not====7\n",
      "[2.03156556e-07 3.47519638e-03 6.55627050e-07 9.92119864e-03\n",
      " 2.35622429e-04 4.54699184e-04 7.85908409e-07 6.51338470e-01\n",
      " 1.31574077e-03 3.33257427e-01]\n",
      "5====not====7\n",
      "[7.11869235e-04 2.38777618e-13 3.02686042e-15 5.35847771e-04\n",
      " 1.53297182e-08 4.05112720e-01 3.29981242e-13 5.88099456e-01\n",
      " 1.98950014e-03 3.55059146e-03]\n",
      "7====not====4\n",
      "[2.09355284e-13 6.25101735e-11 1.22670825e-10 2.23207493e-08\n",
      " 9.83187570e-01 3.19217600e-10 1.38579479e-04 7.86540255e-05\n",
      " 5.51575508e-03 1.10794187e-02]\n",
      "4====not====9\n",
      "[8.57075443e-07 1.41470396e-04 3.30123071e-06 7.08351033e-05\n",
      " 1.03767808e-02 1.30447907e-05 1.42846124e-05 3.46201678e-07\n",
      " 4.39134325e-01 5.50244755e-01]\n",
      "7====not====2\n",
      "[7.39789622e-07 5.60031800e-05 9.67326360e-01 1.33220675e-02\n",
      " 1.23142175e-03 7.58028704e-05 8.96771366e-05 7.76983285e-04\n",
      " 1.58763225e-02 1.24462156e-03]\n",
      "9====not====7\n",
      "[1.94313484e-10 1.76854757e-05 7.37876319e-08 1.80778946e-04\n",
      " 4.03702064e-10 1.66475876e-07 2.09529316e-12 9.93619214e-01\n",
      " 9.43106023e-05 6.08777024e-03]\n",
      "7====not====2\n",
      "[1.34493406e-03 7.91398244e-04 6.08152968e-01 3.08613855e-01\n",
      " 1.00542812e-04 4.79358123e-02 3.64130452e-04 1.20987416e-02\n",
      " 1.83939209e-02 2.20369681e-03]\n",
      "0====not====8\n",
      "[7.24915372e-04 5.29026596e-05 3.51338916e-01 3.63788822e-03\n",
      " 4.09727123e-03 2.28662398e-05 7.92711435e-02 6.76584766e-02\n",
      " 4.60258682e-01 3.29369382e-02]\n",
      "8====not====0\n",
      "[5.53463356e-01 3.29793649e-12 4.14991619e-06 1.00507518e-08\n",
      " 4.32606412e-07 4.30507887e-01 1.99036228e-04 3.36046203e-03\n",
      " 1.12196936e-02 1.24497271e-03]\n",
      "7====not====8\n",
      "[1.66255514e-08 2.91921920e-01 6.95165646e-06 1.09219048e-04\n",
      " 4.46417898e-07 1.25307978e-02 4.67306195e-06 3.10478786e-03\n",
      " 6.50690660e-01 4.16305271e-02]\n",
      "2====not====8\n",
      "[2.48141600e-07 1.15433814e-07 1.59043081e-03 2.43929768e-07\n",
      " 4.78867432e-10 2.32368910e-05 4.58072033e-07 2.88560705e-04\n",
      " 9.97358505e-01 7.38200789e-04]\n",
      "3====not====5\n",
      "[7.41335011e-04 5.41585366e-05 2.22852160e-04 3.27141832e-01\n",
      " 8.20474416e-06 6.58039917e-01 6.67187526e-07 4.42283259e-10\n",
      " 1.37902234e-02 8.10313745e-07]\n",
      "9====not====3\n",
      "[2.68102127e-02 7.38816082e-11 1.89699305e-07 9.71606958e-01\n",
      " 5.92943180e-07 1.19338851e-04 2.93715540e-06 1.47374533e-06\n",
      " 1.40308581e-03 5.52115351e-05]\n",
      "5====not====9\n",
      "[5.40142385e-04 1.14257099e-05 4.01980250e-05 3.29134129e-01\n",
      " 6.15204216e-03 3.23314768e-03 1.46832257e-06 4.68887957e-03\n",
      " 6.84246632e-02 5.87773904e-01]\n",
      "1====not====3\n",
      "[9.96281640e-05 1.94148250e-04 7.19332903e-02 9.16994564e-01\n",
      " 1.97029897e-07 9.01160931e-03 9.99623348e-06 1.50812065e-04\n",
      " 1.47194293e-03 1.33812003e-04]\n",
      "1====not====8\n",
      "[3.23230490e-08 2.01804032e-01 5.60829766e-05 2.83234395e-02\n",
      " 2.98551057e-04 1.01626712e-04 1.07923243e-06 3.81434929e-03\n",
      " 6.67957317e-01 9.76434898e-02]\n",
      "5====not====2\n",
      "[2.19933292e-04 3.12518291e-02 7.49087840e-01 8.87449014e-03\n",
      " 7.38963968e-09 1.99557422e-01 5.25459830e-04 4.19237797e-08\n",
      " 1.04827232e-02 2.52974939e-07]\n",
      "4====not====9\n",
      "[3.51407124e-08 7.73752848e-10 2.04749854e-07 1.74523768e-08\n",
      " 1.33456362e-01 2.07784342e-06 3.29155745e-05 6.25565474e-03\n",
      " 2.50329497e-02 8.35219782e-01]\n",
      "2====not====8\n",
      "[7.64866618e-09 4.20385739e-05 9.70706385e-02 9.57313755e-02\n",
      " 2.50383617e-07 6.65815709e-04 5.05697628e-04 9.07363579e-12\n",
      " 8.05926167e-01 5.80092963e-05]\n",
      "8====not====9\n",
      "[3.38169121e-06 7.65964344e-09 7.63837449e-04 3.94549692e-01\n",
      " 6.90247081e-03 1.04968189e-04 3.42288816e-07 6.78658160e-06\n",
      " 6.05543976e-02 5.37114116e-01]\n",
      "5====not====6\n",
      "[5.02210073e-02 1.93104416e-05 4.88275102e-05 7.04517466e-09\n",
      " 3.93475058e-09 5.00232253e-02 8.99241317e-01 6.71848906e-11\n",
      " 4.46271228e-04 3.04784385e-08]\n",
      "5====not====8\n",
      "[2.94659727e-04 5.09479785e-08 1.81057302e-03 6.63353869e-07\n",
      " 9.47588977e-02 8.41952624e-03 8.12489803e-04 7.28660027e-09\n",
      " 8.41630617e-01 5.22725152e-02]\n",
      "9====not====5\n",
      "[9.54421873e-03 2.94582055e-08 1.99082342e-03 7.43524811e-03\n",
      " 1.11035627e-02 9.07717692e-01 3.48469698e-05 2.00922080e-03\n",
      " 1.29668849e-02 4.71974725e-02]\n",
      "2====not====7\n",
      "[9.85483489e-14 2.71381174e-08 5.80057988e-05 1.50768149e-05\n",
      " 4.85784698e-07 1.45458789e-08 4.63295520e-08 9.99887383e-01\n",
      " 3.83859932e-05 5.75026645e-07]\n",
      "3====not====8\n",
      "[9.48211643e-07 4.12943380e-05 5.60615496e-07 3.60902066e-01\n",
      " 1.20176206e-05 2.25988542e-04 5.55321208e-06 1.09271373e-09\n",
      " 6.38018948e-01 7.92622335e-04]\n",
      "1====not====2\n",
      "[2.95841333e-04 2.62495060e-01 4.06690226e-01 5.24730898e-02\n",
      " 1.68543853e-05 1.36513294e-01 2.30134454e-02 5.67187283e-05\n",
      " 1.17549741e-01 8.95729551e-04]\n",
      "3====not====0\n",
      "[9.46200989e-01 6.62153985e-10 5.37695983e-02 1.33197196e-06\n",
      " 7.20115780e-10 2.73560499e-05 1.95322387e-07 3.46532667e-07\n",
      " 1.79942878e-07 1.32854743e-09]\n",
      "9====not====7\n",
      "[6.39335508e-07 4.58335148e-04 2.59007868e-05 3.42183490e-03\n",
      " 1.29540320e-02 8.13240314e-04 2.18484885e-06 5.31034635e-01\n",
      " 1.07488714e-02 4.40540326e-01]\n",
      "8====not====6\n",
      "[1.46349370e-05 9.59017889e-09 1.12180901e-02 2.41983017e-02\n",
      " 2.34635851e-08 4.05859677e-03 9.60497726e-01 6.87145986e-06\n",
      " 5.73385444e-06 1.25659542e-08]\n",
      "5====not====1\n",
      "[1.99144138e-05 5.40404281e-01 7.46102539e-03 6.94487415e-03\n",
      " 4.19778761e-05 1.96081508e-01 7.45193480e-06 6.93275986e-08\n",
      " 2.49034879e-01 4.01873405e-06]\n",
      "0====not====8\n",
      "[1.63737432e-01 5.60529597e-08 6.75363449e-03 1.81749406e-01\n",
      " 3.26162817e-08 5.15144162e-03 1.86123522e-05 2.30031135e-07\n",
      " 6.42436037e-01 1.53118025e-04]\n",
      "1====not====5\n",
      "[5.47935530e-10 7.51172087e-04 3.71363054e-03 6.50508053e-03\n",
      " 2.63201365e-01 4.68484732e-01 3.96947799e-04 1.38929574e-08\n",
      " 2.56835902e-01 1.11156060e-04]\n",
      "8====not====6\n",
      "[1.31465823e-06 2.64240610e-02 2.20936919e-01 6.28408840e-02\n",
      " 7.62001479e-06 3.61336820e-04 5.64092344e-01 1.88922537e-06\n",
      " 1.25145055e-01 1.88576192e-04]\n",
      "9====not====4\n",
      "[8.12555078e-06 1.32176984e-10 7.77303223e-08 1.45230192e-07\n",
      " 9.71557253e-01 6.90079668e-03 6.71804315e-05 5.16371759e-06\n",
      " 3.78014801e-03 1.76811098e-02]\n",
      "5====not====8\n",
      "[4.09902723e-04 9.78232375e-02 7.98663041e-02 2.64489433e-04\n",
      " 1.77845961e-06 1.79563432e-01 1.56555158e-04 3.81539769e-08\n",
      " 6.41914199e-01 6.39762092e-08]\n",
      "4====not====3\n",
      "[5.34632498e-07 6.76006172e-03 7.66768467e-04 6.38216289e-01\n",
      " 1.94247719e-02 1.06868997e-01 1.33898994e-01 3.14922773e-04\n",
      " 5.46323860e-02 3.91162747e-02]\n",
      "2====not====8\n",
      "[9.26674198e-08 1.87621271e-07 2.29353513e-01 1.69580923e-05\n",
      " 3.59032617e-02 1.09270993e-04 4.64386528e-05 2.26257009e-15\n",
      " 7.34509961e-01 6.03163246e-05]\n",
      "2====not====3\n",
      "[4.99089704e-02 9.54098094e-05 1.07902651e-03 8.76707746e-01\n",
      " 1.50196985e-09 4.80665739e-02 1.01459661e-05 3.79798290e-06\n",
      " 2.41245015e-02 3.82611581e-06]\n",
      "3====not====2\n",
      "[2.18056029e-05 1.98950261e-10 9.99723019e-01 1.22268213e-05\n",
      " 1.84276333e-07 6.99504288e-09 2.45748191e-06 4.63054109e-09\n",
      " 2.09810241e-04 3.04852289e-05]\n",
      "3====not====2\n",
      "[8.68730367e-09 6.24827691e-05 9.11963639e-01 8.70113083e-02\n",
      " 3.39340828e-10 1.63380113e-06 7.98716489e-05 1.46360705e-10\n",
      " 8.81054535e-04 9.81652089e-10]\n",
      "9====not====5\n",
      "[9.19911474e-02 6.72672745e-13 2.77554050e-01 1.93395146e-03\n",
      " 1.33077185e-08 6.27749319e-01 1.99905915e-05 3.84190340e-05\n",
      " 7.49211314e-05 6.38188064e-04]\n",
      "9====not====3\n",
      "[8.83506869e-05 5.51779335e-09 1.97120110e-07 5.78533817e-01\n",
      " 2.38274208e-07 1.35545770e-03 2.10669969e-09 9.75084223e-02\n",
      " 4.17363263e-03 3.18339877e-01]\n",
      "3====not====9\n",
      "[9.92978585e-07 9.70754083e-09 1.32986268e-10 2.23225880e-01\n",
      " 5.50455751e-06 2.85779275e-01 2.45761941e-09 3.84714492e-02\n",
      " 2.39886327e-02 4.28528253e-01]\n",
      "2====not====7\n",
      "[3.93298380e-06 4.81931413e-07 8.80118517e-03 6.90391258e-03\n",
      " 1.34405564e-05 9.73033711e-05 1.91642608e-05 9.84144135e-01\n",
      " 9.02562647e-07 1.55414095e-05]\n",
      "4====not====8\n",
      "[9.74487722e-07 4.34474480e-03 2.60822724e-03 7.95257819e-03\n",
      " 3.06302297e-01 4.08182077e-03 5.85154977e-02 4.70840482e-04\n",
      " 3.50230733e-01 2.65492286e-01]\n",
      "4====not====6\n",
      "[3.19491017e-07 1.38896855e-04 1.66556450e-01 2.73267195e-05\n",
      " 1.24429304e-01 4.09750545e-06 7.04364246e-01 2.07435683e-04\n"
     ]
    },
    {
     "name": "stdout",
     "output_type": "stream",
     "text": [
      " 3.14182539e-04 3.95774146e-03]\n",
      "5====not====0\n",
      "[6.73045223e-01 3.94084415e-08 7.21154894e-02 8.19957720e-03\n",
      " 7.12291321e-05 7.26831124e-03 7.71383940e-06 2.79970539e-07\n",
      " 2.39227537e-01 6.45998942e-05]\n",
      "2====not====4\n",
      "[5.91364780e-06 1.19117340e-05 1.65742846e-03 2.73788658e-05\n",
      " 5.32091503e-01 9.72535000e-09 1.48471544e-03 1.12369579e-02\n",
      " 5.32096712e-05 4.53430972e-01]\n",
      "2====not====7\n",
      "[2.65748754e-12 3.92218713e-07 4.07959999e-03 2.32568813e-05\n",
      " 1.32826090e-07 5.57251850e-07 1.23890200e-06 9.95891357e-01\n",
      " 3.89008498e-07 3.07608599e-06]\n",
      "8====not====3\n",
      "[2.01431946e-04 5.00261496e-10 1.21949542e-03 9.97736322e-01\n",
      " 3.70810434e-09 3.35969852e-04 4.42777265e-12 6.90763572e-09\n",
      " 5.04412386e-04 2.35708883e-06]\n",
      "1====not====7\n",
      "[1.42397970e-05 4.70789896e-06 1.19020100e-04 9.40449856e-03\n",
      " 2.91820827e-03 1.96277929e-05 7.18900449e-06 9.86357483e-01\n",
      " 3.40952373e-04 8.14073218e-04]\n",
      "7====not====4\n",
      "[8.27248405e-11 5.68408490e-11 4.91248454e-19 4.13525311e-09\n",
      " 6.96782265e-01 1.19231452e-07 2.57599557e-10 1.47382842e-04\n",
      " 8.80305659e-06 3.03061426e-01]\n",
      "8====not====6\n",
      "[1.45748155e-04 5.84598360e-05 1.68267397e-04 5.50769787e-08\n",
      " 1.36923514e-01 2.10646030e-02 7.84800876e-01 1.41929589e-03\n",
      " 2.43236010e-02 3.10955798e-02]\n",
      "3====not====2\n",
      "[4.87767980e-05 1.20462910e-02 4.20165658e-01 3.82325898e-01\n",
      " 8.11293686e-04 2.41522645e-04 6.27503534e-05 4.58349488e-03\n",
      " 1.42361357e-01 3.73529569e-02]\n",
      "2====not====1\n",
      "[1.17634180e-11 7.27638610e-01 2.52288202e-01 2.31160807e-03\n",
      " 1.76679262e-03 7.04332103e-05 1.87945923e-04 4.95499066e-03\n",
      " 1.44507509e-03 9.33634275e-03]\n",
      "8====not====1\n",
      "[4.22216077e-06 5.16898889e-01 2.67941051e-02 1.77651580e-02\n",
      " 5.05423713e-06 8.45008935e-02 1.16396634e-02 2.90442947e-07\n",
      " 3.42223514e-01 1.68210092e-04]\n",
      "4====not====9\n",
      "[1.08016371e-09 2.09740040e-03 6.83650041e-06 2.45460587e-02\n",
      " 9.35907698e-02 4.63910665e-04 3.20996847e-03 9.41384332e-04\n",
      " 3.64808374e-02 8.38662833e-01]\n",
      "4====not====8\n",
      "[4.75945175e-09 5.87517986e-03 2.49664252e-07 1.74708832e-07\n",
      " 1.37545584e-03 5.38806991e-10 2.34335237e-06 4.01484829e-05\n",
      " 9.50171606e-01 4.25348370e-02]\n",
      "4====not====9\n",
      "[3.51407124e-08 7.73752848e-10 2.04749854e-07 1.74523768e-08\n",
      " 1.33456362e-01 2.07784342e-06 3.29155745e-05 6.25565474e-03\n",
      " 2.50329497e-02 8.35219782e-01]\n",
      "1====not====5\n",
      "[2.28245133e-06 1.53370435e-01 2.02211129e-02 1.03431170e-03\n",
      " 8.11817613e-10 6.99381466e-01 8.53366789e-02 2.26192688e-09\n",
      " 4.06509640e-02 2.74641589e-06]\n",
      "9====not====8\n",
      "[5.27596036e-08 1.52051749e-01 4.63201906e-05 1.08375331e-03\n",
      " 4.91736855e-04 4.22993308e-04 6.91841893e-06 1.06646895e-03\n",
      " 4.87689684e-01 3.57140323e-01]\n",
      "8====not====2\n",
      "[8.21436514e-07 1.80063433e-15 9.90026022e-01 7.72797014e-05\n",
      " 9.81013003e-06 7.60612786e-07 8.47533379e-09 1.43296605e-09\n",
      " 9.87905056e-03 6.24532645e-06]\n",
      "5====not====4\n",
      "[1.45803477e-06 1.11243007e-05 3.83167914e-05 2.88764031e-05\n",
      " 9.58112602e-01 1.33610601e-07 6.30426696e-07 6.01638167e-03\n",
      " 3.26408034e-04 3.54640688e-02]\n",
      "9====not====0\n",
      "[9.99982715e-01 1.83537496e-17 1.01605675e-08 1.06138625e-11\n",
      " 3.15284608e-09 1.03958410e-05 5.18993080e-06 1.27876516e-07\n",
      " 1.21821406e-06 3.39718080e-07]\n",
      "5====not====4\n",
      "[6.74681191e-04 1.93695567e-02 2.49865507e-04 1.22150150e-03\n",
      " 3.95907393e-01 2.69738022e-01 2.85298116e-02 1.07494149e-02\n",
      " 6.78580207e-02 2.05701733e-01]\n",
      "2====not====6\n",
      "[3.66892054e-02 2.85985353e-04 1.73733365e-01 2.05758435e-03\n",
      " 4.72324646e-02 9.00857974e-05 3.40265760e-01 1.86315983e-04\n",
      " 1.00561944e-01 2.98897290e-01]\n",
      "5====not====9\n",
      "[2.21011053e-05 2.52267597e-08 5.01177062e-07 1.20732269e-05\n",
      " 6.32007401e-03 9.43521863e-03 4.50588559e-06 1.13133580e-05\n",
      " 8.69949030e-04 9.83324238e-01]\n",
      "2====not====7\n",
      "[1.69368606e-09 1.27978693e-06 2.81535259e-04 6.67389122e-07\n",
      " 3.33042846e-04 9.00364757e-07 1.75198108e-04 9.97597652e-01\n",
      " 5.86993617e-06 1.60385282e-03]\n",
      "6====not====0\n",
      "[7.34851737e-01 7.31834350e-08 2.15291132e-07 1.81601077e-04\n",
      " 1.35131093e-05 1.96163119e-02 2.45202964e-01 1.29266849e-06\n",
      " 1.18094963e-04 1.41963750e-05]\n",
      "0====not====6\n",
      "[1.70559956e-04 4.58903630e-05 4.21951546e-07 4.55129464e-06\n",
      " 4.88616187e-03 7.65858457e-03 8.32296514e-01 5.37137040e-03\n",
      " 1.35057543e-03 1.48215370e-01]\n",
      "5====not====2\n",
      "[3.75149564e-05 2.18204855e-01 5.37583707e-01 1.41003189e-04\n",
      " 2.35797024e-02 3.19202278e-04 3.60325911e-03 5.61418502e-03\n",
      " 2.10416517e-01 5.00054028e-04]\n",
      "5====not====3\n",
      "[2.47067383e-01 9.87918511e-07 1.36359993e-04 4.94759606e-01\n",
      " 2.15786767e-06 3.06441124e-02 2.41947900e-09 2.98321676e-06\n",
      " 2.27323079e-01 6.33286347e-05]\n",
      "0====not====9\n",
      "[4.53624037e-05 3.24892887e-03 1.37267328e-03 2.27533387e-01\n",
      " 1.53492026e-04 6.19151644e-04 2.12382458e-04 2.06457493e-03\n",
      " 3.63085286e-01 4.01664762e-01]\n",
      "3====not====5\n",
      "[5.50504818e-03 4.41747142e-09 1.19367431e-04 3.65431009e-01\n",
      " 1.35238932e-05 5.44505073e-01 3.17941250e-06 2.44802552e-10\n",
      " 8.44225613e-02 2.33189092e-07]\n",
      "5====not====2\n",
      "[7.01001728e-06 5.36548728e-04 6.14862242e-01 3.12267639e-03\n",
      " 1.84924529e-03 1.22856449e-01 6.27674709e-03 5.34442542e-09\n",
      " 2.50476983e-01 1.20922885e-05]\n",
      "8====not====0\n",
      "[5.53463356e-01 3.29793649e-12 4.14991619e-06 1.00507518e-08\n",
      " 4.32606412e-07 4.30507887e-01 1.99036228e-04 3.36046203e-03\n",
      " 1.12196936e-02 1.24497271e-03]\n",
      "3====not====8\n",
      "[3.03528801e-06 1.18808336e-05 6.61027688e-03 2.31748051e-01\n",
      " 1.02176825e-04 7.74221108e-03 3.20953191e-05 1.27638023e-06\n",
      " 7.19114206e-01 3.46347901e-02]\n",
      "3====not====2\n",
      "[1.17887601e-02 4.23528111e-08 9.47372922e-01 1.24913343e-05\n",
      " 1.14462788e-09 2.13749342e-06 4.08231708e-02 5.46544032e-08\n",
      " 4.20372652e-07 9.94650538e-11]\n",
      "8====not====1\n",
      "[6.27344409e-08 8.18189228e-01 2.87854079e-02 4.80986019e-03\n",
      " 3.71659850e-04 7.84777398e-05 8.88855297e-02 4.26487635e-05\n",
      " 5.13230859e-02 7.51403900e-03]\n",
      "2====not====1\n",
      "[1.35712366e-08 5.34296096e-01 2.11597800e-02 2.00836882e-07\n",
      " 7.21717022e-03 9.49722739e-09 1.24304967e-01 3.18571287e-06\n",
      " 2.79590722e-01 3.34278555e-02]\n",
      "5====not====4\n",
      "[1.71842911e-05 2.05962605e-05 1.08826468e-02 2.47585802e-05\n",
      " 9.67131787e-01 7.84509799e-06 5.46769634e-05 1.28051584e-04\n",
      " 3.91616414e-03 1.78162896e-02]\n",
      "2====not====7\n",
      "[8.16942697e-02 9.68593487e-15 3.41937196e-06 3.68784748e-04\n",
      " 1.40874849e-06 2.15827899e-01 2.01276598e-07 6.26530675e-01\n",
      " 2.65881476e-02 4.89851947e-02]\n",
      "1====not====5\n",
      "[5.01599303e-05 3.46311143e-02 8.32685817e-03 9.65855630e-04\n",
      " 3.09390851e-05 7.00577047e-01 2.15258449e-02 5.59584538e-07\n",
      " 2.32915642e-01 9.75979647e-04]\n",
      "7====not====9\n",
      "[5.93102423e-07 7.89128090e-09 4.70680045e-10 1.64868660e-04\n",
      " 2.84421668e-02 4.46886070e-05 2.59315047e-08 2.17894912e-01\n",
      " 7.59118253e-04 7.52693618e-01]\n",
      "0====not====8\n",
      "[1.85691038e-01 9.68826412e-08 1.26988929e-02 2.22097761e-03\n",
      " 3.52867269e-03 2.78612096e-03 1.13759300e-01 2.78088822e-07\n",
      " 6.61535424e-01 1.77791985e-02]\n",
      "9====not====3\n",
      "[3.84148749e-06 6.58991504e-07 7.19660783e-05 7.23107688e-01\n",
      " 7.09416398e-04 2.81043744e-02 1.19649236e-05 5.34321333e-04\n",
      " 7.35154413e-02 1.73940327e-01]\n",
      "4====not====9\n",
      "[1.87080107e-09 3.13102274e-05 5.41060107e-05 7.92404972e-06\n",
      " 2.99731346e-01 4.42544221e-06 5.34149965e-04 2.77656508e-03\n",
      " 4.95042134e-03 6.91909750e-01]\n",
      "1====not====7\n",
      "[4.61909229e-09 5.13264642e-06 9.39661285e-10 2.05386771e-04\n",
      " 5.53040329e-04 1.50301000e-05 1.20675203e-07 9.06025878e-01\n",
      " 2.88721548e-04 9.29066839e-02]\n",
      "2====not====6\n",
      "[1.98888209e-03 2.10553789e-07 4.19508891e-01 1.33563982e-05\n",
      " 3.81964967e-02 1.06495885e-01 4.33579982e-01 1.13974957e-05\n",
      " 1.82698023e-04 2.22012702e-05]\n",
      "9====not====7\n",
      "[6.50607016e-08 2.18775584e-08 8.13094952e-10 5.11582059e-04\n",
      " 1.63266852e-05 4.04591046e-02 2.98808426e-08 8.85049814e-01\n",
      " 1.30969564e-03 7.26533593e-02]\n",
      "5====not====8\n",
      "[2.02098536e-05 4.16405875e-01 7.66749998e-03 1.89641119e-03\n",
      " 1.50030888e-02 1.16235408e-03 2.66112544e-03 9.43141707e-07\n",
      " 5.49362170e-01 5.82032340e-03]\n",
      "5====not====3\n",
      "[2.53214553e-03 1.98335298e-01 2.53625550e-03 4.81774042e-01\n",
      " 5.19968124e-04 2.96153869e-01 1.68763997e-05 7.31362400e-05\n",
      " 1.21145255e-02 5.94388355e-03]\n",
      "4====not====6\n",
      "[5.92120259e-03 1.25970694e-07 7.54664920e-02 2.20939000e-04\n",
      " 1.61793227e-01 3.52382367e-03 6.99086294e-01 3.40944877e-02\n",
      " 5.08863508e-04 1.93845452e-02]\n",
      "5====not====6\n",
      "[2.93347448e-07 8.73752445e-03 9.55799662e-03 8.65071145e-05\n",
      " 3.52922371e-08 1.48724507e-02 7.32405271e-01 1.55385346e-11\n",
      " 2.34338713e-01 1.20765924e-06]\n",
      "4====not====6\n",
      "[2.98886438e-05 5.01039246e-03 5.48394107e-02 4.92314223e-04\n",
      " 6.16497994e-03 4.11186170e-03 9.16150543e-01 3.13926618e-07\n"
     ]
    },
    {
     "name": "stdout",
     "output_type": "stream",
     "text": [
      " 3.80760603e-03 9.39268896e-03]\n",
      "5====not====8\n",
      "[8.43246537e-03 2.36507265e-10 1.24865738e-07 1.01372189e-02\n",
      " 4.53672370e-08 2.10575445e-03 5.48562930e-07 5.89285471e-09\n",
      " 9.79322142e-01 1.69461943e-06]\n",
      "3====not====8\n",
      "[1.61580256e-05 1.65132267e-03 2.45340874e-02 2.91551127e-01\n",
      " 2.18363393e-10 2.01086507e-01 1.12266755e-04 4.62828532e-08\n",
      " 4.81032518e-01 1.59659020e-05]\n",
      "7====not====4\n",
      "[6.92019153e-09 2.14108241e-03 7.26358278e-10 6.92085730e-05\n",
      " 4.82248339e-01 5.93298392e-04 6.21384663e-06 1.19601160e-01\n",
      " 1.07422892e-02 3.84598400e-01]\n",
      "6====not====8\n",
      "[5.77775129e-04 6.88286701e-07 1.15703292e-04 3.97819172e-04\n",
      " 1.30103401e-05 2.74554307e-01 1.77062565e-04 4.65273781e-09\n",
      " 7.19731159e-01 4.43247024e-03]\n",
      "5====not====6\n",
      "[6.18869135e-04 2.63018081e-06 4.01196760e-03 2.54214738e-06\n",
      " 1.68096273e-03 9.52502787e-03 9.77699137e-01 1.23683671e-08\n",
      " 6.33155551e-03 1.27295836e-04]\n",
      "6====not====8\n",
      "[1.35361927e-02 1.00002971e-08 2.06757077e-01 3.08602368e-06\n",
      " 4.14313229e-04 2.43289144e-01 1.64299394e-01 1.32378082e-12\n",
      " 3.71698585e-01 2.19782202e-06]\n",
      "8====not====1\n",
      "[5.98139555e-07 6.11802306e-01 5.44277499e-03 2.81705434e-02\n",
      " 6.78286685e-08 8.45920664e-05 5.97732827e-06 4.38011166e-06\n",
      " 3.54259883e-01 2.28876569e-04]\n",
      "9====not====5\n",
      "[2.23058259e-04 1.49119001e-03 2.20528014e-03 1.90484460e-01\n",
      " 9.42046027e-03 4.20249492e-01 6.54367072e-05 2.24778859e-04\n",
      " 2.55086962e-01 1.20548882e-01]\n",
      "2====not====0\n",
      "[5.99444989e-01 2.32051071e-08 9.86494542e-02 3.76229564e-02\n",
      " 7.06672886e-12 2.63338216e-01 6.43063070e-05 2.86540556e-15\n",
      " 8.80055065e-04 1.41146271e-11]\n",
      "5====not====4\n",
      "[3.57079044e-06 6.13750390e-02 4.95338688e-02 1.16227595e-04\n",
      " 4.81139183e-01 4.50054275e-06 3.20854533e-05 1.80997346e-03\n",
      " 2.32546569e-02 3.82730895e-01]\n",
      "2====not====8\n",
      "[1.05115432e-06 5.49787221e-02 1.74102053e-01 2.90567721e-02\n",
      " 8.14953408e-06 1.00856801e-03 8.20614232e-06 9.45019684e-03\n",
      " 7.27052265e-01 4.33401608e-03]\n",
      "3====not====6\n",
      "[1.04777046e-02 2.71082201e-08 7.48629282e-02 2.21425733e-01\n",
      " 1.93620721e-02 3.02613229e-01 3.70919789e-01 1.27906046e-06\n",
      " 3.32027298e-04 5.21024206e-06]\n",
      "7====not====1\n",
      "[1.58262090e-08 8.03356652e-01 4.89450009e-03 1.29025791e-04\n",
      " 1.71249787e-04 1.49896049e-05 1.20399441e-04 1.24259588e-01\n",
      " 2.05950982e-02 4.64584813e-02]\n",
      "2====not====7\n",
      "[9.06279823e-05 2.01773214e-14 6.65450742e-03 1.31631307e-01\n",
      " 3.20548361e-09 2.91155945e-06 3.82153450e-10 8.61620085e-01\n",
      " 3.51121348e-07 2.06187345e-07]\n",
      "6====not====5\n",
      "[2.64069437e-06 2.25484136e-04 4.74793538e-02 5.82222488e-05\n",
      " 2.41972910e-01 6.55629198e-01 1.76045013e-03 8.61871095e-09\n",
      " 5.28715472e-02 1.85561436e-07]\n",
      "4====not====9\n",
      "[1.16220514e-09 5.43288063e-06 1.87519754e-09 1.11003139e-04\n",
      " 2.01530894e-02 2.61605721e-04 5.46915154e-08 2.62418824e-03\n",
      " 3.73584071e-02 9.39486216e-01]\n",
      "6====not====4\n",
      "[1.69186065e-09 4.14740618e-08 1.32502694e-04 1.90289018e-08\n",
      " 8.00530489e-01 5.84308498e-09 4.20847971e-02 6.23455774e-02\n",
      " 4.28213019e-03 9.06244357e-02]\n",
      "8====not====2\n",
      "[2.07490950e-05 1.16687448e-05 4.52019339e-01 1.44856953e-02\n",
      " 3.64587972e-01 6.55063347e-04 9.01491289e-02 1.60389341e-06\n",
      " 7.14692455e-02 6.59953439e-03]\n",
      "8====not====5\n",
      "[8.10235697e-02 7.35833456e-10 8.83554061e-07 5.03616912e-04\n",
      " 5.67481744e-07 6.95281465e-01 1.92128689e-04 5.03266971e-06\n",
      " 1.97478815e-01 2.55139200e-02]\n",
      "2====not====3\n",
      "[6.64458030e-06 1.33782179e-13 4.11441798e-01 4.77529052e-01\n",
      " 7.74040847e-11 2.38970070e-07 2.71069051e-08 1.11022184e-01\n",
      " 4.99886928e-08 5.45121281e-09]\n",
      "9====not====4\n",
      "[7.66491030e-07 9.00031773e-10 3.74190341e-09 9.05075098e-09\n",
      " 9.52275640e-01 1.01861806e-03 5.78614808e-04 7.72122290e-08\n",
      " 2.20473898e-04 4.59057960e-02]\n",
      "0====not====5\n",
      "[5.24558831e-02 2.01771172e-04 1.73469089e-03 1.55061068e-03\n",
      " 4.99419882e-05 6.19690836e-01 2.44677543e-01 3.02406728e-03\n",
      " 7.63319265e-02 2.82729061e-04]\n",
      "1====not====5\n",
      "[3.06954195e-08 3.46225750e-01 8.55515677e-04 1.29553742e-02\n",
      " 5.22155138e-03 5.60567990e-01 2.50799352e-04 2.58996659e-07\n",
      " 7.29527227e-02 9.70006796e-04]\n",
      "5====not====0\n",
      "[5.35099584e-01 7.63898738e-03 1.77582116e-05 2.43214079e-07\n",
      " 6.39676885e-02 9.31908424e-02 1.34183790e-03 6.69516216e-02\n",
      " 1.07612837e-01 1.24178599e-01]\n",
      "4====not====6\n",
      "[1.62407299e-01 1.53124107e-11 1.28356118e-03 7.85420118e-09\n",
      " 9.92209110e-02 7.18193052e-04 7.04292730e-01 3.41544444e-05\n",
      " 9.34334226e-04 3.11088094e-02]\n",
      "5====not====4\n",
      "[1.31878698e-05 1.09482489e-07 1.96969524e-04 1.46161175e-06\n",
      " 9.97126598e-01 1.50134702e-03 3.93998827e-05 8.97517166e-07\n",
      " 3.85150621e-04 7.34878445e-04]\n",
      "0====not====8\n",
      "[3.96044759e-03 2.57323317e-05 1.02987867e-04 5.89463251e-04\n",
      " 1.70103100e-04 5.19801070e-03 1.95704395e-01 1.70658466e-08\n",
      " 7.92646304e-01 1.60253936e-03]\n",
      "3====not====8\n",
      "[8.85855426e-05 4.84073347e-04 1.77134198e-02 1.71230601e-01\n",
      " 2.84338580e-03 3.42650042e-02 3.73042125e-06 4.40915732e-05\n",
      " 4.50852594e-01 3.22474515e-01]\n",
      "5====not====6\n",
      "[5.02210073e-02 1.93104416e-05 4.88275102e-05 7.04517466e-09\n",
      " 3.93475058e-09 5.00232253e-02 8.99241317e-01 6.71848906e-11\n",
      " 4.46271228e-04 3.04784385e-08]\n",
      "2====not====4\n",
      "[2.11957114e-09 5.71952472e-07 3.06504247e-05 2.19273324e-10\n",
      " 9.77202949e-01 4.76197116e-12 2.21778426e-02 5.43678625e-13\n",
      " 4.99211493e-04 8.87724485e-05]\n",
      "3====not====9\n",
      "[3.94247729e-06 8.72819115e-05 1.94597669e-03 2.64308641e-02\n",
      " 2.45187132e-06 6.14691797e-04 2.07241157e-06 3.55741121e-02\n",
      " 2.15256498e-02 9.13812957e-01]\n",
      "1====not====5\n",
      "[1.83600282e-10 2.14771274e-05 4.37371932e-04 2.73144705e-01\n",
      " 1.44649483e-01 3.55695599e-01 6.14451214e-05 2.66400781e-07\n",
      " 2.20686070e-01 5.30358271e-03]\n",
      "8====not====3\n",
      "[2.17382372e-02 2.37982040e-10 9.26712890e-05 8.49013789e-01\n",
      " 7.41593064e-10 1.08006015e-01 1.29142656e-13 4.57695630e-10\n",
      " 2.11488240e-02 4.61546112e-07]\n",
      "3====not====6\n",
      "[4.32730758e-01 1.50669648e-07 4.13965015e-04 5.29386499e-02\n",
      " 1.43428805e-05 4.57501812e-03 4.95251265e-01 2.59761308e-05\n",
      " 1.30830144e-02 9.66859901e-04]\n",
      "2====not====3\n",
      "[2.84206384e-10 3.37257220e-04 4.86796978e-01 4.99375293e-01\n",
      " 1.35173449e-08 1.73894525e-06 6.32778702e-05 1.33659618e-02\n",
      " 5.78607900e-05 1.61928952e-06]\n",
      "9====not====0\n",
      "[9.11864314e-01 1.81488542e-12 2.91409223e-02 4.98192697e-04\n",
      " 6.02310573e-06 4.24310340e-02 1.32595202e-02 1.02149821e-04\n",
      " 1.80245610e-03 8.95387672e-04]\n",
      "0====not====4\n",
      "[3.20339988e-05 4.98806169e-03 5.23752804e-03 1.14909153e-05\n",
      " 7.63329907e-01 1.36940002e-04 4.05813558e-02 1.94210598e-05\n",
      " 1.80998401e-01 4.66486092e-03]\n",
      "0====not====5\n",
      "[2.48279649e-01 9.01275374e-09 1.52045439e-03 1.68480046e-04\n",
      " 2.70391251e-04 7.49686826e-01 1.81908848e-05 2.75472177e-05\n",
      " 2.78209248e-05 6.31497620e-07]\n",
      "2====not====3\n",
      "[9.11082710e-02 1.15482157e-11 1.14659359e-04 9.07723071e-01\n",
      " 2.94000352e-05 2.10206477e-07 4.33824085e-04 2.40882255e-10\n",
      " 4.35235039e-04 1.55328880e-04]\n",
      "2====not====7\n",
      "[2.87273096e-06 7.75607568e-07 3.41872991e-03 3.12373066e-01\n",
      " 7.09269661e-05 2.79041842e-05 4.80319002e-07 6.83936835e-01\n",
      " 4.71890392e-06 1.63690291e-04]\n",
      "5====not====9\n",
      "[3.35540527e-04 5.83515186e-06 2.97059774e-04 2.24261615e-04\n",
      " 6.10352736e-03 1.52692624e-01 6.37199730e-04 8.90884309e-06\n",
      " 2.47805096e-01 5.91889947e-01]\n",
      "3====not====9\n",
      "[5.21287136e-07 1.95732103e-08 1.15058865e-09 4.94077835e-02\n",
      " 1.54567834e-03 5.95884995e-03 1.35650382e-07 1.36429370e-02\n",
      " 1.59540138e-03 9.27848672e-01]\n",
      "2====not====8\n",
      "[2.49153254e-04 9.01617813e-07 4.65074718e-01 3.88268377e-02\n",
      " 3.94360355e-09 8.24794603e-04 1.68769329e-08 6.23192103e-09\n",
      " 4.95018932e-01 4.63607669e-06]\n",
      "2====not====8\n",
      "[2.10350096e-04 2.07177204e-04 2.73135404e-01 8.46142397e-03\n",
      " 3.48964616e-07 3.00391152e-03 3.26696249e-06 5.79674502e-07\n",
      " 7.14625069e-01 3.52468853e-04]\n",
      "2====not====7\n",
      "[7.29927339e-07 1.17803246e-02 1.24607795e-05 8.07143911e-07\n",
      " 9.22821943e-03 2.20112555e-03 2.88731755e-03 6.94798555e-01\n",
      " 3.76749223e-02 2.41415538e-01]\n",
      "9====not====7\n",
      "[1.64895829e-08 3.49455146e-03 2.47236282e-08 1.09216914e-03\n",
      " 5.39260055e-05 1.17018348e-03 3.87785201e-07 9.41615093e-01\n",
      " 2.63025759e-03 4.99433907e-02]\n",
      "9====not====2\n",
      "[3.59578875e-01 2.16733744e-14 6.07330130e-01 2.93147437e-03\n",
      " 1.18986264e-07 3.13155731e-05 1.22578435e-07 2.89565540e-02\n",
      " 1.53181948e-05 1.15609102e-03]\n",
      "7====not====6\n",
      "[2.27649758e-01 1.00140858e-03 2.29655558e-08 8.55873602e-06\n",
      " 1.33548953e-01 3.32383072e-05 3.54599688e-01 2.46823311e-01\n",
      " 3.51196353e-03 3.28230982e-02]\n",
      "3====not====8\n",
      "[3.80557374e-05 1.84901082e-04 3.00414502e-03 3.55919764e-01\n",
      " 5.79676791e-03 1.21273776e-03 2.43930327e-05 1.78355219e-07\n"
     ]
    },
    {
     "name": "stdout",
     "output_type": "stream",
     "text": [
      " 5.59134155e-01 7.46849018e-02]\n",
      "9====not====1\n",
      "[2.59390266e-05 2.35539494e-01 2.88379591e-03 1.84619444e-01\n",
      " 1.56654320e-04 9.20840432e-03 1.86312553e-05 1.36874116e-01\n",
      " 2.14441831e-01 2.16231690e-01]\n",
      "9====not====5\n",
      "[2.49387034e-03 6.41970803e-11 1.38558731e-08 3.10891312e-01\n",
      " 3.29652558e-04 4.78888680e-01 1.75661176e-09 1.15299514e-04\n",
      " 9.48378214e-02 1.12443349e-01]\n",
      "7====not====2\n",
      "[5.78934684e-03 8.49918673e-04 8.15800154e-01 2.51215526e-03\n",
      " 7.89006639e-05 5.32409435e-03 4.28619972e-05 6.00844495e-02\n",
      " 1.01646284e-01 7.87183468e-03]\n",
      "0====not====6\n",
      "[3.12542958e-03 4.02579024e-11 9.51978224e-07 2.15575365e-10\n",
      " 7.45852047e-04 2.60499091e-09 9.23095691e-01 7.28780063e-02\n",
      " 1.14238394e-07 1.53952303e-04]\n",
      "3====not====2\n",
      "[5.05279400e-05 3.84269013e-02 8.44180269e-01 6.76947275e-02\n",
      " 1.64084108e-04 3.79442470e-03 2.04334575e-02 3.14641684e-04\n",
      " 2.48769162e-02 6.40497681e-05]\n",
      "2====not====4\n",
      "[2.14801997e-07 3.96160269e-04 6.00528696e-07 4.79935001e-08\n",
      " 8.43172558e-01 3.25962738e-06 1.97554435e-02 1.19450082e-03\n",
      " 1.06244548e-04 1.35370970e-01]\n",
      "6====not====5\n",
      "[2.98436187e-01 5.51160163e-06 4.23528532e-06 2.10462993e-03\n",
      " 8.84570181e-04 4.88038073e-01 1.70179904e-01 3.25062357e-05\n",
      " 4.00797364e-02 2.34646687e-04]\n",
      "2====not====6\n",
      "[3.16775339e-06 7.27138223e-05 2.38435106e-01 5.49812097e-04\n",
      " 8.97346654e-04 4.04080077e-05 7.56371602e-01 1.10389538e-11\n",
      " 3.62938268e-03 4.60202825e-07]\n",
      "5====not====2\n",
      "[1.85543527e-02 1.01640616e-03 9.70573856e-01 2.50896986e-05\n",
      " 1.07430349e-04 4.95013892e-03 4.07159365e-04 8.70671244e-04\n",
      " 3.47439397e-03 2.05020439e-05]\n",
      "3====not====7\n",
      "[3.54568843e-05 4.39742960e-06 2.31591968e-03 3.61535972e-01\n",
      " 1.27692689e-07 2.20636348e-02 1.25600019e-04 6.06194101e-01\n",
      " 4.18300818e-03 3.54178176e-03]\n",
      "2====not====5\n",
      "[1.23535272e-08 5.85611103e-10 1.10148731e-02 5.11216068e-04\n",
      " 2.67839806e-02 5.69560909e-01 3.81975132e-01 8.43728165e-08\n",
      " 1.01450763e-02 8.71650375e-06]\n",
      "5====not====4\n",
      "[8.49453288e-04 2.10781633e-05 1.11302085e-06 1.23810991e-01\n",
      " 3.07041164e-01 2.94172756e-01 1.05263799e-04 6.80977498e-03\n",
      " 5.66333619e-03 2.61525070e-01]\n",
      "2====not====3\n",
      "[3.07572375e-07 1.52341613e-03 2.28138227e-01 3.81133954e-01\n",
      " 1.11259815e-05 1.53578207e-03 1.22846544e-06 2.16100473e-01\n",
      " 1.70645602e-01 9.09883333e-04]\n",
      "6====not====0\n",
      "[7.53311247e-01 5.53608938e-08 1.84548527e-01 1.82597195e-03\n",
      " 1.61250272e-07 4.63950963e-04 5.63287882e-02 1.23896221e-05\n",
      " 3.50803031e-03 8.77775926e-07]\n",
      "5====not====8\n",
      "[2.21560013e-03 6.29560049e-07 5.04391297e-06 6.77958053e-03\n",
      " 1.16098388e-03 3.34776736e-03 2.89373172e-06 3.35718101e-05\n",
      " 9.56136314e-01 3.03176150e-02]\n",
      "3====not====6\n",
      "[2.62939189e-03 6.07955612e-04 1.23898819e-02 4.67457859e-01\n",
      " 3.64524407e-08 5.82541489e-03 4.99807792e-01 3.34532364e-07\n",
      " 1.12344158e-02 4.69177953e-05]\n",
      "7====not====9\n",
      "[3.34286674e-10 5.89861238e-10 1.51053574e-16 1.76071530e-05\n",
      " 4.95745431e-01 7.11986776e-05 4.88470318e-09 1.54395699e-05\n",
      " 1.64046685e-04 5.03986272e-01]\n",
      "3====not====5\n",
      "[8.13981721e-05 4.22066344e-06 6.75635109e-02 4.30904576e-03\n",
      " 5.64768273e-02 8.63369470e-01 6.50049812e-04 4.22263661e-04\n",
      " 6.30374094e-03 8.19472574e-04]\n",
      "3====not====5\n",
      "[2.22608583e-03 7.59526341e-11 2.56630275e-05 4.19801781e-02\n",
      " 5.70616694e-11 8.02540726e-01 3.02645028e-08 7.57748740e-15\n",
      " 1.53227316e-01 1.68041062e-12]\n",
      "6====not====0\n",
      "[8.98529313e-01 2.68239991e-07 1.20483323e-04 8.10184651e-04\n",
      " 1.80345855e-10 3.50830303e-03 6.63622175e-02 7.18641312e-10\n",
      " 3.06692294e-02 8.52131870e-11]\n",
      "4====not====9\n",
      "[6.50254256e-09 5.80147471e-10 4.59799071e-09 1.00718022e-04\n",
      " 3.26694661e-01 2.11707597e-03 8.79367554e-08 3.53629113e-04\n",
      " 2.68051089e-02 6.43928707e-01]\n",
      "7====not====9\n",
      "[5.34121007e-07 3.02624597e-09 1.54063134e-11 4.44264148e-04\n",
      " 3.86896639e-03 3.85220968e-04 7.16896925e-08 5.26992276e-02\n",
      " 2.98111592e-04 9.42303600e-01]\n",
      "2====not====8\n",
      "[1.11347154e-08 2.41369739e-09 3.44942146e-05 3.87024156e-07\n",
      " 2.38832472e-08 1.48196380e-04 1.63960281e-11 1.07148684e-05\n",
      " 9.99157311e-01 6.48858657e-04]\n",
      "7====not====2\n",
      "[1.49680257e-05 2.99044676e-07 6.72473641e-01 1.04520607e-02\n",
      " 2.75507054e-06 1.91165251e-05 8.39062376e-05 3.09059882e-01\n",
      " 8.57235356e-04 7.03613591e-03]\n",
      "2====not====8\n",
      "[6.39857251e-08 6.92248166e-10 8.00608409e-03 8.80164725e-04\n",
      " 3.39629145e-11 2.04233967e-05 8.98036209e-15 3.77946263e-08\n",
      " 9.91085923e-01 7.30214030e-06]\n",
      "8====not====9\n",
      "[7.19265297e-08 2.53277058e-07 6.02367577e-06 4.86180971e-02\n",
      " 1.09602167e-01 1.93697648e-02 1.81296139e-04 3.81487258e-04\n",
      " 2.94181328e-01 5.27659510e-01]\n",
      "5====not====3\n",
      "[1.11104361e-04 7.07067640e-10 1.84249842e-04 6.24896680e-01\n",
      " 6.50437186e-11 3.74783846e-01 4.47456552e-08 2.69717154e-08\n",
      " 2.40356792e-05 1.12554610e-08]\n",
      "2====not====1\n",
      "[9.77591359e-10 9.17744954e-01 4.94764728e-02 9.39395838e-03\n",
      " 6.41021058e-07 1.13641771e-05 8.75467844e-04 1.67125119e-04\n",
      " 2.17454019e-02 5.84613655e-04]\n",
      "3====not====8\n",
      "[8.18616314e-06 6.10068361e-08 1.14597694e-02 2.20913418e-01\n",
      " 4.79651129e-05 2.38788555e-03 1.93758147e-10 1.73050727e-02\n",
      " 6.75090575e-01 7.27870666e-02]\n",
      "7====not====4\n",
      "[5.67867893e-02 1.40239412e-06 1.14821766e-06 7.38824466e-03\n",
      " 3.49519315e-01 1.28000917e-02 8.18114990e-05 2.52975631e-01\n",
      " 6.93113544e-03 3.13514431e-01]\n",
      "8====not====6\n",
      "[1.04706647e-05 3.04040503e-02 7.52669729e-04 6.83963143e-06\n",
      " 3.11927567e-01 4.53127744e-03 4.56765242e-01 2.73736533e-04\n",
      " 1.83376020e-01 1.19521271e-02]\n",
      "1====not====7\n",
      "[4.23587011e-08 1.57349766e-01 6.47545035e-03 1.00757202e-01\n",
      " 1.80329199e-06 1.22413862e-02 3.62213855e-05 6.34786638e-01\n",
      " 4.83959224e-02 3.99555685e-02]\n",
      "9====not====7\n",
      "[3.05097004e-09 1.53726061e-03 9.63390578e-09 3.78789386e-04\n",
      " 2.26251246e-03 6.12955904e-05 8.99861904e-08 6.48447323e-01\n",
      " 5.88326778e-03 3.41429449e-01]\n",
      "2====not====8\n",
      "[1.90319033e-06 6.91961905e-07 4.58812455e-01 1.35066896e-02\n",
      " 1.05777347e-07 4.46161717e-03 2.22760519e-03 6.95365961e-14\n",
      " 5.20988578e-01 3.54370722e-07]\n",
      "7====not====2\n",
      "[5.78744448e-06 6.74751173e-04 7.67273860e-01 3.28380519e-02\n",
      " 1.03180328e-06 2.58725141e-05 1.06704541e-07 3.20051353e-05\n",
      " 1.98960200e-01 1.88333737e-04]\n",
      "2====not====6\n",
      "[7.90902367e-02 1.82390261e-12 8.13735770e-02 1.68673745e-01\n",
      " 4.01563002e-02 1.21075682e-01 5.08674079e-01 2.64592961e-13\n",
      " 9.56379172e-04 1.76768884e-09]\n",
      "9====not====7\n",
      "[1.00981578e-06 2.66356164e-09 1.74786374e-06 2.85350682e-04\n",
      " 7.19247256e-02 2.61677772e-05 1.61003908e-06 6.27605404e-01\n",
      " 3.25780750e-05 3.00121403e-01]\n",
      "6====not====5\n",
      "[3.73392990e-03 4.65849661e-08 1.59227585e-04 4.06439805e-06\n",
      " 4.68579167e-04 8.70187412e-01 4.43414018e-03 8.46318275e-15\n",
      " 1.21012255e-01 3.45015694e-07]\n",
      "2====not====7\n",
      "[3.38011114e-03 4.75586973e-09 2.31783574e-07 1.11772522e-09\n",
      " 4.70203087e-03 5.47130048e-05 2.04839384e-02 7.57656274e-01\n",
      " 2.08717409e-02 1.92850954e-01]\n",
      "4====not====9\n",
      "[3.34906852e-08 1.51308213e-06 1.02038714e-07 1.18574816e-03\n",
      " 3.73735263e-01 3.44067891e-05 1.36737398e-06 1.99901292e-02\n",
      " 1.23630793e-04 6.04927806e-01]\n",
      "2====not====4\n",
      "[1.88718933e-07 3.09468060e-06 1.88268772e-02 5.04754137e-05\n",
      " 9.64494332e-01 3.54511294e-07 1.12509031e-02 8.29570008e-10\n",
      " 1.98137716e-05 5.35395988e-03]\n",
      "5====not====4\n",
      "[5.03562857e-07 1.11189175e-03 6.13055063e-02 2.19563287e-05\n",
      " 7.66108891e-01 4.16815111e-03 4.69551261e-04 3.86423617e-05\n",
      " 1.66287604e-01 4.87302471e-04]\n",
      "9====not====5\n",
      "[5.94895489e-07 3.23777955e-07 6.26353136e-08 1.71124022e-07\n",
      " 1.08939160e-03 9.51650091e-01 9.34815104e-08 1.08059667e-04\n",
      " 8.62691530e-03 3.85242964e-02]\n",
      "1====not====5\n",
      "[1.83600282e-10 2.14771274e-05 4.37371932e-04 2.73144705e-01\n",
      " 1.44649483e-01 3.55695599e-01 6.14451214e-05 2.66400781e-07\n",
      " 2.20686070e-01 5.30358271e-03]\n",
      "5====not====8\n",
      "[2.57438487e-05 6.15189278e-14 9.19442763e-07 2.99252239e-11\n",
      " 2.14426312e-04 3.31757062e-01 6.72810574e-05 3.41237227e-17\n",
      " 6.67933934e-01 6.33241324e-07]\n",
      "5====not====8\n",
      "[2.60298677e-04 8.40147706e-02 1.32940487e-03 4.57310296e-03\n",
      " 7.73297284e-05 4.09872750e-01 4.61269132e-05 1.48039661e-05\n",
      " 4.99797198e-01 1.42140628e-05]\n",
      "5====not====8\n",
      "[9.93321448e-04 4.42907722e-09 1.83646249e-07 7.99388984e-06\n",
      " 4.74824201e-05 4.61143825e-01 6.09184622e-05 4.17829618e-06\n",
      " 5.37693669e-01 4.84232638e-05]\n",
      "2====not====7\n",
      "[2.93482745e-09 2.28147225e-07 1.06741332e-04 1.18800900e-03\n",
      " 6.76768912e-06 8.34151301e-05 2.17249104e-08 9.93224161e-01\n",
      " 5.08829406e-04 4.88182405e-03]\n",
      "8====not====9\n",
      "[1.80453816e-07 6.47505644e-08 5.27086526e-04 1.28331147e-01\n",
      " 8.79136805e-02 1.40649836e-03 3.20350300e-05 2.26238276e-03\n"
     ]
    },
    {
     "name": "stdout",
     "output_type": "stream",
     "text": [
      " 2.41601245e-01 5.37925680e-01]\n",
      "9====not====7\n",
      "[3.77136727e-06 1.58642360e-11 2.37562560e-13 3.33552886e-05\n",
      " 6.52252175e-05 1.06035618e-03 1.29859682e-09 5.18638516e-01\n",
      " 4.54302009e-04 4.79744472e-01]\n",
      "4====not====9\n",
      "[5.60987179e-08 2.74731338e-02 7.37769715e-05 3.20949586e-02\n",
      " 2.88608895e-01 6.61308283e-03 1.60290513e-05 5.06514470e-02\n",
      " 1.13288972e-01 4.81179649e-01]\n",
      "5====not====9\n",
      "[9.13170142e-02 2.07734862e-03 9.97380234e-08 9.99511247e-05\n",
      " 9.12977055e-03 2.12365680e-01 6.72900642e-03 1.46719862e-01\n",
      " 1.35025547e-01 3.96535721e-01]\n",
      "9====not====3\n",
      "[2.58963874e-03 6.88390294e-10 4.63748871e-05 9.94197112e-01\n",
      " 1.27248718e-06 1.71605939e-03 4.49189763e-10 1.93519106e-05\n",
      " 1.32408919e-03 1.06100314e-04]\n",
      "3====not====8\n",
      "[4.80101405e-07 4.72410339e-10 1.50319250e-08 3.57014873e-03\n",
      " 1.20905531e-03 3.80321972e-02 1.11453900e-10 2.87912147e-05\n",
      " 4.98962798e-01 4.58196514e-01]\n",
      "2====not====1\n",
      "[6.71607695e-09 6.44090643e-01 3.48782490e-01 6.25784432e-03\n",
      " 1.80212905e-10 9.16249985e-05 3.27443266e-04 3.21181798e-08\n",
      " 4.49908583e-04 7.06999960e-09]\n",
      "5====not====8\n",
      "[1.29344716e-05 2.33862246e-07 4.81486376e-04 2.88613238e-05\n",
      " 1.47968444e-02 2.48201832e-02 3.80692929e-01 7.55249978e-12\n",
      " 5.78846940e-01 3.19587768e-04]\n",
      "9====not====5\n",
      "[4.86111895e-05 3.91369069e-08 1.14762832e-11 6.55382120e-07\n",
      " 6.48166846e-04 9.80986782e-01 2.58166056e-08 3.19683760e-03\n",
      " 8.23001186e-04 1.42958804e-02]\n",
      "6====not====5\n",
      "[3.10110793e-01 5.32780218e-15 1.21332845e-04 5.89071734e-12\n",
      " 3.44767956e-09 6.86157257e-01 1.16555126e-03 2.78839305e-18\n",
      " 2.44506257e-03 8.70898943e-12]\n",
      "1====not====8\n",
      "[3.98976983e-04 2.51311630e-03 8.16726358e-09 1.16050210e-03\n",
      " 1.35265443e-02 1.11877862e-01 4.99040567e-04 6.07987017e-02\n",
      " 6.84772904e-01 1.24452344e-01]\n",
      "7====not====4\n",
      "[2.09355284e-13 6.25101735e-11 1.22670825e-10 2.23207493e-08\n",
      " 9.83187570e-01 3.19217600e-10 1.38579479e-04 7.86540255e-05\n",
      " 5.51575508e-03 1.10794187e-02]\n",
      "6====not====4\n",
      "[7.21172962e-10 1.25132309e-07 6.60236443e-04 1.61377915e-04\n",
      " 9.40339668e-01 1.05852884e-04 2.42563732e-02 2.57561086e-02\n",
      " 2.92994436e-05 8.69095799e-03]\n",
      "2====not====8\n",
      "[3.11116857e-01 1.03555843e-02 2.08928399e-01 2.38448558e-02\n",
      " 2.05800720e-08 2.36416629e-02 2.80921653e-03 2.01861854e-12\n",
      " 4.19303391e-01 1.24552648e-08]\n",
      "7====not====9\n",
      "[4.71314766e-10 1.81936478e-02 1.34394689e-05 4.44831547e-04\n",
      " 2.21077371e-02 5.05348654e-02 1.69379486e-03 4.08380560e-04\n",
      " 2.82866111e-01 6.23737192e-01]\n",
      "7====not====9\n",
      "[5.83583489e-07 7.14769716e-15 2.58494926e-12 1.15065246e-09\n",
      " 4.69408548e-06 3.84811608e-08 2.70500632e-12 2.74315992e-01\n",
      " 8.22539287e-06 7.25670466e-01]\n",
      "3====not====5\n",
      "[4.59255031e-05 1.02569143e-04 1.17878122e-05 3.48533879e-02\n",
      " 1.23131241e-06 5.67789806e-01 1.93262325e-04 1.94279167e-06\n",
      " 3.92313418e-01 4.68666873e-03]\n",
      "7====not====2\n",
      "[8.64988109e-08 2.95932979e-08 9.74988307e-01 9.39190811e-03\n",
      " 1.20196606e-04 3.50080306e-07 2.74456306e-06 8.09536766e-03\n",
      " 1.68106829e-04 7.23290322e-03]\n",
      "8====not====3\n",
      "[7.88268592e-11 1.36201242e-11 8.31422550e-07 8.91032435e-01\n",
      " 2.60553192e-05 4.23779718e-05 1.76831720e-10 5.24739974e-03\n",
      " 1.03588935e-01 6.19653303e-05]\n",
      "1====not====7\n",
      "[1.51605785e-09 2.30500090e-03 2.53811270e-05 5.53743324e-04\n",
      " 6.94231671e-07 1.33868759e-07 6.38631205e-10 9.92904515e-01\n",
      " 1.86053688e-04 4.02447533e-03]\n",
      "8====not====1\n",
      "[1.01759282e-05 5.45636011e-01 2.36132973e-03 1.01772626e-01\n",
      " 1.67389979e-09 1.06460310e-04 4.80131971e-08 3.10160744e-06\n",
      " 3.49658461e-01 4.51785166e-04]\n",
      "2====not====8\n",
      "[3.26565385e-04 1.68391892e-05 8.89642134e-02 8.16749991e-02\n",
      " 5.86147382e-07 9.74730584e-03 3.21626370e-08 1.61037594e-04\n",
      " 8.18242794e-01 8.65626968e-04]\n",
      "3====not====2\n",
      "[2.61214213e-04 3.22047961e-03 4.51515767e-01 2.68378664e-01\n",
      " 9.71348080e-07 1.80210533e-03 2.36188756e-03 2.32406385e-09\n",
      " 2.72455221e-01 3.68821847e-06]\n",
      "0====not====6\n",
      "[7.48906787e-04 6.94674038e-07 1.78296679e-12 5.19546721e-09\n",
      " 7.25685260e-02 1.65141497e-06 4.73759837e-01 1.65212076e-07\n",
      " 1.23098176e-02 4.40610396e-01]\n",
      "5====not====6\n",
      "[2.20787196e-02 6.52948258e-10 6.47964273e-02 1.64624691e-04\n",
      " 1.41595268e-06 7.08433702e-03 8.95973117e-01 1.29727967e-15\n",
      " 9.90135649e-03 9.03875037e-10]\n",
      "5====not====8\n",
      "[7.16478100e-04 6.05089281e-05 6.03272221e-07 1.48283197e-02\n",
      " 2.12764593e-04 2.21553873e-02 1.09050115e-05 6.83289270e-07\n",
      " 9.61870199e-01 1.44151187e-04]\n",
      "9====not====2\n",
      "[2.60565671e-01 1.25907630e-13 6.85152076e-01 1.40812047e-02\n",
      " 9.59060045e-08 5.38510002e-07 3.47542484e-03 3.00987616e-09\n",
      " 3.67249825e-02 3.66585343e-09]\n",
      "3====not====5\n",
      "[5.27306084e-04 1.20787952e-05 1.37727823e-04 1.37117074e-01\n",
      " 3.85402618e-11 8.51104998e-01 4.13976404e-04 1.97649431e-09\n",
      " 1.06868319e-02 5.86413752e-09]\n",
      "5====not====8\n",
      "[2.73024316e-04 4.96702510e-12 1.28952884e-06 1.09702875e-05\n",
      " 2.84602766e-06 4.73750798e-01 2.96379931e-02 9.54616026e-10\n",
      " 4.96301509e-01 2.15694741e-05]\n",
      "6====not====5\n",
      "[1.32582268e-02 7.73811963e-06 1.72673910e-02 3.20745011e-03\n",
      " 3.21888091e-04 3.81578008e-01 3.01653120e-01 4.02695611e-08\n",
      " 2.80161974e-01 2.54416307e-03]\n",
      "5====not====8\n",
      "[5.44782360e-07 1.08035865e-02 8.86100728e-03 1.18883895e-05\n",
      " 1.52303310e-02 1.82889670e-01 6.69708614e-03 8.30971944e-08\n",
      " 7.75182179e-01 3.23623801e-04]\n",
      "8====not====3\n",
      "[1.00354112e-08 8.01899139e-04 8.85285675e-05 4.60431380e-01\n",
      " 8.06836652e-04 4.66012107e-02 1.26928019e-06 1.04967259e-01\n",
      " 3.61659405e-01 2.46422027e-02]\n",
      "4====not====8\n",
      "[4.91990382e-06 3.24624125e-02 9.01445471e-03 6.75100393e-04\n",
      " 3.02807389e-01 1.19104776e-03 1.13069817e-02 3.59073492e-05\n",
      " 5.71291037e-01 7.12107499e-02]\n",
      "7====not====0\n",
      "[9.95751191e-01 1.60625801e-10 9.08426657e-09 4.70590629e-06\n",
      " 4.50838431e-07 2.39237784e-04 7.88381896e-10 3.15087493e-03\n",
      " 3.54326198e-04 4.99203058e-04]\n",
      "2====not====7\n",
      "[8.16942697e-02 9.68593487e-15 3.41937196e-06 3.68784748e-04\n",
      " 1.40874849e-06 2.15827899e-01 2.01276598e-07 6.26530675e-01\n",
      " 2.65881476e-02 4.89851947e-02]\n",
      "7====not====4\n",
      "[3.51569610e-09 1.42616124e-05 2.43842259e-10 3.06672964e-06\n",
      " 9.42989161e-01 2.31631606e-06 1.27790611e-06 3.86798046e-02\n",
      " 2.08870446e-05 1.82892206e-02]\n",
      "7====not====0\n",
      "[9.51830437e-01 1.99410241e-10 2.70491185e-10 1.19171320e-06\n",
      " 6.64910688e-03 4.05885708e-02 2.02009186e-08 3.43342720e-04\n",
      " 2.02833816e-04 3.84496843e-04]\n",
      "5====not====3\n",
      "[1.31943812e-05 2.12239038e-09 4.57253100e-05 9.86338109e-01\n",
      " 3.85232688e-14 1.35428433e-02 5.76198693e-08 3.88022976e-16\n",
      " 6.00686400e-05 1.00456347e-11]\n",
      "8====not====9\n",
      "[1.09627227e-04 2.47370155e-07 1.56676795e-03 1.62096138e-03\n",
      " 4.46904391e-03 3.76809641e-03 1.41075713e-05 2.22875872e-06\n",
      " 3.35078310e-01 6.53370609e-01]\n",
      "6====not====0\n",
      "[7.94161933e-01 7.18220597e-10 5.57173808e-03 3.41850338e-04\n",
      " 1.11679290e-05 1.06904582e-02 1.88321120e-01 2.70016900e-04\n",
      " 6.30677535e-04 1.03779688e-06]\n",
      "2====not====8\n",
      "[3.63566188e-10 5.47526498e-04 3.12462016e-03 1.47846592e-07\n",
      " 4.43812045e-02 2.24103013e-03 4.17536352e-01 9.08593163e-03\n",
      " 4.90264014e-01 3.28191729e-02]\n",
      "7====not====2\n",
      "[2.99889424e-06 9.61073821e-09 9.93689543e-01 1.28781521e-04\n",
      " 1.38025747e-03 9.27292451e-09 5.55241975e-05 4.35155897e-05\n",
      " 1.97133170e-04 4.50222687e-03]\n",
      "3====not====0\n",
      "[9.97064095e-01 4.66315517e-09 1.99274555e-03 7.32427143e-04\n",
      " 4.60136299e-15 5.73127723e-05 1.07874548e-05 1.97074372e-12\n",
      " 1.42627291e-04 2.89408389e-12]\n",
      "0====not====8\n",
      "[1.23125506e-03 7.13555856e-03 9.97779347e-02 9.03285135e-02\n",
      " 6.08322260e-07 3.62290544e-05 1.73796420e-05 2.84380500e-07\n",
      " 8.00044665e-01 1.42757209e-03]\n",
      "8====not====6\n",
      "[1.86229781e-02 3.00422932e-08 1.46141891e-02 3.50141088e-09\n",
      " 1.75540666e-04 6.77588179e-07 5.12470987e-01 3.66235151e-07\n",
      " 4.52597778e-01 1.51745026e-03]\n",
      "1====not====8\n",
      "[4.39093485e-07 2.85529564e-01 8.90767939e-02 1.09882060e-01\n",
      " 4.08888859e-05 3.02286873e-05 9.46494534e-06 7.05021228e-05\n",
      " 5.04283216e-01 1.10768418e-02]\n",
      "9====not====8\n",
      "[5.27596036e-08 1.52051749e-01 4.63201906e-05 1.08375331e-03\n",
      " 4.91736855e-04 4.22993308e-04 6.91841893e-06 1.06646895e-03\n",
      " 4.87689684e-01 3.57140323e-01]\n",
      "0====not====8\n",
      "[1.95897808e-02 3.30295631e-06 2.71931310e-02 2.93536090e-04\n",
      " 3.46187963e-07 1.07613204e-03 2.00021582e-03 5.89391092e-08\n",
      " 9.49842627e-01 8.68757111e-07]\n",
      "9====not====7\n",
      "[1.20425711e-05 1.30552949e-09 6.85099830e-04 2.16032694e-04\n",
      " 6.53549539e-04 3.24293500e-06 7.49170311e-06 9.97067288e-01\n",
      " 4.15991911e-06 1.35109195e-03]\n",
      "5====not====8\n",
      "[1.71327480e-08 1.54124257e-06 2.09603031e-06 2.65417783e-08\n",
      " 5.59689496e-05 5.21191884e-02 8.72381585e-08 1.56404751e-09\n"
     ]
    },
    {
     "name": "stdout",
     "output_type": "stream",
     "text": [
      " 9.47814792e-01 6.28119431e-06]\n",
      "2====not====5\n",
      "[1.63907171e-02 3.12370277e-08 1.38742870e-02 3.75948616e-03\n",
      " 4.14744520e-02 5.72549710e-01 2.35589859e-01 5.84759185e-06\n",
      " 1.16121290e-01 2.34319371e-04]\n",
      "7====not====9\n",
      "[1.84768712e-06 1.77127276e-06 3.98853654e-05 2.56400511e-05\n",
      " 7.11357181e-03 7.02671098e-05 4.66330891e-06 1.66821135e-01\n",
      " 9.86024809e-05 8.25822616e-01]\n",
      "5====not====6\n",
      "[2.21955564e-04 2.33043431e-08 5.42891550e-04 1.08322595e-03\n",
      " 2.28695775e-02 2.34554651e-01 4.54650299e-01 1.29184311e-09\n",
      " 2.84337799e-01 1.73957526e-03]\n",
      "7====not====9\n",
      "[5.54733464e-10 2.01987872e-04 3.87980282e-05 6.42282083e-04\n",
      " 7.66252433e-03 2.75831645e-04 2.21781984e-04 6.57648706e-03\n",
      " 1.10364033e-02 9.73343903e-01]\n",
      "2====not====9\n",
      "[4.37282752e-05 1.19074032e-04 4.04102490e-01 3.79086988e-03\n",
      " 3.17777125e-03 7.14229953e-04 5.50384516e-02 7.46691051e-11\n",
      " 2.80122030e-02 5.05001182e-01]\n",
      "5====not====3\n",
      "[2.03386197e-04 2.65283495e-08 1.72493058e-04 9.93846468e-01\n",
      " 1.26594152e-12 5.74915769e-03 1.97615788e-09 2.56341438e-06\n",
      " 2.58787516e-05 2.43152021e-08]\n",
      "9====not====3\n",
      "[2.69589234e-04 3.61716413e-09 1.68813270e-05 4.44417892e-01\n",
      " 1.61157903e-03 1.40758788e-01 5.34364427e-07 4.71620806e-05\n",
      " 3.39027067e-01 7.38505032e-02]\n",
      "4====not====8\n",
      "[4.75945175e-09 5.87517986e-03 2.49664252e-07 1.74708832e-07\n",
      " 1.37545584e-03 5.38806991e-10 2.34335237e-06 4.01484829e-05\n",
      " 9.50171606e-01 4.25348370e-02]\n",
      "3====not====9\n",
      "[2.90835204e-04 5.80570524e-04 1.00422259e-01 3.16542611e-01\n",
      " 5.95890800e-05 2.14234605e-04 1.66579240e-08 8.20375756e-03\n",
      " 1.46668144e-01 4.27017982e-01]\n",
      "9====not====7\n",
      "[4.68709726e-08 6.87956275e-02 8.54662356e-05 1.32248223e-03\n",
      " 1.35117421e-04 6.87560136e-03 2.17627192e-05 7.60201198e-01\n",
      " 1.26409847e-02 1.49921713e-01]\n",
      "8====not====4\n",
      "[1.80212254e-06 5.29892550e-02 7.50617055e-04 6.44806665e-06\n",
      " 8.57363201e-01 1.58413391e-04 2.03788160e-02 3.45871248e-03\n",
      " 5.67858808e-02 8.10685405e-03]\n",
      "7====not====4\n",
      "[1.87659368e-12 3.37055762e-07 1.19522596e-14 1.45858634e-10\n",
      " 9.68344604e-01 4.28989246e-06 9.52173295e-03 5.54557218e-05\n",
      " 2.97441618e-04 2.17761382e-02]\n",
      "3====not====5\n",
      "[3.41913524e-05 1.90989662e-07 2.26705406e-08 4.73431897e-01\n",
      " 5.02470667e-08 5.22329597e-01 1.27348414e-06 3.61643437e-06\n",
      " 3.78252789e-03 4.16632813e-04]\n",
      "2====not====6\n",
      "[5.90850595e-07 2.90444940e-02 1.65456897e-01 7.02186438e-04\n",
      " 3.89211965e-03 1.51176652e-04 7.83564132e-01 1.48133635e-08\n",
      " 1.67082200e-02 4.80168213e-04]\n",
      "8====not====3\n",
      "[3.38299598e-08 1.11996333e-01 1.52107670e-01 5.00069512e-01\n",
      " 1.72311834e-03 5.49810997e-02 5.54453326e-02 8.63443888e-06\n",
      " 1.23605522e-01 6.27439560e-05]\n",
      "7====not====1\n",
      "[4.86207817e-09 9.65110960e-01 1.23259669e-03 2.46172483e-02\n",
      " 1.26384815e-08 4.38214366e-04 2.75684874e-05 9.54285504e-05\n",
      " 7.86151262e-03 6.16453390e-04]\n",
      "4====not====6\n",
      "[3.66456022e-07 9.78954599e-03 3.67357876e-02 6.68739866e-03\n",
      " 2.44605796e-02 1.91907180e-03 8.85631057e-01 7.42253317e-06\n",
      " 6.84288438e-03 2.79258865e-02]\n",
      "5====not====8\n",
      "[1.02007023e-02 5.44956079e-09 3.30180264e-03 2.17874653e-06\n",
      " 6.18133300e-02 6.76625477e-04 1.20900355e-05 5.01415402e-09\n",
      " 8.73118009e-01 5.08752514e-02]\n",
      "9====not====7\n",
      "[1.75317074e-08 4.72859774e-06 3.39006808e-10 3.05179669e-04\n",
      " 3.54741634e-04 9.02731207e-04 1.26344097e-07 5.42103342e-01\n",
      " 5.27184322e-04 4.55801949e-01]\n",
      "5====not====6\n",
      "[5.49851520e-04 6.28578607e-03 1.42655856e-01 6.86230790e-04\n",
      " 2.59154596e-05 2.83956543e-01 5.56307352e-01 1.22230537e-08\n",
      " 9.52753031e-03 4.92192863e-06]\n",
      "0====not====8\n",
      "[1.09346814e-04 4.94060305e-07 2.40337257e-03 1.18935709e-05\n",
      " 8.95934170e-06 1.04027973e-04 2.22733497e-01 2.84448534e-06\n",
      " 7.73640928e-01 9.84636357e-04]\n",
      "4====not====9\n",
      "[1.58314586e-06 1.50820753e-02 2.50032507e-05 5.69921509e-03\n",
      " 1.69832542e-01 8.85319103e-04 2.18710940e-03 3.40366326e-03\n",
      " 1.08181174e-01 6.94702315e-01]\n",
      "7====not====0\n",
      "[7.97756256e-01 5.15657759e-11 1.97120081e-08 2.24578098e-03\n",
      " 8.02555468e-02 7.59694236e-02 8.13406425e-06 3.35486827e-02\n",
      " 1.42736825e-04 1.00734190e-02]\n",
      "7====not====9\n",
      "[1.36580284e-03 2.51650756e-02 1.95286476e-09 9.14494010e-05\n",
      " 1.39126483e-01 1.32299103e-03 1.59249259e-01 2.33646125e-01\n",
      " 6.64157272e-03 4.33391239e-01]\n",
      "5====not====3\n",
      "[2.43523459e-05 1.18911480e-04 3.71053054e-02 9.32413895e-01\n",
      " 3.99268297e-09 2.71381829e-02 8.54870048e-08 1.83182901e-07\n",
      " 3.19865872e-03 4.21883580e-07]\n",
      "5====not====6\n",
      "[9.96764069e-02 1.40228837e-06 4.25232230e-01 1.05368920e-04\n",
      " 5.67324587e-11 1.05466190e-02 4.64368166e-01 1.68021021e-09\n",
      " 6.97851786e-05 1.94323614e-08]\n",
      "7====not====5\n",
      "[5.26419681e-07 1.98692202e-05 8.94601468e-06 2.91316303e-03\n",
      " 3.93635976e-02 4.33766132e-01 3.49415550e-06 3.96407221e-01\n",
      " 2.55355986e-03 1.24963491e-01]\n",
      "4====not====1\n",
      "[2.18841545e-06 5.41414291e-01 1.28148850e-03 2.79747525e-02\n",
      " 9.30752143e-04 8.90125695e-03 8.50732057e-03 5.98730628e-06\n",
      " 2.47001126e-01 1.63980837e-01]\n",
      "2====not====8\n",
      "[6.39857251e-08 6.92248166e-10 8.00608409e-03 8.80164725e-04\n",
      " 3.39629145e-11 2.04233967e-05 8.98036209e-15 3.77946263e-08\n",
      " 9.91085923e-01 7.30214030e-06]\n",
      "9====not====7\n",
      "[9.31134527e-08 7.50264076e-12 3.73349983e-08 2.70913488e-07\n",
      " 1.09822439e-03 1.33915284e-09 7.84483933e-09 8.22115988e-01\n",
      " 3.39674335e-05 1.76751409e-01]\n",
      "3====not====2\n",
      "[2.40659930e-07 1.81236534e-02 4.47520975e-01 9.82252241e-04\n",
      " 1.97092221e-03 1.80497340e-06 3.56765030e-05 3.76824295e-01\n",
      " 3.77244793e-03 1.50767732e-01]\n",
      "9====not====4\n",
      "[4.80830076e-09 7.81375001e-10 3.08259301e-07 1.28605996e-04\n",
      " 9.98775076e-01 1.49079833e-05 1.10942596e-07 4.38479227e-06\n",
      " 4.00762352e-04 6.75838503e-04]\n",
      "6====not====0\n",
      "[6.82021736e-01 6.53962549e-05 1.62956984e-03 2.07260905e-01\n",
      " 3.20894605e-06 8.70115067e-03 1.22074609e-02 5.67790279e-08\n",
      " 8.79135829e-02 1.96932615e-04]\n",
      "3====not====8\n",
      "[1.17920871e-06 5.95729771e-08 6.78833516e-04 1.35067734e-03\n",
      " 2.67099354e-07 5.06876724e-03 3.67018575e-07 1.57862155e-08\n",
      " 9.92679757e-01 2.20076163e-04]\n",
      "2====not====8\n",
      "[2.19990440e-01 1.84696022e-10 1.71218211e-06 8.73573684e-05\n",
      " 1.71304234e-02 7.55752436e-02 1.53030187e-04 3.94871318e-09\n",
      " 5.88847609e-01 9.82141794e-02]\n",
      "9====not====8\n",
      "[1.02846664e-05 5.83212065e-05 2.49332507e-04 3.77080556e-01\n",
      " 2.71431651e-03 3.05241387e-02 4.31964399e-07 8.92420306e-05\n",
      " 4.82088980e-01 1.07184396e-01]\n",
      "5====not====8\n",
      "[1.43800781e-05 6.29529458e-02 2.25862026e-02 1.23897593e-03\n",
      " 2.30813361e-01 5.51044561e-02 1.83727025e-05 1.28584826e-05\n",
      " 6.13189568e-01 1.40688790e-02]\n",
      "5====not====6\n",
      "[9.96764069e-02 1.40228837e-06 4.25232230e-01 1.05368920e-04\n",
      " 5.67324587e-11 1.05466190e-02 4.64368166e-01 1.68021021e-09\n",
      " 6.97851786e-05 1.94323614e-08]\n",
      "5====not====3\n",
      "[8.46629229e-06 6.85654890e-10 2.67293224e-09 9.60299373e-01\n",
      " 1.63830230e-07 3.92511359e-02 9.86083631e-10 4.61653833e-05\n",
      " 1.16683856e-04 2.78007290e-04]\n",
      "1====not====5\n",
      "[2.30013796e-07 2.99062845e-07 3.05486765e-06 1.49093687e-02\n",
      " 1.86707742e-09 9.08651051e-01 8.89462142e-05 8.58640385e-07\n",
      " 7.59369322e-02 4.09257938e-04]\n",
      "9====not====8\n",
      "[1.03224899e-05 4.96897373e-04 7.27346172e-06 4.52801157e-02\n",
      " 5.42601743e-03 1.41323337e-01 1.54492727e-05 2.07845876e-03\n",
      " 7.32411609e-01 7.29505194e-02]\n",
      "4====not====8\n",
      "[6.25430706e-08 3.15650672e-06 1.92239188e-07 1.18523801e-09\n",
      " 3.74929348e-03 1.12475343e-07 1.41024796e-03 4.69466369e-09\n",
      " 7.30633107e-01 2.64203822e-01]\n",
      "3====not====5\n",
      "[1.35098184e-05 8.20774521e-05 1.65464572e-05 1.43281001e-01\n",
      " 9.62937924e-05 7.12394529e-01 1.05542296e-05 1.40424357e-05\n",
      " 1.40628493e-01 3.46295312e-03]\n",
      "5====not====0\n",
      "[6.21465604e-01 1.06373066e-04 5.80114734e-05 1.26229358e-04\n",
      " 1.75128871e-07 3.74871990e-01 8.20213230e-05 2.17601264e-05\n",
      " 3.26396020e-03 3.87493901e-06]\n",
      "5====not====6\n",
      "[1.21030070e-06 7.14114325e-02 5.61937959e-02 2.07322519e-02\n",
      " 1.93612017e-06 3.00243944e-01 3.63743863e-01 2.72383193e-05\n",
      " 1.87566964e-01 7.73637465e-05]\n",
      "8====not====3\n",
      "[5.47676819e-04 1.49476657e-02 3.19437847e-02 7.34335423e-01\n",
      " 5.42268821e-06 3.19959585e-04 1.42271998e-07 1.55403778e-07\n",
      " 2.17362530e-01 5.37240458e-04]\n",
      "3====not====7\n",
      "[2.68992947e-06 3.97672331e-06 5.23371414e-02 9.35493659e-02\n",
      " 2.20841419e-02 7.46963762e-03 5.61394929e-05 7.48757242e-01\n",
      " 2.58110321e-02 4.99286326e-02]\n",
      "9====not====8\n",
      "[1.03224899e-05 4.96897373e-04 7.27346172e-06 4.52801157e-02\n",
      " 5.42601743e-03 1.41323337e-01 1.54492727e-05 2.07845876e-03\n",
      " 7.32411609e-01 7.29505194e-02]\n",
      "2====not====8\n",
      "[3.63566188e-10 5.47526498e-04 3.12462016e-03 1.47846592e-07\n",
      " 4.43812045e-02 2.24103013e-03 4.17536352e-01 9.08593163e-03\n"
     ]
    },
    {
     "name": "stdout",
     "output_type": "stream",
     "text": [
      " 4.90264014e-01 3.28191729e-02]\n",
      "5====not====3\n",
      "[4.18831855e-03 1.34100206e-05 1.79030374e-03 6.64362325e-01\n",
      " 1.27503785e-06 1.59591139e-01 7.24152391e-06 2.45309027e-08\n",
      " 1.69965441e-01 8.05227482e-05]\n",
      "9====not====3\n",
      "[4.66651014e-04 2.60307529e-03 4.83970825e-04 8.68073600e-01\n",
      " 5.23454532e-06 6.35765165e-02 1.87994380e-05 3.57246046e-04\n",
      " 4.01076034e-02 2.43073027e-02]\n",
      "7====not====9\n",
      "[6.50533073e-07 2.76551541e-03 4.72877986e-14 3.53996831e-07\n",
      " 1.74863626e-01 3.38632033e-01 1.95737610e-03 1.24101000e-04\n",
      " 1.35983869e-01 3.45672474e-01]\n",
      "4====not====6\n",
      "[5.39923826e-06 7.68255688e-03 3.57424606e-03 7.33930420e-04\n",
      " 2.52733121e-02 7.12855025e-03 8.07766002e-01 1.91113223e-06\n",
      " 1.18399209e-01 2.94348832e-02]\n",
      "8====not====9\n",
      "[1.67224618e-06 1.55047848e-05 1.38765160e-06 4.42851857e-06\n",
      " 4.75222284e-02 2.93095832e-03 1.54669690e-04 2.22138889e-03\n",
      " 3.60821272e-01 5.86326490e-01]\n",
      "9====not====4\n",
      "[9.31063153e-08 4.52197927e-10 8.13299095e-05 7.10422554e-06\n",
      " 6.41354966e-01 3.05212479e-04 2.55108438e-04 3.05282592e-04\n",
      " 2.91824281e-04 3.57399079e-01]\n",
      "0====not====8\n",
      "[2.54977741e-01 3.04413095e-07 7.94483470e-02 3.23324335e-03\n",
      " 4.22816900e-05 2.26780343e-02 1.19973108e-02 2.59704602e-07\n",
      " 6.17519034e-01 1.01034444e-02]\n",
      "4====not====0\n",
      "[6.12396920e-01 7.42660756e-14 2.79566384e-04 1.08128266e-08\n",
      " 1.68361351e-06 2.84010645e-03 3.84474389e-01 3.24917493e-08\n",
      " 7.29119120e-06 1.99297996e-10]\n",
      "8====not====3\n",
      "[1.27816610e-02 1.84869546e-12 1.12376496e-03 9.43437141e-01\n",
      " 1.79495116e-09 1.05150874e-02 1.35970840e-10 5.98270046e-10\n",
      " 3.21421832e-02 1.60390701e-07]\n",
      "6====not====3\n",
      "[1.47615897e-01 3.63785324e-06 5.30970798e-02 3.02237027e-01\n",
      " 2.86894345e-06 2.10445408e-01 5.30571932e-02 1.80362658e-03\n",
      " 2.31734932e-01 2.32936826e-06]\n",
      "0====not====4\n",
      "[1.73368972e-02 2.16599196e-09 2.06428078e-04 6.87782763e-06\n",
      " 9.80625381e-01 4.36649412e-06 1.40807019e-06 3.90012539e-05\n",
      " 3.53873637e-04 1.42576451e-03]\n",
      "1====not====9\n",
      "[1.19471442e-05 5.27954904e-02 3.75572385e-02 5.82441905e-02\n",
      " 3.81732204e-02 9.40087727e-03 8.42775613e-04 3.13905991e-01\n",
      " 1.65538805e-02 4.72514389e-01]\n",
      "3====not====1\n",
      "[2.37931036e-07 6.33421899e-01 2.61071023e-03 3.15343934e-01\n",
      " 1.92979238e-06 1.99422636e-03 9.31753524e-04 6.50446911e-06\n",
      " 4.41262480e-02 1.56255714e-03]\n",
      "3====not====5\n",
      "[2.79003036e-04 2.13970231e-09 2.76655223e-04 2.09030879e-01\n",
      " 5.86297914e-06 7.68178985e-01 5.21643505e-08 4.61540348e-07\n",
      " 2.22210245e-02 7.07457940e-06]\n",
      "2====not====8\n",
      "[3.23730834e-06 2.89939799e-09 1.88113369e-04 4.23253784e-08\n",
      " 4.05207851e-10 1.24318642e-04 7.91411059e-09 1.80970097e-12\n",
      " 9.99684268e-01 8.72293584e-09]\n",
      "0====not====8\n",
      "[1.09346814e-04 4.94060305e-07 2.40337257e-03 1.18935709e-05\n",
      " 8.95934170e-06 1.04027973e-04 2.22733497e-01 2.84448534e-06\n",
      " 7.73640928e-01 9.84636357e-04]\n",
      "3====not====9\n",
      "[2.15714903e-08 1.21995099e-04 1.54506323e-02 2.05013533e-02\n",
      " 1.48754452e-05 5.15619957e-07 1.83101957e-07 1.61122656e-02\n",
      " 1.21390959e-02 9.35659062e-01]\n",
      "5====not====4\n",
      "[8.46510349e-04 1.05064525e-02 4.45191657e-03 5.85576138e-03\n",
      " 5.16892619e-01 8.02478878e-02 2.15507456e-01 2.03205275e-06\n",
      " 1.63819663e-01 1.86970043e-03]\n",
      "4====not====0\n",
      "[6.10150113e-01 8.40798385e-17 1.55795483e-04 2.15176631e-08\n",
      " 7.29158088e-04 1.43577153e-07 3.88309065e-01 1.22408673e-08\n",
      " 6.55363266e-04 3.27174162e-07]\n",
      "8====not====7\n",
      "[2.76707109e-05 2.14435442e-09 8.50383092e-03 2.26262289e-05\n",
      " 1.08887556e-02 1.00861210e-03 2.76054543e-03 6.06868543e-01\n",
      " 4.04446762e-03 3.65874946e-01]\n",
      "5====not====8\n",
      "[1.11433639e-02 1.00390301e-07 1.10817186e-07 1.18993833e-04\n",
      " 3.61245035e-08 1.22338723e-01 6.98391244e-08 6.54229067e-03\n",
      " 8.59489433e-01 3.66878616e-04]\n",
      "9====not====4\n",
      "[1.99875045e-03 1.63238763e-06 3.43927609e-03 2.06339003e-02\n",
      " 4.29023401e-01 2.00181106e-01 2.51383648e-04 6.40910179e-04\n",
      " 1.67334977e-01 1.76494663e-01]\n",
      "5====not====3\n",
      "[5.63970132e-05 1.14427919e-09 2.83522671e-06 9.93010173e-01\n",
      " 3.59601776e-16 6.93055975e-03 3.01261203e-10 1.05128846e-10\n",
      " 3.32688912e-08 8.13258437e-12]\n",
      "5====not====3\n",
      "[4.18831855e-03 1.34100206e-05 1.79030374e-03 6.64362325e-01\n",
      " 1.27503785e-06 1.59591139e-01 7.24152391e-06 2.45309027e-08\n",
      " 1.69965441e-01 8.05227482e-05]\n",
      "5====not====3\n",
      "[5.32346937e-06 7.91388732e-07 1.90427474e-05 4.80266423e-01\n",
      " 1.20047410e-05 3.93472342e-01 3.58216848e-05 2.18753491e-13\n",
      " 1.26188173e-01 7.82153520e-08]\n",
      "9====not====4\n",
      "[1.02092602e-05 1.84612779e-05 1.22618416e-03 1.40652527e-03\n",
      " 3.64733249e-01 2.85309521e-05 7.72735709e-04 2.21422828e-03\n",
      " 2.99739479e-01 3.29850397e-01]\n",
      "2====not====3\n",
      "[6.94383255e-03 7.32184467e-12 2.99713218e-01 4.55781803e-01\n",
      " 7.66823062e-03 2.13587407e-01 2.67969677e-04 1.42584407e-07\n",
      " 1.58763839e-02 1.61012811e-04]\n",
      "5====not====6\n",
      "[2.30427894e-02 4.34358751e-05 8.72332570e-13 1.38864217e-06\n",
      " 4.02126229e-02 2.17760326e-04 5.76265754e-01 2.96189025e-01\n",
      " 3.22082081e-02 3.18190153e-02]\n",
      "2====not====3\n",
      "[1.29631460e-05 5.38247139e-03 2.87819518e-01 6.38890501e-01\n",
      " 7.53302838e-05 1.36026275e-04 3.82679372e-06 3.16037454e-06\n",
      " 5.47154828e-02 1.29607203e-02]\n",
      "9====not====7\n",
      "[1.92896712e-06 5.06399377e-10 6.22878578e-07 7.69045025e-05\n",
      " 1.06086905e-03 2.95490210e-05 1.65169635e-07 5.14948303e-01\n",
      " 1.59152573e-04 4.83722505e-01]\n",
      "0====not====6\n",
      "[3.12542958e-03 4.02579024e-11 9.51978224e-07 2.15575365e-10\n",
      " 7.45852047e-04 2.60499091e-09 9.23095691e-01 7.28780063e-02\n",
      " 1.14238394e-07 1.53952303e-04]\n",
      "7====not====2\n",
      "[1.24778483e-05 2.57156626e-04 6.92105471e-01 2.83160648e-01\n",
      " 1.02232181e-03 1.45262561e-02 8.53168023e-04 1.22150663e-04\n",
      " 7.16497688e-03 7.75373043e-04]\n",
      "8====not====4\n",
      "[3.09866747e-07 4.29510633e-06 3.16889285e-08 6.25711715e-10\n",
      " 6.88782583e-01 4.64416434e-05 2.97459924e-01 6.70868397e-09\n",
      " 1.31059329e-02 6.00474224e-04]\n",
      "2====not====3\n",
      "[2.56125209e-02 2.88510940e-09 4.43749752e-01 5.11904990e-01\n",
      " 4.08955966e-06 1.12172742e-02 3.16111091e-03 6.97078616e-11\n",
      " 4.35025686e-03 2.22310198e-09]\n",
      "8====not====3\n",
      "[5.00453459e-06 1.98530527e-08 9.41580703e-02 6.90357794e-01\n",
      " 8.93006406e-12 9.94650565e-03 4.35022029e-05 1.44748069e-14\n",
      " 2.05489097e-01 5.80663980e-09]\n",
      "3====not====7\n",
      "[6.95382018e-12 6.22486902e-02 3.81424491e-03 3.18915531e-03\n",
      " 1.22227648e-06 3.85647066e-06 5.62456319e-07 9.30381396e-01\n",
      " 2.07100188e-04 1.53772139e-04]\n",
      "9====not====4\n",
      "[6.63990815e-07 1.35576418e-04 2.48566576e-05 9.84597628e-03\n",
      " 4.05884495e-01 1.06422413e-02 1.19833395e-05 1.97672702e-04\n",
      " 2.93891912e-01 2.79364622e-01]\n",
      "8====not====1\n",
      "[1.83923666e-04 5.06828450e-01 1.25999188e-03 2.12747167e-04\n",
      " 3.11532848e-05 3.86622951e-02 8.70884583e-03 1.91799711e-08\n",
      " 4.42788356e-01 1.32421781e-03]\n",
      "5====not====4\n",
      "[3.57079044e-06 6.13750390e-02 4.95338688e-02 1.16227595e-04\n",
      " 4.81139183e-01 4.50054275e-06 3.20854533e-05 1.80997346e-03\n",
      " 2.32546569e-02 3.82730895e-01]\n",
      "4====not====6\n",
      "[1.35328275e-06 1.03857978e-02 2.23867801e-04 3.11677078e-03\n",
      " 6.02306948e-04 3.84026594e-01 4.94574708e-01 3.09715917e-05\n",
      " 1.02094735e-01 4.94289501e-03]\n",
      "9====not====3\n",
      "[3.05757651e-08 2.22384108e-09 1.30985857e-08 9.94296784e-01\n",
      " 1.44181328e-07 7.74289954e-05 1.10916732e-09 2.05327178e-03\n",
      " 2.11034238e-03 1.46198181e-03]\n",
      "4====not====9\n",
      "[1.26822901e-08 1.79426082e-03 1.05292915e-06 3.15894430e-06\n",
      " 4.73845668e-01 3.23248381e-06 2.61424469e-04 4.17496009e-04\n",
      " 3.85850875e-03 5.19815185e-01]\n",
      "7====not====1\n",
      "[4.86207817e-09 9.65110960e-01 1.23259669e-03 2.46172483e-02\n",
      " 1.26384815e-08 4.38214366e-04 2.75684874e-05 9.54285504e-05\n",
      " 7.86151262e-03 6.16453390e-04]\n",
      "4====not====9\n",
      "[1.01677056e-05 1.02903479e-09 1.39003896e-07 6.16520738e-08\n",
      " 1.37188564e-02 1.29351198e-06 5.03133029e-04 1.24863649e-04\n",
      " 3.41620640e-03 9.82225278e-01]\n",
      "5====not====3\n",
      "[1.80631259e-04 2.55607944e-08 1.40729074e-09 7.96414040e-01\n",
      " 5.39841451e-07 8.11968482e-02 3.09802506e-09 3.80147801e-05\n",
      " 1.21392985e-01 7.76910789e-04]\n",
      "2====not====1\n",
      "[8.88751137e-10 6.26112145e-01 3.24480697e-01 2.72156965e-02\n",
      " 9.00090678e-08 1.14830355e-04 3.05193760e-04 1.00852503e-06\n",
      " 2.17618988e-02 8.43899144e-06]\n",
      "9====not====7\n",
      "[1.20425711e-05 1.30552949e-09 6.85099830e-04 2.16032694e-04\n",
      " 6.53549539e-04 3.24293500e-06 7.49170311e-06 9.97067288e-01\n",
      " 4.15991911e-06 1.35109195e-03]\n",
      "7====not====4\n",
      "[1.77448754e-08 6.27262552e-07 7.06852337e-13 1.33789226e-05\n",
      " 9.37752899e-01 4.12426041e-05 2.05608169e-04 1.36020118e-02\n",
      " 3.08766897e-05 4.83533376e-02]\n",
      "3====not====8\n",
      "[2.90073432e-07 7.00088705e-14 6.50745919e-06 1.56185187e-07\n",
      " 2.74760815e-04 5.88294481e-05 5.04617548e-06 2.76983397e-11\n"
     ]
    },
    {
     "name": "stdout",
     "output_type": "stream",
     "text": [
      " 9.99615661e-01 3.87493050e-05]\n",
      "2====not====6\n",
      "[1.17054022e-07 3.59107326e-14 1.09338982e-01 3.22165810e-10\n",
      " 7.86120019e-05 1.85044792e-10 8.90581171e-01 6.00650359e-10\n",
      " 1.11693467e-06 9.19392713e-12]\n",
      "5====not====8\n",
      "[7.31160924e-07 1.69628270e-07 2.24637723e-02 2.36859008e-01\n",
      " 4.28862687e-02 1.78605167e-01 4.46268120e-06 1.99119884e-04\n",
      " 4.86033688e-01 3.29476114e-02]\n",
      "3====not====9\n",
      "[1.24780464e-09 1.42731961e-03 5.11057565e-03 9.68453282e-02\n",
      " 1.22111979e-06 7.34607011e-05 1.64001896e-05 1.55660544e-04\n",
      " 4.35253387e-01 4.61116645e-01]\n",
      "2====not====8\n",
      "[1.21521431e-07 2.77390627e-03 1.50117513e-01 8.75664419e-02\n",
      " 1.92118587e-05 2.86738033e-04 3.43496824e-03 8.69663875e-09\n",
      " 7.53782320e-01 2.01877073e-03]\n",
      "1====not====2\n",
      "[2.68632761e-08 2.89512223e-01 6.50236785e-01 1.58172892e-04\n",
      " 6.57716308e-03 2.76781465e-06 6.59239209e-03 2.61524273e-04\n",
      " 4.44781802e-02 2.18076481e-03]\n",
      "2====not====3\n",
      "[2.65674093e-03 5.16732332e-09 1.21680606e-03 9.87687006e-01\n",
      " 3.65033330e-06 8.36697139e-03 5.11473147e-05 2.44530516e-11\n",
      " 1.76660161e-05 7.14071859e-09]\n",
      "7====not====4\n",
      "[4.97678955e-08 4.08429335e-05 5.33860574e-08 2.53104818e-03\n",
      " 7.04353014e-01 9.49206991e-03 5.35659853e-03 1.99908543e-01\n",
      " 8.57195122e-03 6.97458298e-02]\n",
      "3====not====5\n",
      "[1.04390852e-07 7.26849748e-11 8.53958292e-05 1.31031512e-02\n",
      " 6.42038037e-02 6.25452695e-01 1.41645584e-08 1.68526798e-07\n",
      " 2.96958140e-01 1.96526966e-04]\n",
      "7====not====4\n",
      "[1.94766384e-07 1.93780674e-14 1.83115933e-19 1.34500989e-10\n",
      " 8.29418034e-01 1.14690153e-04 7.72785873e-07 8.59353257e-05\n",
      " 2.65146754e-04 1.70115226e-01]\n",
      "3====not====9\n",
      "[2.20832328e-06 2.38729630e-02 1.63690626e-01 2.13066347e-01\n",
      " 3.08587834e-02 6.38644300e-04 5.46388878e-06 3.60687559e-03\n",
      " 1.52923865e-01 4.11334224e-01]\n",
      "9====not====4\n",
      "[1.55404560e-07 1.11376755e-04 2.39244991e-07 7.62158227e-05\n",
      " 4.97312097e-01 6.74747141e-04 3.51316975e-06 1.21112961e-01\n",
      " 1.10413169e-03 3.79604563e-01]\n",
      "6====not====8\n",
      "[1.00951713e-06 1.87433446e-08 1.81103835e-04 2.65432165e-10\n",
      " 2.64283979e-02 1.31701200e-06 4.09542924e-01 1.29769903e-04\n",
      " 5.03085738e-01 6.06297205e-02]\n",
      "4====not====5\n",
      "[2.91707686e-01 3.55011026e-08 3.23199008e-02 4.26138172e-04\n",
      " 1.67954763e-01 3.62095276e-01 1.42076075e-01 7.41338021e-04\n",
      " 1.61105941e-03 1.06772805e-03]\n",
      "3====not====7\n",
      "[3.54568843e-05 4.39742960e-06 2.31591968e-03 3.61535972e-01\n",
      " 1.27692689e-07 2.20636348e-02 1.25600019e-04 6.06194101e-01\n",
      " 4.18300818e-03 3.54178176e-03]\n",
      "7====not====8\n",
      "[1.28236467e-07 2.88766126e-01 1.24189571e-01 5.27347019e-04\n",
      " 7.46274856e-05 7.31012665e-06 6.24091230e-07 1.17757596e-01\n",
      " 4.52463485e-01 1.62131838e-02]\n",
      "9====not====7\n",
      "[1.65010517e-08 2.32454235e-04 6.47072061e-09 1.81558007e-02\n",
      " 2.81857835e-05 1.48955789e-05 1.93598553e-09 5.59376559e-01\n",
      " 3.34230371e-03 4.18849777e-01]\n",
      "8====not====3\n",
      "[1.18052287e-03 2.84975545e-08 1.02485554e-02 9.88516260e-01\n",
      " 8.32249152e-11 1.27009494e-05 7.58729694e-09 5.85368870e-10\n",
      " 4.19164024e-05 7.89878638e-09]\n",
      "3====not====9\n",
      "[3.16821502e-09 6.90410894e-10 5.13618969e-07 7.06292361e-06\n",
      " 1.04179227e-06 1.14497802e-06 8.47731354e-10 3.14543611e-02\n",
      " 1.65683535e-01 8.02852336e-01]\n",
      "4====not====9\n",
      "[1.39841681e-04 6.85822720e-07 1.53985591e-03 2.36536432e-04\n",
      " 3.03801554e-01 3.82824702e-04 6.99373476e-04 2.62029078e-02\n",
      " 1.17408913e-02 6.55255528e-01]\n",
      "1====not====8\n",
      "[4.39093485e-07 2.85529564e-01 8.90767939e-02 1.09882060e-01\n",
      " 4.08888859e-05 3.02286873e-05 9.46494534e-06 7.05021228e-05\n",
      " 5.04283216e-01 1.10768418e-02]\n",
      "7====not====9\n",
      "[5.39581947e-07 1.20738448e-03 2.86322128e-01 5.53799001e-02\n",
      " 2.55946328e-06 7.01084543e-06 7.05440595e-08 5.85117575e-02\n",
      " 2.61273746e-01 3.37294904e-01]\n",
      "5====not====6\n",
      "[2.30427894e-02 4.34358751e-05 8.72332570e-13 1.38864217e-06\n",
      " 4.02126229e-02 2.17760326e-04 5.76265754e-01 2.96189025e-01\n",
      " 3.22082081e-02 3.18190153e-02]\n",
      "2====not====7\n",
      "[4.12716519e-08 1.28384159e-06 5.36295032e-03 3.27691607e-02\n",
      " 1.27574090e-06 1.66715869e-04 8.88620616e-08 9.36216857e-01\n",
      " 2.47072980e-02 7.74327951e-04]\n",
      "2====not====5\n",
      "[3.35804147e-01 1.42739939e-10 5.30807430e-08 3.37702958e-03\n",
      " 5.83127147e-05 6.60347105e-01 1.69522878e-04 1.89069462e-13\n",
      " 2.43811201e-04 1.87141742e-08]\n",
      "9====not====3\n",
      "[1.27703043e-07 1.42802662e-06 7.25490672e-06 7.89143045e-01\n",
      " 5.43984236e-03 7.59668925e-02 1.86265661e-06 2.99232524e-04\n",
      " 9.78499406e-02 3.12903742e-02]\n",
      "5====not====9\n",
      "[1.40267902e-03 3.00004361e-07 1.10953971e-08 2.80656047e-01\n",
      " 3.63352639e-05 5.31243146e-02 1.80864605e-08 1.01660444e-03\n",
      " 4.47105130e-02 6.19053177e-01]\n",
      "5====not====4\n",
      "[2.30636293e-08 8.28948627e-08 7.84291911e-09 1.38838398e-05\n",
      " 9.80375453e-01 5.38414986e-03 8.04375069e-03 2.80189107e-08\n",
      " 1.28324094e-04 6.05429709e-03]\n",
      "4====not====9\n",
      "[3.07370189e-06 1.45105114e-06 2.30237199e-06 3.45547087e-04\n",
      " 1.08444568e-01 9.76924842e-04 5.64416981e-06 1.51858501e-03\n",
      " 9.43530816e-03 8.79266596e-01]\n",
      "8====not====6\n",
      "[1.89237503e-10 6.88448728e-08 9.86560650e-15 1.97721496e-11\n",
      " 3.75809364e-01 4.95311668e-07 5.63012281e-01 1.14513575e-05\n",
      " 6.69676999e-03 5.44695702e-02]\n",
      "9====not====3\n",
      "[5.60015381e-06 1.17757775e-07 1.60463859e-06 6.63471203e-01\n",
      " 3.93364500e-02 2.03871208e-01 3.31490465e-03 1.61094269e-02\n",
      " 7.22638493e-02 1.62563571e-03]\n",
      "7====not====9\n",
      "[5.39581947e-07 1.20738448e-03 2.86322128e-01 5.53799001e-02\n",
      " 2.55946328e-06 7.01084543e-06 7.05440595e-08 5.85117575e-02\n",
      " 2.61273746e-01 3.37294904e-01]\n",
      "5====not====6\n",
      "[9.96882347e-05 6.58556419e-10 7.93776892e-07 2.84090552e-06\n",
      " 1.55765956e-07 3.05181890e-02 9.68453850e-01 7.26243871e-13\n",
      " 9.24261240e-04 2.20496255e-07]\n",
      "9====not====7\n",
      "[1.09413196e-03 1.50712727e-08 4.47204578e-09 3.61599741e-05\n",
      " 1.70950924e-01 3.59626622e-02 4.25491730e-04 6.27960788e-01\n",
      " 1.35657867e-03 1.62213244e-01]\n",
      "2====not====4\n",
      "[1.14433523e-10 2.50590115e-07 4.20367215e-06 1.03308094e-08\n",
      " 9.26774899e-01 1.09264731e-09 3.59831837e-04 2.08779423e-02\n",
      " 7.44349269e-06 5.19754174e-02]\n",
      "8====not====5\n",
      "[8.66584342e-03 1.27974525e-04 5.73001523e-04 1.68618850e-02\n",
      " 2.00935470e-05 6.89233759e-01 4.06328570e-05 4.34557338e-10\n",
      " 2.84467035e-01 9.77455255e-06]\n",
      "5====not====8\n",
      "[3.42404480e-01 2.11547513e-09 1.02820876e-04 1.01961630e-03\n",
      " 3.07824370e-07 4.06735008e-04 6.76912098e-05 1.02049699e-06\n",
      " 6.55990711e-01 6.61499867e-06]\n",
      "3====not====5\n",
      "[2.84901302e-03 8.73557499e-05 1.15022025e-03 1.80693828e-01\n",
      " 3.02524875e-03 6.58169731e-01 2.82866142e-03 3.80699754e-10\n",
      " 1.51193496e-01 2.44553222e-06]\n",
      "6====not====8\n",
      "[2.27168224e-08 3.82219217e-09 1.09203547e-02 2.85736782e-07\n",
      " 4.54598310e-05 1.88136101e-08 3.35285961e-01 9.53846636e-09\n",
      " 6.53716506e-01 3.13781260e-05]\n",
      "9====not====4\n",
      "[2.65304496e-06 1.29498009e-06 4.04067321e-07 7.69757388e-04\n",
      " 7.68156612e-01 3.92143420e-03 5.02502883e-05 2.80783155e-03\n",
      " 7.15414558e-03 2.17135617e-01]\n",
      "2====not====6\n",
      "[2.42321090e-05 5.91629929e-08 5.51986174e-04 1.17888286e-04\n",
      " 8.03628794e-07 6.97161546e-06 9.99263803e-01 4.90030103e-14\n",
      " 3.37903097e-05 4.65943762e-07]\n",
      "8====not====5\n",
      "[8.95183242e-08 8.08344975e-02 5.62765160e-07 3.07962626e-02\n",
      " 3.14840577e-02 3.15128504e-01 9.56659660e-02 3.55762803e-04\n",
      " 2.63441039e-01 1.82293258e-01]\n",
      "5====not====4\n",
      "[1.60884177e-05 2.99854430e-09 1.35363701e-04 4.62276601e-07\n",
      " 9.98467869e-01 8.17798740e-05 5.49933043e-06 3.11629623e-05\n",
      " 1.33097898e-04 1.12867342e-03]\n",
      "7====not====9\n",
      "[1.30596803e-05 8.09135846e-08 6.62650397e-11 2.41305065e-05\n",
      " 1.69694885e-01 4.79920622e-03 1.12257617e-03 1.71490564e-01\n",
      " 1.22361804e-02 6.40619316e-01]\n",
      "3====not====9\n",
      "[1.28973359e-06 9.76490980e-05 9.81611157e-04 1.85842371e-02\n",
      " 6.26492866e-05 3.11660199e-04 1.37162713e-06 1.16729670e-01\n",
      " 6.08515302e-02 8.02378331e-01]\n",
      "5====not====1\n",
      "[2.75008754e-07 8.02135656e-01 1.40685945e-02 1.09852504e-02\n",
      " 1.91988282e-09 1.07220344e-01 7.99664848e-06 1.87243948e-09\n",
      " 6.55818660e-02 1.41138980e-08]\n",
      "2====not====8\n",
      "[1.63879139e-06 5.67204422e-06 2.47337740e-03 6.10387724e-04\n",
      " 4.45208107e-04 3.05544911e-03 4.32475170e-08 1.14833215e-01\n",
      " 8.36575272e-01 4.19997370e-02]\n",
      "9====not====0\n",
      "[9.96044962e-01 8.24087201e-10 1.19326014e-03 2.53709002e-06\n",
      " 7.37227600e-07 2.40112681e-03 1.32301317e-04 1.35336871e-04\n",
      " 2.82690814e-06 8.69109039e-05]\n",
      "3====not====9\n",
      "[3.16821502e-09 6.90410894e-10 5.13618969e-07 7.06292361e-06\n",
      " 1.04179227e-06 1.14497802e-06 8.47731354e-10 3.14543611e-02\n",
      " 1.65683535e-01 8.02852336e-01]\n",
      "8====not====3\n",
      "[1.39697146e-06 1.34845577e-03 3.72457273e-01 5.63169449e-01\n",
      " 1.91427093e-08 2.75940302e-05 2.85232140e-07 1.95395219e-02\n"
     ]
    },
    {
     "name": "stdout",
     "output_type": "stream",
     "text": [
      " 2.91935012e-02 1.42625038e-02]\n",
      "2====not====7\n",
      "[8.16942697e-02 9.68593487e-15 3.41937196e-06 3.68784748e-04\n",
      " 1.40874849e-06 2.15827899e-01 2.01276598e-07 6.26530675e-01\n",
      " 2.65881476e-02 4.89851947e-02]\n",
      "4====not====2\n",
      "[5.49182732e-08 3.59062450e-03 9.21727748e-01 7.14874766e-02\n",
      " 1.32599381e-11 1.71230014e-05 4.22736001e-04 7.35223839e-14\n",
      " 2.75421614e-03 2.09349264e-08]\n",
      "3====not====8\n",
      "[2.62674481e-03 8.32130067e-06 9.96581515e-05 4.45668263e-01\n",
      " 6.20299226e-06 7.20183393e-03 2.41643694e-05 6.55670806e-05\n",
      " 5.44252973e-01 4.62711784e-05]\n",
      "4====not====1\n",
      "[1.54096982e-08 9.00491839e-01 4.08678057e-05 5.59717644e-03\n",
      " 1.66059907e-02 3.05204994e-04 2.31140548e-04 5.66138321e-05\n",
      " 5.98335635e-02 1.68375876e-02]\n",
      "7====not====9\n",
      "[4.42886394e-08 5.22019103e-04 1.35713372e-04 7.29206175e-03\n",
      " 1.01156424e-03 2.56990744e-05 6.66668471e-07 1.30949294e-03\n",
      " 1.58332501e-01 8.31370237e-01]\n",
      "0====not====5\n",
      "[2.48279649e-01 9.01275374e-09 1.52045439e-03 1.68480046e-04\n",
      " 2.70391251e-04 7.49686826e-01 1.81908848e-05 2.75472177e-05\n",
      " 2.78209248e-05 6.31497620e-07]\n",
      "0====not====4\n",
      "[1.40916756e-08 1.86873263e-06 3.79527772e-07 7.24879548e-08\n",
      " 6.39336332e-01 1.70141903e-08 1.94577443e-04 1.34925515e-03\n",
      " 1.62319101e-04 3.58955164e-01]\n",
      "0====not====5\n",
      "[4.84090908e-01 3.16293869e-12 3.02237471e-08 3.12936143e-08\n",
      " 1.02655250e-07 5.15776812e-01 1.31169587e-04 1.44754574e-10\n",
      " 9.46363412e-07 2.68776233e-10]\n",
      "7====not====4\n",
      "[3.52767502e-08 8.27479055e-08 5.45213315e-13 1.38047895e-05\n",
      " 9.83067250e-01 9.48287945e-05 4.41360842e-05 2.45553023e-03\n",
      " 7.09981660e-06 1.43172327e-02]\n",
      "8====not====2\n",
      "[1.23609716e-07 3.12719693e-06 8.20270081e-01 1.79680181e-01\n",
      " 1.20125368e-13 1.08378272e-08 1.05333066e-08 5.19063827e-08\n",
      " 4.63653972e-05 4.85881070e-08]\n",
      "8====not====3\n",
      "[1.00740433e-04 1.03084524e-04 2.47191992e-01 7.30811216e-01\n",
      " 1.02361866e-07 3.02370614e-05 1.67783728e-07 3.21707554e-08\n",
      " 2.16664347e-02 9.59930527e-05]\n",
      "4====not====9\n",
      "[8.82642566e-09 6.12796846e-04 2.42577709e-06 4.97606457e-03\n",
      " 4.95338839e-01 3.73922796e-04 4.02341280e-06 1.35914455e-05\n",
      " 1.08890465e-03 4.97589423e-01]\n",
      "7====not====4\n",
      "[5.17881309e-07 5.05930963e-06 9.86191895e-03 1.26416264e-02\n",
      " 8.68715950e-01 2.12544512e-05 2.10648092e-04 9.15632533e-02\n",
      " 2.11530509e-06 1.69776562e-02]\n",
      "1====not====4\n",
      "[1.49389459e-09 7.81772384e-04 2.02882913e-02 2.29528790e-02\n",
      " 4.94767531e-01 3.63130923e-01 1.14465088e-02 2.27573156e-11\n",
      " 8.65833080e-02 4.87846045e-05]\n",
      "2====not====3\n",
      "[1.27009181e-02 4.22333408e-10 4.36901762e-01 5.34035683e-01\n",
      " 7.61869263e-07 6.35611532e-03 4.01522538e-07 1.25327339e-03\n",
      " 1.19720940e-03 7.55387499e-03]\n",
      "5====not====9\n",
      "[3.35540527e-04 5.83515186e-06 2.97059774e-04 2.24261615e-04\n",
      " 6.10352736e-03 1.52692624e-01 6.37199730e-04 8.90884309e-06\n",
      " 2.47805096e-01 5.91889947e-01]\n",
      "9====not====8\n",
      "[4.06628269e-05 4.21533632e-03 6.62062269e-04 4.75879419e-02\n",
      " 1.12374494e-02 1.46321002e-02 8.13383840e-04 1.74519151e-06\n",
      " 9.09529917e-01 1.12794014e-02]\n",
      "9====not====7\n",
      "[1.40549841e-07 1.09302130e-10 4.26128485e-12 4.10252765e-04\n",
      " 4.09368948e-05 1.09509471e-05 2.75084049e-10 7.32643316e-01\n",
      " 1.61037678e-04 2.66733365e-01]\n",
      "2====not====3\n",
      "[1.68414920e-03 4.35774275e-09 4.04470971e-06 9.79411046e-01\n",
      " 1.65707241e-05 1.86529945e-02 8.41165954e-06 2.42784474e-07\n",
      " 1.05697971e-04 1.16838218e-04]\n",
      "5====not====3\n",
      "[8.18276769e-06 1.57567254e-05 1.34349319e-03 8.11360231e-01\n",
      " 1.77843419e-05 1.84663647e-01 5.07240718e-06 6.18084176e-07\n",
      " 2.23028147e-03 3.54932627e-04]\n",
      "6====not====5\n",
      "[3.82880006e-02 1.18761179e-11 9.77585923e-07 4.90176247e-11\n",
      " 1.14725195e-10 9.60962748e-01 7.48062257e-04 1.63063942e-14\n",
      " 2.11688228e-07 3.12805284e-12]\n",
      "8====not====6\n",
      "[1.86229781e-02 3.00422932e-08 1.46141891e-02 3.50141088e-09\n",
      " 1.75540666e-04 6.77588179e-07 5.12470987e-01 3.66235151e-07\n",
      " 4.52597778e-01 1.51745026e-03]\n",
      "5====not====3\n",
      "[2.29409724e-06 2.81639500e-02 3.92084370e-03 9.20341544e-01\n",
      " 1.15342360e-07 1.12823286e-02 5.29145969e-04 1.43191156e-04\n",
      " 3.10411414e-02 4.57544573e-03]\n",
      "8====not====5\n",
      "[2.70486652e-02 4.14578026e-05 7.43402327e-03 6.50184220e-02\n",
      " 1.09740231e-07 4.77900745e-01 4.14941035e-05 2.10816572e-07\n",
      " 4.20604684e-01 1.91018841e-03]\n",
      "5====not====8\n",
      "[2.94273266e-05 2.15661818e-14 6.25229456e-03 4.66060665e-05\n",
      " 1.40972132e-03 6.40928492e-03 1.18512418e-08 4.96101325e-04\n",
      " 9.79353831e-01 6.00272153e-03]\n",
      "7====not====1\n",
      "[1.58262090e-08 8.03356652e-01 4.89450009e-03 1.29025791e-04\n",
      " 1.71249787e-04 1.49896049e-05 1.20399441e-04 1.24259588e-01\n",
      " 2.05950982e-02 4.64584813e-02]\n",
      "1====not====2\n",
      "[1.39723281e-09 2.42193862e-01 4.38275270e-01 3.15847962e-01\n",
      " 5.97128259e-12 1.15688731e-03 3.15228370e-04 4.19453302e-09\n",
      " 2.21068639e-03 9.81142069e-08]\n",
      "5====not====3\n",
      "[1.11104361e-04 7.07067640e-10 1.84249842e-04 6.24896680e-01\n",
      " 6.50437186e-11 3.74783846e-01 4.47456552e-08 2.69717154e-08\n",
      " 2.40356792e-05 1.12554610e-08]\n",
      "4====not====9\n",
      "[1.08126792e-12 1.15205229e-03 8.99830088e-07 2.85953398e-03\n",
      " 3.38485903e-03 3.60822291e-04 1.28079260e-05 5.59225143e-08\n",
      " 3.78984632e-01 6.13244337e-01]\n",
      "7====not====8\n",
      "[1.60590184e-11 6.96845127e-02 5.25437947e-06 1.32927110e-06\n",
      " 1.69693166e-05 2.05891631e-04 9.56524872e-05 1.20073435e-04\n",
      " 5.44337971e-01 3.85532346e-01]\n",
      "5====not====6\n",
      "[9.08738415e-04 1.09618811e-03 8.90138310e-06 6.91372034e-06\n",
      " 1.05847068e-02 6.91048491e-06 9.82150779e-01 4.72787872e-07\n",
      " 4.72350716e-03 5.12881840e-04]\n",
      "8====not====3\n",
      "[2.54363593e-02 1.46513658e-11 8.62595534e-05 9.14367874e-01\n",
      " 7.35885607e-08 3.12670109e-02 1.86295977e-13 1.03616810e-06\n",
      " 2.88362904e-02 5.09620485e-06]\n",
      "6====not====5\n",
      "[2.56559493e-03 9.33930248e-08 1.67692642e-03 8.30078193e-06\n",
      " 6.49614618e-06 7.26947162e-01 2.31892921e-04 9.58809078e-12\n",
      " 2.68562800e-01 7.32976048e-07]\n",
      "4====not====6\n",
      "[3.51616755e-07 3.15988639e-01 6.18843682e-05 2.75524492e-05\n",
      " 4.70260842e-02 3.12865088e-06 6.32308138e-01 3.18419726e-06\n",
      " 1.97253783e-03 2.60850004e-03]\n",
      "0====not====5\n",
      "[2.27640911e-01 2.86773448e-08 1.11452200e-09 9.71382350e-07\n",
      " 4.54162868e-07 7.70663236e-01 5.02762390e-06 8.85096267e-08\n",
      " 1.67980958e-03 9.47195305e-06]\n",
      "0====not====5\n",
      "[8.26865859e-04 7.72772987e-08 2.85989484e-01 2.37996449e-04\n",
      " 1.82747897e-06 5.46661220e-01 1.20614853e-04 1.64440482e-06\n",
      " 1.66149010e-01 1.12595338e-05]\n",
      "8====not====0\n",
      "[4.77599952e-01 2.62649492e-12 4.07029004e-02 1.04364712e-05\n",
      " 1.96323426e-03 3.04929226e-02 5.95699107e-03 1.11988132e-09\n",
      " 4.43220321e-01 5.32412358e-05]\n",
      "2====not====3\n",
      "[1.38636618e-01 1.60627251e-10 5.28511245e-02 7.47474904e-01\n",
      " 1.90385364e-02 3.31906371e-02 8.48936301e-05 9.71367250e-05\n",
      " 2.64422851e-05 8.59970720e-03]\n",
      "9====not====7\n",
      "[3.71897244e-12 5.04195510e-10 1.63232169e-15 2.28922941e-07\n",
      " 1.83849846e-06 2.07459820e-06 4.35350573e-12 7.34303504e-01\n",
      " 2.07290646e-05 2.65671625e-01]\n",
      "9====not====3\n",
      "[3.68302284e-03 2.85573425e-04 9.43979790e-05 3.39227862e-01\n",
      " 2.34911098e-02 1.72459036e-01 5.11874081e-06 1.15557349e-03\n",
      " 3.18254803e-01 1.41343503e-01]\n",
      "9====not====7\n",
      "[1.02808988e-06 6.44955245e-11 2.52028731e-06 4.42727601e-03\n",
      " 1.19205188e-05 1.17213665e-05 1.54035603e-07 9.92539596e-01\n",
      " 7.06639967e-06 2.99871675e-03]\n",
      "7====not====2\n",
      "[8.03957696e-06 9.23221612e-03 7.07615213e-01 2.44444579e-01\n",
      " 1.28519925e-06 1.45767314e-02 5.53447240e-03 7.54201043e-05\n",
      " 1.42080201e-02 4.30402346e-03]\n",
      "6====not====4\n",
      "[5.26377913e-08 3.45598370e-04 2.50639053e-02 8.62777790e-05\n",
      " 5.32624407e-01 6.57818966e-05 3.83670340e-01 2.53403585e-05\n",
      " 1.29394241e-02 4.51788727e-02]\n",
      "3====not====5\n",
      "[7.50178769e-03 9.72151393e-11 3.99677631e-07 3.22795841e-03\n",
      " 2.21258403e-06 8.30125506e-01 1.36523497e-10 9.97932965e-10\n",
      " 1.59083075e-01 5.90592421e-05]\n",
      "9====not====7\n",
      "[5.71931588e-03 2.29919386e-04 1.49901974e-03 1.17247734e-06\n",
      " 2.39985688e-01 5.81351724e-03 1.24142187e-01 4.77852961e-01\n",
      " 1.63106613e-03 1.43125152e-01]\n",
      "7====not====2\n",
      "[2.61536641e-04 3.98392627e-06 9.02957187e-01 5.13682236e-02\n",
      " 8.84351194e-06 1.09009086e-02 7.69798597e-04 3.12412513e-02\n",
      " 7.64833461e-04 1.72343330e-03]\n",
      "3====not====2\n",
      "[7.14288160e-04 2.52999163e-11 9.16903900e-01 8.23461498e-02\n",
      " 1.35730864e-12 3.36176925e-05 6.37970657e-09 5.34853275e-09\n",
      " 2.03265604e-06 6.54127463e-12]\n",
      "9====not====4\n",
      "[1.41304068e-05 1.27689669e-09 1.65965078e-02 6.90655254e-03\n",
      " 5.48688166e-01 2.34365824e-01 3.88692054e-02 1.03490338e-05\n",
      " 2.30524889e-03 1.52244015e-01]\n",
      "3====not====8\n",
      "[1.36091131e-07 1.15156492e-05 7.65327532e-05 1.33158092e-01\n",
      " 1.78978527e-06 6.96869190e-04 8.69727508e-09 7.48242758e-08\n"
     ]
    },
    {
     "name": "stdout",
     "output_type": "stream",
     "text": [
      " 8.60498083e-01 5.55689794e-03]\n",
      "2====not====6\n",
      "[9.70631369e-05 1.00940562e-06 5.97819939e-02 4.34240123e-05\n",
      " 1.35555981e-14 3.83774770e-04 9.39664737e-01 1.27584003e-16\n",
      " 2.79979265e-05 2.55703894e-11]\n",
      "5====not====2\n",
      "[3.66760017e-03 1.30119073e-08 4.90575198e-01 3.51687379e-01\n",
      " 3.99044763e-14 1.53205790e-01 4.24914391e-05 6.78439217e-11\n",
      " 8.21528157e-04 6.25089399e-13]\n",
      "9====not====4\n",
      "[8.41573480e-13 3.53235318e-12 5.18195719e-13 2.73986782e-12\n",
      " 6.14330709e-01 1.48816499e-08 3.87834351e-06 4.46440700e-08\n",
      " 5.37802877e-04 3.85127550e-01]\n",
      "8====not====1\n",
      "[4.71587640e-06 5.38448788e-01 3.71911283e-02 9.08424219e-02\n",
      " 4.75612991e-05 9.44953714e-04 3.91628669e-04 5.07333499e-05\n",
      " 3.17313455e-01 1.47646146e-02]\n",
      "5====not====8\n",
      "[2.52075038e-01 1.26493062e-11 2.73112750e-07 2.75391524e-03\n",
      " 1.35597376e-11 2.81008912e-01 5.82517559e-09 2.65758623e-07\n",
      " 4.64160999e-01 5.91435628e-07]\n",
      "0====not====6\n",
      "[1.88970074e-05 3.31173589e-06 2.56155544e-07 8.56596112e-11\n",
      " 1.40707203e-01 1.50871230e-06 5.96349990e-01 2.45958650e-01\n",
      " 3.49740296e-03 1.34627795e-02]\n",
      "5====not====2\n",
      "[8.99073928e-05 1.31546468e-01 8.66024400e-01 1.75331083e-07\n",
      " 1.22618624e-08 9.84997941e-05 1.45623367e-04 1.91848817e-07\n",
      " 2.09466770e-03 5.36324343e-08]\n",
      "3====not====9\n",
      "[2.54011752e-03 4.94595699e-06 1.48573888e-02 2.36610001e-01\n",
      " 6.20818899e-04 2.15005297e-03 3.61402268e-05 2.94830928e-03\n",
      " 1.23993423e-01 6.16238803e-01]\n",
      "5====not====8\n",
      "[2.48035630e-04 7.62684281e-02 3.09494528e-04 1.77247413e-03\n",
      " 8.00226656e-02 3.53396454e-03 1.33732192e-02 2.38485258e-05\n",
      " 8.05334601e-01 1.91132689e-02]\n",
      "3====not====8\n",
      "[3.13512164e-07 6.20001631e-03 1.66698316e-01 3.07995057e-01\n",
      " 1.83490437e-04 2.16823300e-03 1.48763345e-05 9.34033343e-05\n",
      " 4.15293176e-01 1.01353119e-01]\n",
      "9====not====7\n",
      "[3.26307758e-05 1.68461420e-09 5.17586905e-13 4.47557218e-08\n",
      " 1.87478787e-02 9.06080412e-09 5.59813779e-06 4.97305414e-01\n",
      " 3.12813151e-03 4.80780291e-01]\n",
      "2====not====7\n",
      "[8.16942697e-02 9.68593487e-15 3.41937196e-06 3.68784748e-04\n",
      " 1.40874849e-06 2.15827899e-01 2.01276598e-07 6.26530675e-01\n",
      " 2.65881476e-02 4.89851947e-02]\n",
      "1====not====8\n",
      "[7.31270471e-08 9.95346959e-02 1.65937020e-02 1.84064134e-04\n",
      " 3.80973614e-04 2.61902166e-07 1.62661344e-06 7.37709323e-08\n",
      " 8.83043089e-01 2.61439782e-04]\n",
      "6====not====5\n",
      "[7.72103457e-02 1.85716309e-03 8.77356487e-02 2.29735961e-02\n",
      " 1.74024628e-04 4.80126333e-01 1.40899937e-01 8.93872137e-12\n",
      " 1.89022566e-01 3.86278036e-07]\n",
      "4====not====8\n",
      "[2.45662835e-10 1.84422860e-01 1.27080699e-04 7.17175623e-06\n",
      " 6.97576861e-02 7.43455828e-06 3.43753418e-01 1.49774512e-07\n",
      " 3.90185364e-01 1.17388346e-02]\n",
      "2====not====8\n",
      "[6.39857251e-08 6.92248166e-10 8.00608409e-03 8.80164725e-04\n",
      " 3.39629145e-11 2.04233967e-05 8.98036209e-15 3.77946263e-08\n",
      " 9.91085923e-01 7.30214030e-06]\n",
      "7====not====2\n",
      "[3.80104182e-03 1.13879199e-06 9.67340153e-01 2.20620677e-03\n",
      " 2.19741598e-04 6.52669110e-03 1.39749518e-03 7.85882137e-05\n",
      " 1.81625325e-02 2.66410804e-04]\n",
      "2====not====1\n",
      "[1.20799080e-04 5.04244242e-01 2.16496526e-01 4.50036966e-03\n",
      " 1.11188124e-08 1.86819409e-04 2.03580253e-03 1.38794220e-11\n",
      " 2.72415292e-01 1.37714828e-07]\n",
      "0====not====8\n",
      "[6.96676238e-02 1.61496384e-06 1.48945729e-01 1.87164280e-02\n",
      " 3.82344246e-03 6.47686601e-04 3.04408877e-04 8.20166008e-08\n",
      " 7.57104542e-01 7.88442437e-04]\n",
      "3====not====9\n",
      "[1.98897364e-08 1.82531910e-06 6.09802404e-03 1.83635165e-03\n",
      " 4.31009142e-05 2.68558182e-08 6.91055451e-06 1.06339152e-01\n",
      " 3.27411943e-04 8.85347177e-01]\n",
      "3====not====5\n",
      "[1.04390852e-07 7.26849748e-11 8.53958292e-05 1.31031512e-02\n",
      " 6.42038037e-02 6.25452695e-01 1.41645584e-08 1.68526798e-07\n",
      " 2.96958140e-01 1.96526966e-04]\n",
      "5====not====4\n",
      "[1.97967187e-08 1.20507668e-03 4.30963898e-04 7.12821521e-06\n",
      " 9.48548072e-01 2.17582126e-06 7.71436020e-06 4.39121153e-04\n",
      " 4.06845998e-03 4.52912683e-02]\n",
      "4====not====9\n",
      "[6.10717213e-06 2.49602486e-04 1.80337586e-03 2.47921235e-01\n",
      " 2.11259826e-01 2.82744776e-02 4.14776499e-02 8.42097748e-06\n",
      " 1.27104436e-01 3.41894869e-01]\n",
      "3====not====2\n",
      "[2.42997576e-11 4.23924521e-06 9.97413524e-01 1.88996970e-03\n",
      " 1.79709451e-08 1.60265401e-06 4.34104721e-07 2.68568093e-05\n",
      " 5.66120495e-04 9.72350384e-05]\n",
      "5====not====8\n",
      "[1.50806091e-05 7.06966048e-09 4.26745155e-07 1.85166503e-04\n",
      " 6.61447030e-03 2.06704576e-01 3.72320425e-08 8.43448734e-06\n",
      " 6.27111340e-01 1.59360461e-01]\n",
      "7====not====2\n",
      "[2.86044372e-08 3.46094056e-03 5.82123488e-01 1.67743502e-02\n",
      " 2.97293280e-04 1.17684216e-05 7.30112442e-06 3.95739304e-01\n",
      " 9.84589703e-04 6.00936765e-04]\n",
      "0====not====5\n",
      "[6.87265803e-03 7.39757082e-12 1.08669525e-03 6.27366772e-07\n",
      " 1.62240069e-09 9.91406101e-01 5.49888067e-08 2.13683310e-12\n",
      " 6.33861657e-04 6.90271304e-12]\n",
      "3====not====2\n",
      "[2.41332546e-06 5.54875463e-06 7.92625089e-01 1.36282152e-03\n",
      " 3.00181729e-12 2.18636468e-05 2.05978152e-01 5.33362783e-07\n",
      " 3.57292048e-06 5.46722859e-09]\n",
      "6====not====5\n",
      "[9.35963437e-02 6.69420304e-07 1.25593719e-02 4.37775668e-05\n",
      " 2.51912072e-04 4.87530453e-01 6.69480212e-02 1.56265488e-08\n",
      " 3.38968450e-01 1.00985643e-04]\n",
      "5====not====9\n",
      "[0.00384014 0.21158528 0.2291935  0.00107738 0.03061593 0.00034021\n",
      " 0.04352392 0.00977709 0.18172884 0.28831771]\n",
      "7====not====2\n",
      "[1.23886803e-08 1.68487990e-06 6.89016648e-01 8.81480828e-03\n",
      " 1.89883188e-01 2.73182209e-07 2.58394287e-03 1.34354642e-02\n",
      " 8.83214541e-04 9.53807635e-02]\n",
      "5====not====3\n",
      "[5.16089950e-06 2.35287535e-13 1.58138183e-09 9.77599693e-01\n",
      " 1.56544701e-12 2.23436699e-02 1.70636767e-16 5.83624711e-11\n",
      " 5.14703421e-05 4.06660053e-09]\n",
      "3====not====7\n",
      "[1.01238429e-07 1.14666708e-06 1.70882662e-08 7.62490365e-04\n",
      " 2.34420911e-06 2.83396857e-04 2.04157920e-09 6.19253922e-01\n",
      " 2.34735335e-03 3.77349226e-01]\n",
      "5====not====4\n",
      "[6.05347058e-05 2.78020750e-06 5.09649764e-10 9.06649976e-03\n",
      " 5.78729576e-01 2.48723834e-01 6.01245879e-05 6.09036341e-03\n",
      " 1.49666356e-01 7.59993026e-03]\n",
      "2====not====3\n",
      "[1.44634952e-02 2.07836338e-11 2.43103272e-04 9.77027525e-01\n",
      " 6.29291787e-06 8.17749666e-03 3.45498854e-05 1.41565396e-11\n",
      " 4.67264248e-05 8.10160568e-07]\n",
      "4====not====6\n",
      "[1.62407299e-01 1.53124107e-11 1.28356118e-03 7.85420118e-09\n",
      " 9.92209110e-02 7.18193052e-04 7.04292730e-01 3.41544444e-05\n",
      " 9.34334226e-04 3.11088094e-02]\n",
      "1====not====2\n",
      "[1.07744004e-08 7.60392044e-03 7.65527082e-01 1.37782122e-01\n",
      " 1.58410961e-09 9.32045976e-04 8.80296540e-02 8.50061626e-09\n",
      " 1.25154709e-04 9.75450392e-10]\n",
      "7====not====3\n",
      "[1.07420676e-09 1.85129172e-04 9.13855524e-03 9.01314819e-01\n",
      " 2.72706160e-02 1.07698751e-04 2.03809080e-04 8.36363094e-03\n",
      " 2.98256065e-03 5.04331800e-02]\n",
      "5====not====6\n",
      "[0.36097671 0.01109365 0.00105222 0.01924531 0.00406486 0.10606253\n",
      " 0.38749074 0.0916019  0.01688342 0.00152865]\n",
      "8====not====3\n",
      "[5.17670802e-04 4.71270294e-11 5.53607724e-03 9.85769072e-01\n",
      " 9.46772803e-13 6.35948340e-05 2.48484930e-08 8.23217575e-14\n",
      " 8.11355956e-03 4.68940880e-10]\n",
      "3====not====6\n",
      "[1.46013657e-04 6.86220408e-05 3.34476041e-03 8.68976239e-06\n",
      " 3.36808533e-07 4.18533073e-03 9.45182158e-01 3.13604895e-08\n",
      " 4.70640253e-02 3.17298685e-08]\n",
      "9====not====3\n",
      "[1.63261468e-01 5.41935499e-14 1.52754329e-09 6.34375365e-01\n",
      " 7.99149075e-07 1.49717090e-01 1.44305980e-09 1.18332455e-06\n",
      " 4.96224265e-02 3.02166454e-03]\n",
      "8====not====2\n",
      "[4.36560463e-04 5.91583181e-07 8.88417181e-01 6.27578125e-06\n",
      " 2.12723413e-03 7.67442616e-02 1.20515175e-02 1.12552940e-05\n",
      " 1.80927820e-02 2.11234028e-03]\n",
      "2====not====1\n",
      "[6.63369838e-10 5.28470270e-01 8.02780962e-03 1.19325622e-07\n",
      " 9.36129686e-02 5.13962699e-08 7.54873568e-02 2.00833614e-02\n",
      " 2.02506393e-01 7.18116697e-02]\n",
      "9====not====0\n",
      "[9.99982715e-01 1.83537496e-17 1.01605675e-08 1.06138625e-11\n",
      " 3.15284608e-09 1.03958410e-05 5.18993080e-06 1.27876516e-07\n",
      " 1.21821406e-06 3.39718080e-07]\n",
      "4====not====9\n",
      "[2.53945802e-09 4.57294467e-04 7.12394400e-09 2.35907594e-02\n",
      " 3.86275444e-01 3.73778758e-03 5.47194164e-06 1.12872435e-01\n",
      " 2.32317924e-02 4.49829005e-01]\n",
      "9====not====3\n",
      "[3.05757651e-08 2.22384108e-09 1.30985857e-08 9.94296784e-01\n",
      " 1.44181328e-07 7.74289954e-05 1.10916732e-09 2.05327178e-03\n",
      " 2.11034238e-03 1.46198181e-03]\n",
      "7====not====9\n",
      "[1.70907696e-01 3.99399820e-10 4.55667481e-06 3.52758127e-04\n",
      " 7.90241282e-02 1.39161049e-01 2.62648834e-04 4.86639346e-02\n",
      " 9.45508083e-03 5.52168148e-01]\n",
      "5====not====4\n",
      "[5.71740195e-05 2.71791375e-02 1.49113491e-03 4.10947520e-04\n",
      " 6.67600491e-01 1.28902341e-01 3.38662089e-05 9.19638756e-03\n",
      " 9.74481881e-02 6.76803329e-02]\n",
      "2====not====3\n",
      "[2.09944693e-03 5.97056351e-03 2.23058919e-01 3.84502945e-01\n",
      " 7.58540495e-05 7.44882048e-02 5.16701388e-04 8.50986929e-02\n",
      " 1.90615642e-01 3.35730310e-02]\n",
      "9====not====7\n",
      "[9.89413753e-04 2.54630965e-12 2.18561090e-09 1.50223993e-07\n",
      " 3.84327165e-06 2.13760211e-06 4.62986494e-07 9.97946005e-01\n",
      " 8.53128096e-05 9.72672332e-04]\n",
      "8====not====3\n",
      "[2.39144132e-03 3.36932316e-10 2.59664506e-03 7.08215027e-01\n",
      " 2.36116845e-03 2.03125788e-01 1.90464738e-10 7.37179201e-08\n",
      " 8.07610003e-02 5.48855479e-04]\n",
      "8====not====2\n",
      "[5.09289360e-06 3.08488927e-08 5.45623908e-01 1.21651801e-03\n",
      " 2.45123198e-06 1.87561204e-05 2.31349457e-04 1.90121991e-13\n",
      " 4.52893964e-01 7.92950457e-06]\n",
      "1====not====8\n",
      "[1.76232596e-06 8.81188710e-02 3.02831838e-02 1.86069347e-03\n",
      " 1.92154509e-02 1.02433226e-04 7.92540252e-04 3.64577800e-06\n",
      " 8.30756958e-01 2.88644616e-02]\n",
      "4====not====9\n",
      "[4.24567087e-11 1.91966371e-06 4.85333533e-10 1.98996990e-05\n",
      " 3.49126521e-01 2.64201086e-05 9.37256445e-08 1.34991238e-05\n",
      " 4.42627204e-05 6.50767383e-01]\n",
      "1====not====3\n",
      "[2.48443018e-04 1.25983262e-04 2.41660750e-01 7.50203918e-01\n",
      " 5.41716903e-07 2.75962761e-03 3.07103035e-03 4.11523404e-07\n",
      " 1.92928608e-03 8.55660618e-09]\n",
      "1====not====5\n",
      "[1.40428490e-07 6.93691854e-05 1.00560466e-04 9.64069918e-04\n",
      " 5.94010305e-11 5.92339355e-01 5.30222489e-03 1.08391494e-08\n",
      " 4.01197195e-01 2.70735697e-05]\n",
      "5====not====9\n",
      "[9.13170142e-02 2.07734862e-03 9.97380234e-08 9.99511247e-05\n",
      " 9.12977055e-03 2.12365680e-01 6.72900642e-03 1.46719862e-01\n",
      " 1.35025547e-01 3.96535721e-01]\n",
      "8====not====1\n",
      "[8.38752362e-08 5.24331525e-01 1.03439975e-02 1.35023489e-02\n",
      " 1.86428924e-05 7.17659233e-03 4.69599630e-03 2.03078897e-06\n",
      " 4.39208131e-01 7.20651085e-04]\n",
      "9====not====7\n",
      "[3.05097004e-09 1.53726061e-03 9.63390578e-09 3.78789386e-04\n",
      " 2.26251246e-03 6.12955904e-05 8.99861904e-08 6.48447323e-01\n",
      " 5.88326778e-03 3.41429449e-01]\n",
      "3====not====5\n",
      "[3.07836170e-02 3.77953625e-06 2.01730770e-07 6.14375037e-02\n",
      " 5.56621923e-06 6.93375559e-01 7.67553435e-06 5.06114323e-02\n",
      " 5.37774390e-02 1.09997226e-01]\n",
      "5====not====6\n",
      "[2.11426986e-03 5.00920459e-07 4.58383443e-03 1.61734791e-02\n",
      " 7.95945094e-07 1.85958787e-01 7.88779269e-01 1.75732031e-11\n",
      " 2.38906226e-03 1.11919516e-09]\n",
      "6====not====5\n",
      "[3.10110793e-01 5.32780218e-15 1.21332845e-04 5.89071734e-12\n",
      " 3.44767956e-09 6.86157257e-01 1.16555126e-03 2.78839305e-18\n",
      " 2.44506257e-03 8.70898943e-12]\n",
      "2====not====4\n",
      "[2.51314193e-04 3.90490243e-08 2.35929831e-02 2.48980932e-03\n",
      " 9.61287427e-01 5.85737376e-05 5.39956140e-03 4.44286354e-11\n",
      " 6.65151997e-03 2.68771855e-04]\n",
      "6====not====0\n",
      "[7.94161933e-01 7.18220597e-10 5.57173808e-03 3.41850338e-04\n",
      " 1.11679290e-05 1.06904582e-02 1.88321120e-01 2.70016900e-04\n",
      " 6.30677535e-04 1.03779688e-06]\n",
      "2====not====3\n",
      "[4.58363562e-06 6.66214833e-14 1.72027705e-03 9.98043495e-01\n",
      " 3.74074203e-11 3.81011021e-08 2.13934165e-12 2.31549494e-04\n",
      " 5.58543856e-08 3.56656107e-10]\n",
      "7====not====3\n",
      "[1.07420676e-09 1.85129172e-04 9.13855524e-03 9.01314819e-01\n",
      " 2.72706160e-02 1.07698751e-04 2.03809080e-04 8.36363094e-03\n",
      " 2.98256065e-03 5.04331800e-02]\n",
      "4====not====9\n",
      "[4.14809616e-05 4.57395677e-13 1.00588160e-11 9.54354138e-12\n",
      " 4.54191032e-01 3.45095761e-03 1.51257063e-04 9.72798188e-06\n",
      " 1.02349638e-02 5.31920580e-01]\n",
      "5====not====4\n",
      "[8.49453288e-04 2.10781633e-05 1.11302085e-06 1.23810991e-01\n",
      " 3.07041164e-01 2.94172756e-01 1.05263799e-04 6.80977498e-03\n",
      " 5.66333619e-03 2.61525070e-01]\n",
      "5====not====0\n",
      "[8.11388321e-01 3.79243252e-03 1.23271066e-02 1.17173893e-04\n",
      " 1.02716311e-05 1.40219271e-01 8.05159426e-03 2.11581087e-04\n",
      " 2.38254485e-02 5.67995048e-05]\n",
      "6====not====8\n",
      "[5.18815534e-04 7.73973960e-08 1.79881905e-04 5.61869216e-06\n",
      " 5.95445475e-08 4.28584848e-01 6.05914222e-03 2.57871721e-17\n",
      " 5.64651536e-01 2.06387530e-08]\n",
      "8====not====2\n",
      "[1.04782108e-03 2.78228768e-04 4.24389075e-01 3.32495215e-03\n",
      " 1.15379445e-05 2.80201515e-01 4.25968360e-02 6.79131515e-09\n",
      " 2.48109391e-01 4.06359002e-05]\n",
      "3====not====5\n",
      "[2.28380942e-03 4.62821632e-05 2.53057262e-03 3.81315870e-01\n",
      " 7.16844316e-05 5.87207757e-01 3.98478071e-05 1.44531744e-05\n",
      " 2.59632046e-02 5.26518228e-04]\n",
      "0====not====8\n",
      "[7.24915372e-04 5.29026596e-05 3.51338916e-01 3.63788822e-03\n",
      " 4.09727123e-03 2.28662398e-05 7.92711435e-02 6.76584766e-02\n",
      " 4.60258682e-01 3.29369382e-02]\n",
      "8====not====2\n",
      "[6.64549196e-04 4.99717037e-06 8.33398434e-01 8.16217001e-03\n",
      " 4.24400732e-03 2.90397281e-02 3.04283477e-04 1.41641204e-06\n",
      " 1.23793210e-01 3.87203783e-04]\n",
      "5====not====3\n",
      "[2.32181591e-02 8.78970160e-04 2.49779347e-01 4.73107968e-01\n",
      " 3.19282711e-07 9.28961980e-02 1.40615032e-01 1.00122140e-02\n",
      " 9.45296924e-03 3.88237841e-05]\n",
      "8====not====0\n",
      "[9.99928462e-01 3.35939625e-18 9.51787861e-07 3.80313589e-12\n",
      " 4.24042321e-13 6.70006720e-05 5.76350074e-10 1.44390876e-10\n",
      " 3.58516612e-06 2.97313993e-13]\n",
      "7====not====2\n",
      "[1.87326055e-04 1.20336014e-03 3.12933967e-01 2.73793657e-01\n",
      " 1.59525794e-06 2.58620769e-04 3.50967485e-07 1.30917536e-01\n",
      " 8.73518860e-02 1.93351702e-01]\n",
      "2====not====3\n",
      "[2.46949060e-07 1.07693290e-07 2.89690006e-02 9.58186884e-01\n",
      " 2.33868119e-08 2.34793516e-05 1.26139162e-02 1.93252773e-11\n",
      " 2.06250985e-04 9.06551188e-08]\n",
      "4====not====9\n",
      "[2.67509776e-08 6.98548039e-06 4.20439506e-04 2.68812439e-03\n",
      " 1.76254871e-01 2.25652010e-04 3.82770750e-06 3.61202411e-02\n",
      " 7.10650224e-02 7.13214810e-01]\n",
      "6====not====8\n",
      "[1.02780965e-03 1.77548120e-07 1.59968971e-01 2.83864576e-05\n",
      " 5.02225607e-06 1.10167104e-01 9.98762828e-02 8.09984951e-13\n",
      " 6.28925869e-01 3.77395505e-07]\n",
      "6====not====5\n",
      "[7.71236264e-02 1.47115043e-12 3.36555688e-03 1.66820033e-08\n",
      " 8.57881961e-07 6.08596091e-01 3.04580064e-05 4.25212870e-14\n",
      " 3.10883284e-01 1.09480349e-07]\n",
      "9====not====1\n",
      "[1.35968724e-07 6.85831496e-01 6.59845788e-02 4.54591681e-02\n",
      " 2.50388667e-05 1.28625582e-01 2.79682655e-04 1.86863357e-04\n",
      " 7.24242884e-02 1.18316652e-03]\n",
      "3====not====5\n",
      "[2.67815401e-03 4.20772768e-05 9.03102222e-04 3.63584039e-01\n",
      " 5.79304840e-04 5.83476289e-01 1.72708051e-03 1.97104224e-06\n",
      " 4.62102107e-02 7.97771682e-04]\n",
      "8====not====5\n",
      "[1.54277922e-02 1.07766979e-08 1.09036432e-05 1.83948017e-01\n",
      " 1.56438304e-02 5.71241655e-01 5.94659367e-04 3.44070994e-07\n",
      " 2.08710958e-01 4.42182963e-03]\n",
      "2====not====8\n",
      "[1.67091429e-04 4.87656119e-08 2.42567183e-03 2.26822114e-04\n",
      " 1.34433494e-04 4.33711856e-01 3.16275533e-04 1.08654293e-05\n",
      " 4.51502800e-01 1.11504135e-01]\n",
      "2====not====8\n",
      "[1.21521431e-07 2.77390627e-03 1.50117513e-01 8.75664419e-02\n",
      " 1.92118587e-05 2.86738033e-04 3.43496824e-03 8.69663875e-09\n",
      " 7.53782320e-01 2.01877073e-03]\n",
      "2====not====4\n",
      "[1.04842257e-05 3.75144160e-09 3.42756153e-03 3.31361389e-01\n",
      " 4.41184119e-01 1.31464276e-03 1.94366944e-03 2.08872598e-15\n",
      " 2.20755525e-01 2.60481774e-06]\n",
      "2====not====3\n",
      "[5.14369023e-05 4.32472849e-07 1.95940861e-03 6.98510308e-01\n",
      " 2.56815722e-01 4.02448044e-02 1.48660252e-03 2.82256552e-07\n",
      " 8.65597934e-04 6.54051541e-05]\n",
      "3====not====5\n",
      "[2.28008315e-04 3.15214898e-07 4.77668286e-04 1.59404286e-01\n",
      " 1.74369967e-04 7.73544478e-01 3.72400346e-05 2.52154847e-07\n",
      " 6.31313750e-02 3.00200685e-03]\n",
      "4====not====9\n",
      "[1.89361791e-10 1.48204370e-01 1.02024289e-05 7.14640624e-03\n",
      " 3.21523480e-01 1.99776561e-03 5.15007434e-04 8.92798353e-05\n",
      " 1.66245902e-01 3.54267585e-01]\n",
      "7====not====3\n",
      "[6.50830615e-04 8.85212864e-13 3.85214896e-02 6.86952471e-01\n",
      " 9.78669627e-11 2.33392877e-05 3.54596877e-10 2.73699150e-01\n",
      " 1.52561609e-04 1.57693477e-07]\n",
      "5====not====6\n",
      "[2.21955564e-04 2.33043431e-08 5.42891550e-04 1.08322595e-03\n",
      " 2.28695775e-02 2.34554651e-01 4.54650299e-01 1.29184311e-09\n",
      " 2.84337799e-01 1.73957526e-03]\n",
      "4====not====9\n",
      "[2.53732248e-05 1.82342212e-10 7.61391006e-07 1.70403711e-07\n",
      " 6.22081917e-02 6.06358924e-07 3.10485043e-04 2.56643371e-02\n",
      " 1.52532548e-04 9.11637542e-01]\n",
      "6====not====4\n",
      "[1.69186065e-09 4.14740618e-08 1.32502694e-04 1.90289018e-08\n",
      " 8.00530489e-01 5.84308498e-09 4.20847971e-02 6.23455774e-02\n",
      " 4.28213019e-03 9.06244357e-02]\n",
      "8====not====5\n",
      "[2.79843443e-03 1.55581552e-06 1.36622711e-02 5.37976383e-05\n",
      " 3.12560005e-07 6.86002870e-01 2.06868412e-01 3.99836796e-12\n",
      " 9.06078895e-02 4.45685934e-06]\n",
      "3====not====2\n",
      "[1.84735948e-01 4.82232574e-08 8.08023233e-01 3.83615340e-03\n",
      " 6.00565481e-12 3.36068505e-05 3.35837793e-03 2.28567464e-09\n",
      " 1.26262088e-05 3.98574341e-09]\n",
      "9====not====0\n",
      "[3.75440656e-01 5.29302700e-08 6.89927862e-06 3.64798967e-01\n",
      " 1.65073125e-06 1.68260210e-02 5.83976802e-04 1.06467938e-03\n"
     ]
    },
    {
     "name": "stdout",
     "output_type": "stream",
     "text": [
      " 2.39698849e-01 1.57824753e-03]\n",
      "5====not====3\n",
      "[1.24709755e-01 1.50422933e-05 3.93431110e-02 6.87919668e-01\n",
      " 1.37101988e-12 1.47758700e-01 1.29422201e-04 6.83972241e-05\n",
      " 5.58880494e-05 1.60883052e-08]\n",
      "5====not====3\n",
      "[4.18831855e-03 1.34100206e-05 1.79030374e-03 6.64362325e-01\n",
      " 1.27503785e-06 1.59591139e-01 7.24152391e-06 2.45309027e-08\n",
      " 1.69965441e-01 8.05227482e-05]\n",
      "2====not====8\n",
      "[1.40119966e-05 4.47009358e-07 3.67347122e-02 1.00893438e-01\n",
      " 1.47051235e-09 1.75107704e-04 4.12713316e-11 4.54925483e-06\n",
      " 8.61986005e-01 1.91727134e-04]\n",
      "3====not====5\n",
      "[4.31264452e-04 1.16640657e-06 6.13693893e-05 3.98310251e-01\n",
      " 1.68283360e-04 5.76855658e-01 2.51311319e-04 9.61993394e-07\n",
      " 2.38831692e-02 3.65646875e-05]\n",
      "4====not====9\n",
      "[8.63949079e-06 2.12465755e-08 3.60817318e-03 5.15564530e-07\n",
      " 1.92841213e-02 2.86511330e-07 5.22084687e-06 5.57664873e-03\n",
      " 1.07441571e-04 9.71408932e-01]\n",
      "3====not====2\n",
      "[1.84735948e-01 4.82232574e-08 8.08023233e-01 3.83615340e-03\n",
      " 6.00565481e-12 3.36068505e-05 3.35837793e-03 2.28567464e-09\n",
      " 1.26262088e-05 3.98574341e-09]\n",
      "2====not====0\n",
      "[7.18904427e-01 3.52766397e-11 2.70896935e-01 1.23277261e-04\n",
      " 1.30866664e-10 9.85429859e-03 4.01168599e-07 1.72745673e-04\n",
      " 4.73053299e-05 6.08961794e-07]\n",
      "5====not====6\n",
      "[2.23019701e-06 1.04021045e-09 2.28937308e-06 2.14597541e-05\n",
      " 5.44246267e-08 4.07284186e-01 5.92438088e-01 9.37732571e-14\n",
      " 2.51691566e-04 4.64481298e-12]\n",
      "9====not====5\n",
      "[5.84419611e-10 3.06247681e-02 8.09921314e-06 1.10103861e-03\n",
      " 2.54537265e-02 3.51949791e-01 2.65766919e-04 2.77613290e-05\n",
      " 2.68777162e-01 3.21791886e-01]\n",
      "5====not====9\n",
      "[7.03333887e-03 1.16981121e-05 3.47771315e-06 8.58816522e-05\n",
      " 9.25983415e-02 2.13761197e-01 3.90287181e-04 5.87841605e-03\n",
      " 6.82653430e-03 6.73410828e-01]\n",
      "99.0\n"
     ]
    }
   ],
   "source": [
    "tem_verify_list=[]\n",
    "for i in range(100):\n",
    "    tem_verify_list.append(train_random_verify())\n",
    "#print(max(tem_verify_list))"
   ]
  },
  {
   "cell_type": "code",
   "execution_count": 102,
   "metadata": {
    "collapsed": true
   },
   "outputs": [
    {
     "data": {
      "text/plain": [
       "[96.0,\n",
       " 90.0,\n",
       " 96.0,\n",
       " 93.0,\n",
       " 96.0,\n",
       " 93.0,\n",
       " 94.0,\n",
       " 96.0,\n",
       " 93.0,\n",
       " 96.0,\n",
       " 92.0,\n",
       " 98.0,\n",
       " 94.0,\n",
       " 93.0,\n",
       " 93.0,\n",
       " 92.0,\n",
       " 93.0,\n",
       " 99.0,\n",
       " 96.0,\n",
       " 99.0,\n",
       " 89.0,\n",
       " 99.0,\n",
       " 94.0,\n",
       " 93.0,\n",
       " 97.0,\n",
       " 96.0,\n",
       " 91.0,\n",
       " 100.0,\n",
       " 94.0,\n",
       " 95.0,\n",
       " 97.0,\n",
       " 93.0,\n",
       " 92.0,\n",
       " 97.0,\n",
       " 96.0,\n",
       " 98.0,\n",
       " 99.0,\n",
       " 91.0,\n",
       " 93.0,\n",
       " 96.0,\n",
       " 94.0,\n",
       " 95.0,\n",
       " 96.0,\n",
       " 98.0,\n",
       " 98.0,\n",
       " 95.0,\n",
       " 95.0,\n",
       " 97.0,\n",
       " 94.0,\n",
       " 91.0,\n",
       " 92.0,\n",
       " 90.0,\n",
       " 91.0,\n",
       " 92.0,\n",
       " 96.0,\n",
       " 97.0,\n",
       " 98.0,\n",
       " 92.0,\n",
       " 90.0,\n",
       " 98.0,\n",
       " 93.0,\n",
       " 97.0,\n",
       " 99.0,\n",
       " 97.0,\n",
       " 95.0,\n",
       " 92.0,\n",
       " 98.0,\n",
       " 94.0,\n",
       " 90.0,\n",
       " 96.0,\n",
       " 97.0,\n",
       " 96.0,\n",
       " 93.0,\n",
       " 92.0,\n",
       " 95.0,\n",
       " 93.0,\n",
       " 95.0,\n",
       " 96.0,\n",
       " 95.0,\n",
       " 95.0,\n",
       " 93.0,\n",
       " 93.0,\n",
       " 96.0,\n",
       " 96.0,\n",
       " 93.0,\n",
       " 97.0,\n",
       " 94.0,\n",
       " 93.0,\n",
       " 97.0,\n",
       " 90.0,\n",
       " 95.0,\n",
       " 94.0,\n",
       " 89.0,\n",
       " 95.0,\n",
       " 94.0,\n",
       " 97.0,\n",
       " 98.0,\n",
       " 92.0,\n",
       " 94.0,\n",
       " 94.0]"
      ]
     },
     "execution_count": 102,
     "metadata": {},
     "output_type": "execute_result"
    }
   ],
   "source": [
    "tem_verify_list"
   ]
  },
  {
   "cell_type": "code",
   "execution_count": null,
   "metadata": {},
   "outputs": [],
   "source": []
  },
  {
   "cell_type": "code",
   "execution_count": null,
   "metadata": {},
   "outputs": [],
   "source": []
  },
  {
   "cell_type": "code",
   "execution_count": null,
   "metadata": {},
   "outputs": [],
   "source": []
  },
  {
   "cell_type": "code",
   "execution_count": null,
   "metadata": {},
   "outputs": [],
   "source": []
  },
  {
   "cell_type": "code",
   "execution_count": null,
   "metadata": {},
   "outputs": [],
   "source": []
  },
  {
   "cell_type": "code",
   "execution_count": null,
   "metadata": {},
   "outputs": [],
   "source": []
  },
  {
   "cell_type": "code",
   "execution_count": 166,
   "metadata": {
    "collapsed": true
   },
   "outputs": [
    {
     "data": {
      "text/plain": [
       "array([[ 2.60821167e-06,  4.36280738e-06,  1.96123272e-05, ...,\n",
       "         1.78731960e-06,  1.79013782e-11,  1.30798827e-06],\n",
       "       [ 5.04589836e-07,  8.44037425e-07,  3.79423998e-06, ...,\n",
       "         3.45778419e-07,  3.46323635e-12,  2.53046021e-07],\n",
       "       [ 6.23591339e-06,  1.04309360e-05,  4.68906629e-05, ...,\n",
       "         4.27326141e-06,  4.27999940e-11,  3.12723912e-06],\n",
       "       ...,\n",
       "       [ 2.48053753e-06,  4.14924432e-06,  1.86522875e-05, ...,\n",
       "         1.69982882e-06,  1.70250908e-11,  1.24396115e-06],\n",
       "       [ 4.45469762e-06,  7.45146106e-06,  3.34968932e-05, ...,\n",
       "         3.05265424e-06,  3.05746760e-11,  2.23397982e-06],\n",
       "       [-2.67674430e-06, -4.47744328e-06, -2.01276552e-05, ...,\n",
       "        -1.83428271e-06, -1.83717497e-11, -1.34235660e-06]])"
      ]
     },
     "execution_count": 166,
     "metadata": {},
     "output_type": "execute_result"
    }
   ],
   "source": [
    "calculate_a_grad(train_image[10],train_label[10])[1]['w']"
   ]
  },
  {
   "cell_type": "code",
   "execution_count": 167,
   "metadata": {
    "collapsed": true
   },
   "outputs": [
    {
     "data": {
      "text/plain": [
       "array([[ 0.02213928, -0.00600438,  0.04050782, ...,  0.02004135,\n",
       "        -0.00586598, -0.05779879],\n",
       "       [ 0.07282693, -0.02351345, -0.00719983, ...,  0.06693043,\n",
       "         0.08489681, -0.04875284],\n",
       "       [ 0.06800148,  0.06631436, -0.05154142, ...,  0.02434495,\n",
       "        -0.07647174, -0.03579854],\n",
       "       ...,\n",
       "       [-0.03185155,  0.08050144, -0.05657289, ..., -0.0755786 ,\n",
       "        -0.00115466,  0.06889267],\n",
       "       [ 0.01357802,  0.084551  ,  0.08221572, ..., -0.06006656,\n",
       "        -0.07916622,  0.06721354],\n",
       "       [-0.01558065, -0.04965199,  0.01600575, ..., -0.04638949,\n",
       "         0.0227035 ,  0.0111774 ]])"
      ]
     },
     "execution_count": 167,
     "metadata": {},
     "output_type": "execute_result"
    }
   ],
   "source": [
    "parameters[1]['w']"
   ]
  },
  {
   "cell_type": "code",
   "execution_count": 193,
   "metadata": {},
   "outputs": [
    {
     "name": "stdout",
     "output_type": "stream",
     "text": [
      "准确率：87.63%\n"
     ]
    }
   ],
   "source": [
    "validate_verify(parameters)"
   ]
  },
  {
   "cell_type": "code",
   "execution_count": 30,
   "metadata": {},
   "outputs": [],
   "source": [
    "def train_verify(parameters):\n",
    "    \n",
    "    error_num=0\n",
    "    for i in range(train_num):\n",
    "        \n",
    "        if predict(train_image[i],parameters).argmax()!=train_label[i]:\n",
    "        \n",
    "            error_num+=1\n",
    "            \n",
    "    rate=1-error_num/train_num\n",
    "    print('准确率：'+str(rate*100)+'%')\n",
    "    "
   ]
  },
  {
   "cell_type": "code",
   "execution_count": 31,
   "metadata": {},
   "outputs": [
    {
     "name": "stdout",
     "output_type": "stream",
     "text": [
      "准确率：90.84%\n"
     ]
    }
   ],
   "source": [
    "train_verify(parameters)"
   ]
  },
  {
   "cell_type": "code",
   "execution_count": 32,
   "metadata": {},
   "outputs": [],
   "source": [
    "def test_verify(parameters):\n",
    "    error_num=0\n",
    "    for i in range(test_num):\n",
    "        \n",
    "        if predict(test_image[i],parameters).argmax()!=test_label[i]:\n",
    "\n",
    "\n",
    "            error_num+=1\n",
    "            \n",
    "    rate=1-error_num/test_num\n",
    "    print('准确率：'+str(rate*100)+'%')"
   ]
  },
  {
   "cell_type": "code",
   "execution_count": 33,
   "metadata": {},
   "outputs": [
    {
     "name": "stdout",
     "output_type": "stream",
     "text": [
      "准确率：91.5%\n"
     ]
    }
   ],
   "source": [
    "test_verify(parameters)"
   ]
  },
  {
   "cell_type": "code",
   "execution_count": null,
   "metadata": {},
   "outputs": [],
   "source": []
  },
  {
   "cell_type": "code",
   "execution_count": 104,
   "metadata": {},
   "outputs": [
    {
     "data": {
      "text/plain": [
       "5"
      ]
     },
     "execution_count": 104,
     "metadata": {},
     "output_type": "execute_result"
    }
   ],
   "source": [
    "predict(train_image[0],parameters).argmax()"
   ]
  },
  {
   "cell_type": "code",
   "execution_count": null,
   "metadata": {},
   "outputs": [],
   "source": []
  },
  {
   "cell_type": "code",
   "execution_count": null,
   "metadata": {},
   "outputs": [],
   "source": []
  },
  {
   "cell_type": "code",
   "execution_count": null,
   "metadata": {},
   "outputs": [],
   "source": []
  },
  {
   "cell_type": "code",
   "execution_count": null,
   "metadata": {},
   "outputs": [],
   "source": []
  },
  {
   "cell_type": "code",
   "execution_count": null,
   "metadata": {},
   "outputs": [],
   "source": []
  },
  {
   "cell_type": "code",
   "execution_count": null,
   "metadata": {},
   "outputs": [],
   "source": []
  },
  {
   "cell_type": "code",
   "execution_count": null,
   "metadata": {},
   "outputs": [],
   "source": []
  }
 ],
 "metadata": {
  "kernelspec": {
   "display_name": "Python 3",
   "language": "python",
   "name": "python3"
  },
  "language_info": {
   "codemirror_mode": {
    "name": "ipython",
    "version": 3
   },
   "file_extension": ".py",
   "mimetype": "text/x-python",
   "name": "python",
   "nbconvert_exporter": "python",
   "pygments_lexer": "ipython3",
   "version": "3.7.3"
  }
 },
 "nbformat": 4,
 "nbformat_minor": 2
}
