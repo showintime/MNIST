{
 "cells": [
  {
   "cell_type": "code",
   "execution_count": 499,
   "metadata": {},
   "outputs": [],
   "source": [
    "#Import chunk\n",
    "\n",
    "\n",
    "import numpy as np\n",
    "\n",
    "import math\n",
    "\n",
    "import struct\n",
    "\n",
    "import random\n",
    "\n",
    "import time\n",
    "\n",
    "from tqdm import tqdm_notebook\n",
    "import matplotlib.pyplot as plt\n"
   ]
  },
  {
   "cell_type": "code",
   "execution_count": 500,
   "metadata": {},
   "outputs": [],
   "source": [
    "def tanh(x):\n",
    "    return np.tanh(x)\n",
    "\n",
    "def softmax(x):\n",
    "    #这里减去x.max()为了防止指数爆炸，并不会影响结果\n",
    "    exp=np.exp(x-x.max())\n",
    "    return exp/exp.sum()"
   ]
  },
  {
   "cell_type": "code",
   "execution_count": null,
   "metadata": {},
   "outputs": [],
   "source": []
  },
  {
   "cell_type": "code",
   "execution_count": 501,
   "metadata": {},
   "outputs": [],
   "source": [
    "#Initial chunk\n",
    "\n",
    "#两层的维度\n",
    "dimension=[784,100,10]\n",
    "#两层的激活函数\n",
    "activation=[tanh,softmax]\n",
    "\n",
    "\n",
    "\n",
    "\n",
    "# distribution=[\n",
    "#     {'b':[0,0],'w':[1,1]},\n",
    "#     {'b':[0,0],'w':[1,1]}\n",
    "# ]\n",
    "\n",
    "\n",
    "\n",
    "distribution=[\n",
    "    {'b':[0,0],'w':[-math.sqrt(6/(dimension[0]+dimension[-1])),math.sqrt(6/(dimension[0]+dimension[-1]))]},\n",
    "    {'b':[0,0],'w':[-math.sqrt(6/(dimension[0]+dimension[-1])),math.sqrt(6/(dimension[0]+dimension[-1]))]}\n",
    "]\n",
    "\n"
   ]
  },
  {
   "cell_type": "code",
   "execution_count": 502,
   "metadata": {},
   "outputs": [],
   "source": [
    "#Parameter's initial\n",
    "\n",
    "\n",
    "def init_b(layer):\n",
    "    dist=distribution[layer]['b']\n",
    "    return np.random.rand(dimension[layer+1])*(dist[1]-dist[0])+dist[0]\n",
    "\n",
    "\n",
    "def init_w(layer):\n",
    "    dist=distribution[layer]['w']\n",
    "    return np.random.rand(dimension[layer],dimension[layer+1])*(dist[1]-dist[0])+dist[0]\n",
    "\n",
    "def init_wb():\n",
    "    parameter=[]\n",
    "    for i in range(len(distribution)):\n",
    "        layer_parameter={}\n",
    "        for j in distribution[i].keys():\n",
    "            if j=='w':\n",
    "                layer_parameter['w']=init_w(i)\n",
    "            elif j=='b':\n",
    "                layer_parameter['b']=init_b(i)\n",
    "        parameter.append(layer_parameter)\n",
    "    return parameter"
   ]
  },
  {
   "cell_type": "code",
   "execution_count": null,
   "metadata": {},
   "outputs": [],
   "source": []
  },
  {
   "cell_type": "code",
   "execution_count": 503,
   "metadata": {},
   "outputs": [],
   "source": [
    "parameters=init_wb()"
   ]
  },
  {
   "cell_type": "code",
   "execution_count": null,
   "metadata": {},
   "outputs": [],
   "source": []
  },
  {
   "cell_type": "code",
   "execution_count": 504,
   "metadata": {},
   "outputs": [
    {
     "name": "stdout",
     "output_type": "stream",
     "text": [
      "0层:\n",
      "b\n",
      "(100,)\n",
      "w\n",
      "(784, 100)\n",
      "1层:\n",
      "b\n",
      "(10,)\n",
      "w\n",
      "(100, 10)\n"
     ]
    }
   ],
   "source": [
    "for i in range(len(parameters)):\n",
    "    print('{}层:'.format(i))\n",
    "    for j in parameters[i].keys():\n",
    "        print(j)\n",
    "        print(parameters[i][j].shape)"
   ]
  },
  {
   "cell_type": "code",
   "execution_count": null,
   "metadata": {},
   "outputs": [],
   "source": []
  },
  {
   "cell_type": "code",
   "execution_count": 505,
   "metadata": {},
   "outputs": [
    {
     "data": {
      "text/plain": [
       "array([0.11876442, 0.08695954, 0.10370086, 0.12258537, 0.12762254,\n",
       "       0.09231237, 0.09015967, 0.11223493, 0.07913351, 0.06652678])"
      ]
     },
     "execution_count": 505,
     "metadata": {},
     "output_type": "execute_result"
    }
   ],
   "source": [
    "predict(train_image[0],parameters)"
   ]
  },
  {
   "cell_type": "code",
   "execution_count": null,
   "metadata": {},
   "outputs": [],
   "source": []
  },
  {
   "cell_type": "code",
   "execution_count": 506,
   "metadata": {},
   "outputs": [],
   "source": [
    "data_path='./datas/'\n",
    "\n",
    "train_image_path=data_path+'train-images.idx3-ubyte'\n",
    "train_label_path=data_path+'train-labels.idx1-ubyte'\n",
    "\n",
    "test_image_path=data_path+'t10k-images.idx3-ubyte'\n",
    "test_label_path=data_path+'t10k-labels.idx1-ubyte'\n"
   ]
  },
  {
   "cell_type": "code",
   "execution_count": 507,
   "metadata": {},
   "outputs": [],
   "source": [
    "train_num=50000\n",
    "validate_num=10000\n",
    "test_num=10000\n",
    "\n",
    "with open(train_image_path,'rb') as f:\n",
    "    struct.unpack('>4i',f.read(16))\n",
    "    tem_image=np.fromfile(f,dtype=np.uint8).reshape(-1,784)/255\n",
    "    train_image=tem_image[:train_num]\n",
    "    validate_image=tem_image[train_num:]\n",
    "    \n",
    "with open(test_image_path,'rb') as f:\n",
    "    struct.unpack('>4i',f.read(16))\n",
    "    test_image=np.fromfile(f,dtype=np.uint8).reshape(-1,784)/255\n",
    "    \n",
    "\n",
    "with open(train_label_path,'rb') as f:\n",
    "    struct.unpack('>2i',f.read(8))\n",
    "    tem_label=np.fromfile(f,dtype=np.uint8)\n",
    "    train_label=tem_label[:train_num]\n",
    "    validate_label=tem_label[train_num:]\n",
    "\n",
    "with open(test_label_path,'rb') as f:\n",
    "    struct.unpack('>2i',f.read(8))\n",
    "    test_label=np.fromfile(f,dtype=np.uint8)    \n",
    "    "
   ]
  },
  {
   "cell_type": "code",
   "execution_count": 508,
   "metadata": {},
   "outputs": [],
   "source": [
    "def show_train(index):\n",
    "    print('label:'+str(train_label[index]))\n",
    "    a_image=train_image[index].reshape(-1,28)\n",
    "    plt.imshow(a_image,cmap='gray')\n",
    "    \n",
    "    \n",
    "def show_validate(index):\n",
    "    print('label:'+str(validate_label[index]))\n",
    "    a_image=validate_image[index].reshape(-1,28)\n",
    "    plt.imshow(a_image,cmap='gray')\n",
    "    \n",
    "    \n",
    "def show_test(index):\n",
    "    print('label:'+str(test_label[index]))\n",
    "    a_image=test_image[index].reshape(-1,28)\n",
    "    plt.imshow(a_image,cmap='gray')"
   ]
  },
  {
   "cell_type": "code",
   "execution_count": null,
   "metadata": {},
   "outputs": [],
   "source": []
  },
  {
   "cell_type": "code",
   "execution_count": null,
   "metadata": {},
   "outputs": [],
   "source": []
  },
  {
   "cell_type": "code",
   "execution_count": 509,
   "metadata": {},
   "outputs": [],
   "source": [
    "def predict(image,parameters):\n",
    "    hidden=activation[0](np.dot(image,parameters[0]['w'])+parameters[0]['b'])\n",
    "    output=activation[1](np.dot(hidden,parameters[1]['w'])+parameters[1]['b'])\n",
    "    return output"
   ]
  },
  {
   "cell_type": "code",
   "execution_count": null,
   "metadata": {},
   "outputs": [],
   "source": []
  },
  {
   "cell_type": "code",
   "execution_count": 510,
   "metadata": {},
   "outputs": [],
   "source": [
    "label_keys=np.identity(dimension[-1])\n"
   ]
  },
  {
   "cell_type": "code",
   "execution_count": 511,
   "metadata": {},
   "outputs": [],
   "source": [
    "def loss(image,label,parameters):\n",
    "    y_predict=predict(image,parameters)\n",
    "    y_label=label_keys[label]\n",
    "    difference=y_predict-y_label\n",
    "    return np.dot(difference,difference)"
   ]
  },
  {
   "cell_type": "code",
   "execution_count": 512,
   "metadata": {},
   "outputs": [],
   "source": [
    "#loss(train_image[0],train_label[0],parameters)"
   ]
  },
  {
   "cell_type": "code",
   "execution_count": 513,
   "metadata": {},
   "outputs": [],
   "source": [
    "def validate_verify(parameters):\n",
    "    error_num=0\n",
    "    for i in range(validate_num):\n",
    "        \n",
    "        if predict(validate_image[i],parameters).argmax()!=validate_label[i]:\n",
    "        \n",
    "            error_num+=1\n",
    "            \n",
    "    rate=1-error_num/validate_num\n",
    "    #print('验证集准确率：'+str(rate*100)+'%')\n",
    "    return rate\n",
    "    "
   ]
  },
  {
   "cell_type": "code",
   "execution_count": 514,
   "metadata": {},
   "outputs": [],
   "source": [
    "#validate_verify(parameters)"
   ]
  },
  {
   "cell_type": "code",
   "execution_count": 515,
   "metadata": {},
   "outputs": [],
   "source": [
    "def init_zero_grad():\n",
    "    parameter=[]\n",
    "    for layer in range(len(distribution)):\n",
    "        layer_parameter={}\n",
    "        for j in distribution[layer].keys():\n",
    "            if j=='w':\n",
    "                layer_parameter['w']=np.zeros((dimension[layer],dimension[layer+1]))\n",
    "            elif j=='b':\n",
    "                layer_parameter['b']=np.zeros(dimension[layer+1])\n",
    "        parameter.append(layer_parameter)\n",
    "    return parameter"
   ]
  },
  {
   "cell_type": "code",
   "execution_count": null,
   "metadata": {},
   "outputs": [],
   "source": []
  },
  {
   "cell_type": "code",
   "execution_count": null,
   "metadata": {},
   "outputs": [],
   "source": []
  },
  {
   "cell_type": "code",
   "execution_count": 549,
   "metadata": {},
   "outputs": [],
   "source": [
    "def calculate_a_grad(image,label):\n",
    "    \n",
    "    l0=np.dot(image,parameters[0]['w'])+parameters[0]['b']\n",
    "    h=activation[0](l0)\n",
    "    \n",
    "    l2=np.dot(h,parameters[1]['w'])+parameters[1]['b']\n",
    "    l3=activation[1](l2)\n",
    "    #\n",
    "    #print(l3)\n",
    "    a_grad=[{},{}]\n",
    "    d_L_l3=2*(l3-label_keys[label])\n",
    "    d_l3_l2=np.diag(l3)-np.outer(l3,l3)\n",
    "    \n",
    "    a_grad[1]['b']=np.dot(d_L_l3,d_l3_l2)\n",
    "    a_grad[1]['w']=np.outer(h,a_grad[1]['b'])   \n",
    "    d_L_h=np.dot(parameters[1]['w'],a_grad[1]['b'])\n",
    "    a_grad[0]['b']=(1-np.tanh(l0)**2)*d_L_h\n",
    "    a_grad[0]['w']=np.outer(image,a_grad[0]['b'])\n",
    "    \n",
    "    return a_grad\n",
    "            \n",
    "            "
   ]
  },
  {
   "cell_type": "code",
   "execution_count": 550,
   "metadata": {},
   "outputs": [],
   "source": [
    "banch_num=100\n",
    "def calculate_banch_grad(banch_time):\n",
    "    \n",
    "    banch_grad=init_zero_grad()\n",
    "    for i in range(banch_num*banch_time,banch_num*(banch_time+1)):\n",
    "        \n",
    "        #print('训练'+str(i+1)+'/'+str(banch_num)+'个参数')\n",
    "        tem_grad=calculate_a_grad(train_image[i],train_label[i])\n",
    "        for j in range(len(banch_grad)):\n",
    "            for k in banch_grad[j].keys():\n",
    "                banch_grad[j][k]+=tem_grad[j][k]\n",
    "    for j in range(len(banch_grad)):\n",
    "        for k in banch_grad[j].keys():\n",
    "            banch_grad[j][k]/=banch_num\n",
    "    \n",
    "    \n",
    "    return banch_grad           "
   ]
  },
  {
   "cell_type": "code",
   "execution_count": 551,
   "metadata": {},
   "outputs": [
    {
     "data": {
      "text/plain": [
       "0.047699999999999965"
      ]
     },
     "execution_count": 551,
     "metadata": {},
     "output_type": "execute_result"
    }
   ],
   "source": [
    "parameters=init_wb()\n",
    "validate_verify(parameters)"
   ]
  },
  {
   "cell_type": "code",
   "execution_count": 552,
   "metadata": {},
   "outputs": [],
   "source": [
    "def train_banch(banch_grad,learn_rate):\n",
    "    #print('正在修正参数')\n",
    "    for j in range(len(banch_grad)):\n",
    "        for k in banch_grad[j].keys():\n",
    "            parameters[j][k]-=learn_rate*banch_grad[j][k]\n",
    "            \n",
    "            "
   ]
  },
  {
   "cell_type": "code",
   "execution_count": 553,
   "metadata": {},
   "outputs": [],
   "source": [
    "learn_rate=1\n",
    "def train():\n",
    "    \n",
    "    for i in (range(train_num//banch_num)):\n",
    "        time0=time.time()\n",
    "        #print('#===============开始训练第'+str(i+1)+'/'+str(train_num//banch_num)+'组==============#')\n",
    "        banch_grad=calculate_banch_grad(i)\n",
    "        train_banch(banch_grad,learn_rate)\n",
    "        time1=time.time()\n",
    "        #print('当前组用时：{}s'.format(time1-time0))\n",
    "        #validate_verify(parameters)\n",
    "    #print('Train Over!')\n",
    "    \n",
    "    "
   ]
  },
  {
   "cell_type": "code",
   "execution_count": 554,
   "metadata": {},
   "outputs": [
    {
     "data": {
      "text/plain": [
       "0.1139"
      ]
     },
     "execution_count": 554,
     "metadata": {},
     "output_type": "execute_result"
    }
   ],
   "source": [
    "parameters=init_wb()\n",
    "validate_verify(parameters)"
   ]
  },
  {
   "cell_type": "code",
   "execution_count": 555,
   "metadata": {},
   "outputs": [],
   "source": [
    "epoch=[]"
   ]
  },
  {
   "cell_type": "code",
   "execution_count": 558,
   "metadata": {},
   "outputs": [
    {
     "data": {
      "application/vnd.jupyter.widget-view+json": {
       "model_id": "c910ddbdc64548109884f515d745b665",
       "version_major": 2,
       "version_minor": 0
      },
      "text/plain": [
       "HBox(children=(IntProgress(value=0, max=1), HTML(value='')))"
      ]
     },
     "metadata": {},
     "output_type": "display_data"
    },
    {
     "name": "stdout",
     "output_type": "stream",
     "text": [
      "\n",
      "总用时：22.79621171951294\n"
     ]
    }
   ],
   "source": [
    "tem_time0=time.time()\n",
    "epoch_num=1\n",
    "for i in tqdm_notebook(range(epoch_num)):\n",
    "    train()\n",
    "    epoch.append(validate_verify(parameters))\n",
    "tem_time1=time.time()\n",
    "\n",
    "print('总用时：{}'.format(tem_time1-tem_time0))"
   ]
  },
  {
   "cell_type": "code",
   "execution_count": 487,
   "metadata": {},
   "outputs": [],
   "source": [
    "tem_epoch=[i*100 for i in epoch] "
   ]
  },
  {
   "cell_type": "code",
   "execution_count": 546,
   "metadata": {},
   "outputs": [
    {
     "data": {
      "text/plain": [
       "0.9367"
      ]
     },
     "execution_count": 546,
     "metadata": {},
     "output_type": "execute_result"
    }
   ],
   "source": [
    "validate_verify(parameters)"
   ]
  },
  {
   "cell_type": "code",
   "execution_count": 534,
   "metadata": {
    "collapsed": true
   },
   "outputs": [
    {
     "data": {
      "text/plain": [
       "[<matplotlib.lines.Line2D at 0x20e51432550>]"
      ]
     },
     "execution_count": 534,
     "metadata": {},
     "output_type": "execute_result"
    },
    {
     "data": {
      "image/png": "[encoded data removed]",
      "text/plain": [
       "<Figure size 432x288 with 1 Axes>"
      ]
     },
     "metadata": {
      "needs_background": "light"
     },
     "output_type": "display_data"
    }
   ],
   "source": [
    "l=\n",
    "r=-1\n",
    "plt.plot(tem_epoch[l:r])"
   ]
  },
  {
   "cell_type": "code",
   "execution_count": 480,
   "metadata": {
    "collapsed": true
   },
   "outputs": [
    {
     "data": {
      "text/plain": [
       "[0.9359,\n",
       " 0.9545,\n",
       " 0.9604,\n",
       " 0.9657,\n",
       " 0.9695,\n",
       " 0.9703,\n",
       " 0.9699,\n",
       " 0.9701,\n",
       " 0.9713,\n",
       " 0.9722,\n",
       " 0.9727,\n",
       " 0.9714,\n",
       " 0.9714,\n",
       " 0.9716,\n",
       " 0.9721,\n",
       " 0.9726,\n",
       " 0.9741,\n",
       " 0.9757,\n",
       " 0.9753000000000001,\n",
       " 0.9754,\n",
       " 0.976,\n",
       " 0.9748,\n",
       " 0.9754,\n",
       " 0.9755,\n",
       " 0.9754,\n",
       " 0.9755,\n",
       " 0.9759,\n",
       " 0.9759,\n",
       " 0.976,\n",
       " 0.9766,\n",
       " 0.9765,\n",
       " 0.9764,\n",
       " 0.977,\n",
       " 0.9778,\n",
       " 0.9775,\n",
       " 0.9767,\n",
       " 0.9772,\n",
       " 0.977,\n",
       " 0.9768,\n",
       " 0.977,\n",
       " 0.9773,\n",
       " 0.9767,\n",
       " 0.977,\n",
       " 0.9768,\n",
       " 0.9766,\n",
       " 0.9774,\n",
       " 0.9762,\n",
       " 0.9773,\n",
       " 0.977,\n",
       " 0.9765,\n",
       " 0.9775]"
      ]
     },
     "execution_count": 480,
     "metadata": {},
     "output_type": "execute_result"
    }
   ],
   "source": [
    "epoch"
   ]
  },
  {
   "cell_type": "code",
   "execution_count": 383,
   "metadata": {},
   "outputs": [
    {
     "data": {
      "text/plain": [
       "0.09909999999999997"
      ]
     },
     "execution_count": 383,
     "metadata": {},
     "output_type": "execute_result"
    }
   ],
   "source": [
    "#训练前77组(每组500个数据)数据后\n",
    "validate_verify(parameters)"
   ]
  },
  {
   "cell_type": "code",
   "execution_count": 113,
   "metadata": {},
   "outputs": [],
   "source": [
    "#parameters"
   ]
  },
  {
   "cell_type": "code",
   "execution_count": 102,
   "metadata": {},
   "outputs": [
    {
     "name": "stdout",
     "output_type": "stream",
     "text": [
      "准确率：14.470000000000006%\n"
     ]
    }
   ],
   "source": [
    "#训练前85组(每组500个数据)数据后\n",
    "validate_verify(parameters)"
   ]
  },
  {
   "cell_type": "code",
   "execution_count": 464,
   "metadata": {},
   "outputs": [
    {
     "name": "stdout",
     "output_type": "stream",
     "text": [
      "准确率：72.44%\n"
     ]
    }
   ],
   "source": [
    "#训练前89组(每组500个数据)数据后\n",
    "validate_verify(parameters)"
   ]
  },
  {
   "cell_type": "code",
   "execution_count": 112,
   "metadata": {},
   "outputs": [
    {
     "name": "stdout",
     "output_type": "stream",
     "text": [
      "(784, 100) (100,) (100, 10) (10,)\n"
     ]
    }
   ],
   "source": [
    "print(parameters[0]['w'].shape,\n",
    "parameters[0]['b'].shape,\n",
    "parameters[1]['w'].shape,\n",
    "parameters[1]['b'].shape)\n"
   ]
  },
  {
   "cell_type": "code",
   "execution_count": null,
   "metadata": {},
   "outputs": [],
   "source": []
  },
  {
   "cell_type": "code",
   "execution_count": null,
   "metadata": {},
   "outputs": [],
   "source": []
  },
  {
   "cell_type": "code",
   "execution_count": null,
   "metadata": {},
   "outputs": [],
   "source": []
  },
  {
   "cell_type": "code",
   "execution_count": null,
   "metadata": {},
   "outputs": [],
   "source": []
  },
  {
   "cell_type": "code",
   "execution_count": 109,
   "metadata": {},
   "outputs": [
    {
     "name": "stdout",
     "output_type": "stream",
     "text": [
      "[[ 0.15203301  0.20998929 -0.15912345  0.00269307 -0.0345071  -0.03045856\n",
      "  -0.05981318  0.02818692 -0.20990824 -0.2315964 ]]\n"
     ]
    }
   ],
   "source": [
    "print(parameters[1]['w'][:10][:1])"
   ]
  },
  {
   "cell_type": "code",
   "execution_count": null,
   "metadata": {},
   "outputs": [],
   "source": []
  },
  {
   "cell_type": "code",
   "execution_count": null,
   "metadata": {},
   "outputs": [],
   "source": []
  },
  {
   "cell_type": "code",
   "execution_count": 306,
   "metadata": {},
   "outputs": [],
   "source": [
    "#Validate gradient \n",
    "\n",
    "step=0.0001\n",
    "\n",
    "def validate_grad(image,label):\n",
    "    \n",
    "    l0=image+parameters[0]['b']\n",
    "    \n",
    "    h=activation[0](l0)\n",
    "    \n",
    "    l2=np.dot(h,parameters[1]['w'])+parameters[1]['b']\n",
    "    \n",
    "    l3=activation[1](l2)\n",
    "    \n",
    "    exp_l2=np.exp(l2)\n",
    "    \n",
    "    \n",
    "   \n",
    "    \n",
    "    zero_grad=init_zero_grad()\n",
    "    \n",
    "    for ii in range(len(zero_grad)):\n",
    "        for jj in zero_grad[ii].keys():\n",
    "            zero_grad[ii][jj]=zero_grad[ii][jj]+parameters[ii][jj]\n",
    "\n",
    "            \n",
    "    loss0=loss(image,label,parameters)\n",
    "    #验证w1参数\n",
    "    for i in range(784):\n",
    "        \n",
    "        for j in range(10):  \n",
    "            \n",
    "            zero_grad=init_zero_grad()\n",
    "            for ii in range(len(zero_grad)):\n",
    "                for jj in zero_grad[ii].keys():\n",
    "                    zero_grad[ii][jj]=zero_grad[ii][jj]+parameters[ii][jj]\n",
    "\n",
    "            \n",
    "            zero_grad[1]['w'][i][j]=zero_grad[1]['w'][i][j]+step\n",
    "            loss1=loss(image,label,zero_grad)\n",
    "            \n",
    "            #print('loss0='+str(loss0))\n",
    "            #print('loss1='+str(loss1))\n",
    "            \n",
    "            calc_grid=0\n",
    "            \n",
    "            tem=0\n",
    "            \n",
    "            for k in range(10):\n",
    "                \n",
    "                if j==k:\n",
    "                    tem=(softmax(l2)[j]-(softmax(l2)[j])**2)\n",
    "                else:\n",
    "                    tem=(-softmax(l2)[j]*softmax(l2)[k])\n",
    "                \n",
    "                #print('Rem1:tem='+str(tem))\n",
    "                tem=tem*2*(l3[k]-label_keys[label][k])*h[i]\n",
    "                #print('Rem2:tem='+str(tem))\n",
    "                calc_grid=calc_grid+tem\n",
    "            print('w1'+str([i])+str([j]),end='')\n",
    "            print('计算梯度为：'+str(calc_grid),end='')\n",
    "            print('差商梯度为：'+str((loss1-loss0)/step))\n",
    "    \n",
    "#validate_grad(train_image[0],train_label[0])\n",
    "\n"
   ]
  },
  {
   "cell_type": "code",
   "execution_count": 283,
   "metadata": {
    "collapsed": true
   },
   "outputs": [
    {
     "name": "stdout",
     "output_type": "stream",
     "text": [
      "[0.43768751 0.38216954 0.4549189  0.15676711]\n",
      "[0.26892823 0.25440477 0.2736024  0.2030646 ]\n",
      "[0.26892139 0.25442374 0.27359544 0.20305943]\n",
      "差商：[-0.06841831  0.18968764 -0.06960746 -0.05166187]\n",
      "梯度：[-0.06841662539087341, 0.18968298322494734, -0.06960575502513042, -0.05166060280894351]\n"
     ]
    }
   ],
   "source": [
    "def test_grad_correct():\n",
    "    step=0.0001\n",
    "\n",
    "    test_input=np.random.rand(4)\n",
    "    print(test_input)\n",
    "    v0=softmax(test_input)\n",
    "    print(v0)\n",
    "\n",
    "    test_grad=[]\n",
    "    test_input_exp=np.exp(test_input-test_input.max())\n",
    "    test_input_exp_sum=test_input_exp.sum()\n",
    "    \n",
    "    \n",
    "    \n",
    "    for i in range(4):\n",
    "        if i==1:\n",
    "            test_grad.append(test_input_exp[i]/test_input_exp_sum-(test_input_exp[i]/test_input_exp_sum)**2)\n",
    "        else:\n",
    "            test_grad.append(-test_input_exp[i]*test_input_exp[1]/(test_input_exp_sum**2))\n",
    "    \n",
    "\n",
    "\n",
    "    test_input[1]=test_input[1]+step\n",
    "    v1=softmax(test_input)\n",
    "    print(v1)\n",
    "    print('差商：'+str((v1-v0)/step))\n",
    "    print('梯度：'+str(test_grad))\n",
    "\n",
    "    \n",
    "test_grad_correct()\n"
   ]
  },
  {
   "cell_type": "code",
   "execution_count": null,
   "metadata": {},
   "outputs": [],
   "source": []
  },
  {
   "cell_type": "code",
   "execution_count": null,
   "metadata": {},
   "outputs": [],
   "source": []
  },
  {
   "cell_type": "code",
   "execution_count": 344,
   "metadata": {},
   "outputs": [],
   "source": [
    "with open('111.txt','w') as f:\n",
    "    f.write(str(parameters[0]['b'])+'\\n')\n",
    "    f.write(str(parameters[1]['b'])+'\\n')\n",
    "    f.write(str(parameters[1]['w'])+'\\n')"
   ]
  },
  {
   "cell_type": "code",
   "execution_count": null,
   "metadata": {},
   "outputs": [],
   "source": []
  },
  {
   "cell_type": "code",
   "execution_count": 494,
   "metadata": {},
   "outputs": [],
   "source": [
    "\n",
    "\n",
    "def write_parameters():\n",
    "\n",
    "    f=open('111.txt','w')\n",
    "    \n",
    "    \n",
    "    \n",
    "    \n",
    "    f.write('第1层：\\n')\n",
    "    f.write('b:\\n')\n",
    "    for i in parameters[0]['b']:\n",
    "        f.write(str(i)+'\\t')\n",
    "    f.write('\\n第2层：\\n')\n",
    "    f.write('b:\\n')\n",
    "    for i in parameters[1]['b']:\n",
    "        f.write(str(i)+'\\t')\n",
    "    f.write('\\nw:\\n')\n",
    "    for i in parameters[1]['w']:\n",
    "        for j in i:\n",
    "            f.write(str(j)+'\\t')\n",
    "        f.write('\\n')\n",
    "    f.write('\\n')\n",
    "    f.close()\n",
    "write_parameters()    "
   ]
  },
  {
   "cell_type": "code",
   "execution_count": 458,
   "metadata": {},
   "outputs": [
    {
     "name": "stdout",
     "output_type": "stream",
     "text": [
      "预测序号：22691\n",
      "我的预测：0\n",
      "label:0\n"
     ]
    },
    {
     "data": {
      "image/png": "[encoded data removed]",
      "text/plain": [
       "<Figure size 432x288 with 1 Axes>"
      ]
     },
     "metadata": {
      "needs_background": "light"
     },
     "output_type": "display_data"
    }
   ],
   "source": [
    "def rrrr(index):\n",
    "    print('预测序号：{}'.format(index))\n",
    "    print('我的预测：{}'.format(predict(train_image[index],parameters).argmax()))\n",
    "    show_train(index)\n",
    "rrrr(random.randint(0,50000))"
   ]
  }
 ],
 "metadata": {
  "kernelspec": {
   "display_name": "Python 3",
   "language": "python",
   "name": "python3"
  },
  "language_info": {
   "codemirror_mode": {
    "name": "ipython",
    "version": 3
   },
   "file_extension": ".py",
   "mimetype": "text/x-python",
   "name": "python",
   "nbconvert_exporter": "python",
   "pygments_lexer": "ipython3",
   "version": "3.7.3"
  }
 },
 "nbformat": 4,
 "nbformat_minor": 2
}
