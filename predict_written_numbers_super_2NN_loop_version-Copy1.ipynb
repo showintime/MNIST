{
 "cells": [
  {
   "cell_type": "code",
   "execution_count": 2,
   "metadata": {},
   "outputs": [],
   "source": [
    "#Import chunk\n",
    "\n",
    "\n",
    "import numpy as np\n",
    "\n",
    "import math\n",
    "\n",
    "import struct\n",
    "\n",
    "import random\n",
    "\n",
    "import time\n",
    "\n",
    "from tqdm import tqdm_notebook\n",
    "import matplotlib.pyplot as plt\n"
   ]
  },
  {
   "cell_type": "code",
   "execution_count": 3,
   "metadata": {},
   "outputs": [],
   "source": [
    "def tanh(x):\n",
    "    return np.tanh(x)\n",
    "\n",
    "def softmax(x):\n",
    "    #这里减去x.max()为了防止指数爆炸，并不会影响结果\n",
    "    exp=np.exp(x-x.max())\n",
    "    return exp/exp.sum()\n",
    "def d_tanh(x):\n",
    "    return 1-np.tanh(x)**2\n",
    "def d_softmax(x):\n",
    "    tem=softmax(x)\n",
    "    return np.diag(tem)-np.outer(tem,tem)"
   ]
  },
  {
   "cell_type": "code",
   "execution_count": 4,
   "metadata": {},
   "outputs": [],
   "source": [
    "#Initial chunk\n",
    "\n",
    "#两层的维度\n",
    "dimension=[784,100,10]\n",
    "#两层的激活函数\n",
    "activation=[tanh,softmax]\n",
    "\n",
    "d_activation={\n",
    "    tanh:d_tanh,\n",
    "    softmax:d_softmax\n",
    "}\n",
    "\n",
    "d_way={\n",
    "    d_tanh:'time',\n",
    "    d_softmax:'dot'\n",
    "}\n",
    "\n",
    "distribution=[\n",
    "    {'b':[0,0],'w':[-math.sqrt(6/(dimension[0]+dimension[-1])),math.sqrt(6/(dimension[0]+dimension[-1]))]},\n",
    "    {'b':[0,0],'w':[-math.sqrt(6/(dimension[0]+dimension[-1])),math.sqrt(6/(dimension[0]+dimension[-1]))]}\n",
    "]\n",
    "\n"
   ]
  },
  {
   "cell_type": "code",
   "execution_count": 5,
   "metadata": {},
   "outputs": [],
   "source": [
    "#Parameter's initial\n",
    "\n",
    "\n",
    "def init_b(layer):\n",
    "    dist=distribution[layer]['b']\n",
    "    return np.random.rand(dimension[layer+1])*(dist[1]-dist[0])+dist[0]\n",
    "\n",
    "\n",
    "def init_w(layer):\n",
    "    dist=distribution[layer]['w']\n",
    "    return np.random.rand(dimension[layer],dimension[layer+1])*(dist[1]-dist[0])+dist[0]\n",
    "\n",
    "def init_wb():\n",
    "    parameter=[]\n",
    "    for i in range(len(distribution)):\n",
    "        layer_parameter={}\n",
    "        for j in distribution[i].keys():\n",
    "            if j=='w':\n",
    "                layer_parameter['w']=init_w(i)\n",
    "            elif j=='b':\n",
    "                layer_parameter['b']=init_b(i)\n",
    "        parameter.append(layer_parameter)\n",
    "    return parameter"
   ]
  },
  {
   "cell_type": "code",
   "execution_count": 6,
   "metadata": {},
   "outputs": [],
   "source": [
    "data_path='./datas/'\n",
    "\n",
    "train_image_path=data_path+'train-images.idx3-ubyte'\n",
    "train_label_path=data_path+'train-labels.idx1-ubyte'\n",
    "\n",
    "test_image_path=data_path+'t10k-images.idx3-ubyte'\n",
    "test_label_path=data_path+'t10k-labels.idx1-ubyte'\n"
   ]
  },
  {
   "cell_type": "code",
   "execution_count": 7,
   "metadata": {},
   "outputs": [],
   "source": [
    "train_num=50000\n",
    "validate_num=10000\n",
    "test_num=10000\n",
    "\n",
    "with open(train_image_path,'rb') as f:\n",
    "    struct.unpack('>4i',f.read(16))\n",
    "    tem_image=np.fromfile(f,dtype=np.uint8).reshape(-1,784)/255\n",
    "    train_image=tem_image[:train_num]\n",
    "    validate_image=tem_image[train_num:]\n",
    "    \n",
    "with open(test_image_path,'rb') as f:\n",
    "    struct.unpack('>4i',f.read(16))\n",
    "    test_image=np.fromfile(f,dtype=np.uint8).reshape(-1,784)/255\n",
    "    \n",
    "\n",
    "with open(train_label_path,'rb') as f:\n",
    "    struct.unpack('>2i',f.read(8))\n",
    "    tem_label=np.fromfile(f,dtype=np.uint8)\n",
    "    train_label=tem_label[:train_num]\n",
    "    validate_label=tem_label[train_num:]\n",
    "\n",
    "with open(test_label_path,'rb') as f:\n",
    "    struct.unpack('>2i',f.read(8))\n",
    "    test_label=np.fromfile(f,dtype=np.uint8)    \n",
    "    \n",
    "\n",
    "dataset={\n",
    "    'train':{\n",
    "        'image':train_image,\n",
    "        'label':train_label,\n",
    "        'num':train_num\n",
    "    },\n",
    "    'validate':{\n",
    "        'image':validate_image,\n",
    "        'label':validate_label,\n",
    "        'num':validate_num\n",
    "    },\n",
    "    'test':{\n",
    "        'image':test_image,\n",
    "        'label':test_label,\n",
    "        'num':test_num\n",
    "    }\n",
    "}\n",
    "    "
   ]
  },
  {
   "cell_type": "code",
   "execution_count": 8,
   "metadata": {},
   "outputs": [],
   "source": [
    "def show_image(data,index):\n",
    "    print('label:'+str(dataset[data]['label'][index]))\n",
    "    a_image=dataset[data]['image'][index].reshape(-1,28)\n",
    "    plt.imshow(a_image,cmap='gray')\n",
    "    "
   ]
  },
  {
   "cell_type": "code",
   "execution_count": 9,
   "metadata": {},
   "outputs": [],
   "source": [
    "label_keys=np.identity(dimension[-1])"
   ]
  },
  {
   "cell_type": "code",
   "execution_count": 10,
   "metadata": {},
   "outputs": [],
   "source": [
    "def predict(image,parameters):\n",
    "    output=image\n",
    "    for i in range(len(distribution)):\n",
    "        output=activation[i](np.dot(output,parameters[i]['w'])+parameters[i]['b'])\n",
    "    return output"
   ]
  },
  {
   "cell_type": "code",
   "execution_count": 11,
   "metadata": {},
   "outputs": [],
   "source": [
    "def loss(data,parameters):\n",
    "    l=0\n",
    "    for i in range(dataset[data]['num']):\n",
    "        pre=predict(dataset[data]['image'][i],parameters)\n",
    "        lab=label_keys[dataset[data]['label'][i]]\n",
    "        dif=pre-lab\n",
    "        l+=np.dot(dif,dif)\n",
    "    return l/(dataset[data]['num']/10000)"
   ]
  },
  {
   "cell_type": "code",
   "execution_count": 12,
   "metadata": {},
   "outputs": [],
   "source": [
    "\n",
    "def verify(data,parameters):\n",
    "    error_num=0\n",
    "    for i in range(dataset[data]['num']):\n",
    "        \n",
    "        if predict(dataset[data]['image'][i],parameters).argmax()!=dataset[data]['label'][i]:\n",
    "        \n",
    "            error_num+=1\n",
    "            \n",
    "    rate=1-error_num/dataset[data]['num']\n",
    "    #print('验证集准确率：'+str(rate*100)+'%')\n",
    "    return rate\n",
    "    "
   ]
  },
  {
   "cell_type": "code",
   "execution_count": 13,
   "metadata": {},
   "outputs": [],
   "source": [
    "def init_zero_grad():\n",
    "    parameter=[]\n",
    "    for layer in range(len(distribution)):\n",
    "        layer_parameter={}\n",
    "        for j in distribution[layer].keys():\n",
    "            if j=='w':\n",
    "                layer_parameter['w']=np.zeros((dimension[layer],dimension[layer+1]))\n",
    "            elif j=='b':\n",
    "                layer_parameter['b']=np.zeros(dimension[layer+1])\n",
    "        parameter.append(layer_parameter)\n",
    "    return parameter"
   ]
  },
  {
   "cell_type": "code",
   "execution_count": 44,
   "metadata": {},
   "outputs": [],
   "source": [
    "def calculate_a_grad(image,label):\n",
    "    \n",
    "    a_grad=[]\n",
    "    \n",
    "    lin=[]\n",
    "    lout=[image]\n",
    "    for i in range(len(distribution)):\n",
    "        lin.append(np.dot(lout[i],parameters[i]['w'])+parameters[i]['b'])\n",
    "        lout.append(activation[i](lin[i]))\n",
    "        a_grad.append({})\n",
    "    \n",
    "    \n",
    "    d_L=2*(lout[-1]-label_keys[label])\n",
    "    \n",
    "    for i in range(len(distribution),0,-1):\n",
    "        \n",
    "        j=i-1\n",
    "        if d_way[d_activation[activation[j]]]=='time':\n",
    "            a_grad[j]['b']=d_L*d_activation[activation[j]](lin[j])\n",
    "        elif d_way[d_activation[activation[j]]]=='dot':\n",
    "            a_grad[j]['b']=np.dot(d_L,d_activation[activation[j]](lin[j]))\n",
    "        a_grad[j]['w']=np.outer(lout[j],a_grad[j]['b'])\n",
    "        if j==0:\n",
    "            break\n",
    "        d_L=np.dot(parameters[j]['w'],a_grad[j]['b'])\n",
    "        \n",
    "\n",
    "    return a_grad\n",
    "            \n",
    "            "
   ]
  },
  {
   "cell_type": "code",
   "execution_count": 15,
   "metadata": {},
   "outputs": [],
   "source": [
    "def calculate_banch_grad(banch_time,banch_size):\n",
    "    \n",
    "    banch_grad=calculate_a_grad(train_image[banch_size*banch_time],train_label[banch_size*banch_time])\n",
    "    for i in range(banch_size*banch_time+1,banch_size*(banch_time+1)):\n",
    "        \n",
    "        #print('训练'+str(i+1)+'/'+str(banch_size)+'个参数')\n",
    "        tem_grad=calculate_a_grad(train_image[i],train_label[i])\n",
    "        for j in range(len(banch_grad)):\n",
    "            for k in banch_grad[j].keys():\n",
    "                banch_grad[j][k]+=tem_grad[j][k]\n",
    "    for j in range(len(banch_grad)):\n",
    "        for k in banch_grad[j].keys():\n",
    "            banch_grad[j][k]/=banch_size\n",
    "    \n",
    "    \n",
    "    return banch_grad           "
   ]
  },
  {
   "cell_type": "code",
   "execution_count": 16,
   "metadata": {},
   "outputs": [],
   "source": [
    "def train_banch(banch_grad,learn_rate):\n",
    "    #print('正在修正参数')\n",
    "    for j in range(len(banch_grad)):\n",
    "        for k in banch_grad[j].keys():\n",
    "            parameters[j][k]-=learn_rate*banch_grad[j][k]\n",
    "            \n",
    "            "
   ]
  },
  {
   "cell_type": "code",
   "execution_count": 35,
   "metadata": {},
   "outputs": [],
   "source": [
    "\n",
    "def train_epoch():\n",
    "    banch_size=100\n",
    "    learn_rate=1\n",
    "    for i in tqdm_notebook((range(train_num//banch_size))):\n",
    "        \n",
    "        #print('#===============开始训练第'+str(i+1)+'/'+str(train_num//banch_size)+'组==============#')\n",
    "        banch_grad=calculate_banch_grad(i,banch_size)\n",
    "        train_banch(banch_grad,learn_rate)\n",
    "        \n",
    "        #print('当前组用时：{}s'.format(time1-time0))\n",
    "        #validate_verify(parameters)\n",
    "    #print('Train Over!')\n",
    "    \n",
    "    "
   ]
  },
  {
   "cell_type": "code",
   "execution_count": 40,
   "metadata": {},
   "outputs": [
    {
     "data": {
      "text/plain": [
       "0.13280000000000003"
      ]
     },
     "execution_count": 40,
     "metadata": {},
     "output_type": "execute_result"
    }
   ],
   "source": [
    "parameters=init_wb()\n",
    "verify_in_validate=[]\n",
    "verify_in_train=[]\n",
    "verify_in_test=[]\n",
    "loss_in_train=[]\n",
    "loss_in_validate=[]\n",
    "loss_in_test=[]\n",
    "verify('validate',parameters)\n"
   ]
  },
  {
   "cell_type": "code",
   "execution_count": 41,
   "metadata": {},
   "outputs": [],
   "source": [
    "def train(epoch_num):\n",
    "    for i in tqdm_notebook(range(epoch_num)):\n",
    "        train_epoch()\n",
    "        \n",
    "        verify_in_validate.append(verify('validate',parameters))\n",
    "        verify_in_train.append(verify('train',parameters))\n",
    "        verify_in_test.append(verify('test',parameters))\n",
    "        \n",
    "        loss_in_train.append(loss('train',parameters))\n",
    "        loss_in_validate.append(loss('validate',parameters))\n",
    "        loss_in_test.append(loss('test',parameters))\n",
    "        \n",
    "        "
   ]
  },
  {
   "cell_type": "code",
   "execution_count": 45,
   "metadata": {
    "collapsed": true
   },
   "outputs": [
    {
     "data": {
      "application/vnd.jupyter.widget-view+json": {
       "model_id": "54218fd2c53f440b902c924ab3f0ccdc",
       "version_major": 2,
       "version_minor": 0
      },
      "text/plain": [
       "HBox(children=(IntProgress(value=0, max=10), HTML(value='')))"
      ]
     },
     "metadata": {},
     "output_type": "display_data"
    },
    {
     "data": {
      "application/vnd.jupyter.widget-view+json": {
       "model_id": "4f690857f76e4e15a36c00044858abf4",
       "version_major": 2,
       "version_minor": 0
      },
      "text/plain": [
       "HBox(children=(IntProgress(value=0, max=500), HTML(value='')))"
      ]
     },
     "metadata": {},
     "output_type": "display_data"
    },
    {
     "data": {
      "application/vnd.jupyter.widget-view+json": {
       "model_id": "32841dcbf7fe4c10ae7b1695e5b3e69e",
       "version_major": 2,
       "version_minor": 0
      },
      "text/plain": [
       "HBox(children=(IntProgress(value=0, max=500), HTML(value='')))"
      ]
     },
     "metadata": {},
     "output_type": "display_data"
    },
    {
     "ename": "KeyboardInterrupt",
     "evalue": "",
     "output_type": "error",
     "traceback": [
      "\u001b[1;31m---------------------------------------------------------------------------\u001b[0m",
      "\u001b[1;31mKeyboardInterrupt\u001b[0m                         Traceback (most recent call last)",
      "\u001b[1;32m<ipython-input-45-84557d09d340>\u001b[0m in \u001b[0;36m<module>\u001b[1;34m\u001b[0m\n\u001b[1;32m----> 1\u001b[1;33m \u001b[0mtrain\u001b[0m\u001b[1;33m(\u001b[0m\u001b[1;36m10\u001b[0m\u001b[1;33m)\u001b[0m\u001b[1;33m\u001b[0m\u001b[1;33m\u001b[0m\u001b[0m\n\u001b[0m",
      "\u001b[1;32m<ipython-input-41-d4bdd8f602c5>\u001b[0m in \u001b[0;36mtrain\u001b[1;34m(epoch_num)\u001b[0m\n\u001b[0;32m      1\u001b[0m \u001b[1;32mdef\u001b[0m \u001b[0mtrain\u001b[0m\u001b[1;33m(\u001b[0m\u001b[0mepoch_num\u001b[0m\u001b[1;33m)\u001b[0m\u001b[1;33m:\u001b[0m\u001b[1;33m\u001b[0m\u001b[1;33m\u001b[0m\u001b[0m\n\u001b[0;32m      2\u001b[0m     \u001b[1;32mfor\u001b[0m \u001b[0mi\u001b[0m \u001b[1;32min\u001b[0m \u001b[0mtqdm_notebook\u001b[0m\u001b[1;33m(\u001b[0m\u001b[0mrange\u001b[0m\u001b[1;33m(\u001b[0m\u001b[0mepoch_num\u001b[0m\u001b[1;33m)\u001b[0m\u001b[1;33m)\u001b[0m\u001b[1;33m:\u001b[0m\u001b[1;33m\u001b[0m\u001b[1;33m\u001b[0m\u001b[0m\n\u001b[1;32m----> 3\u001b[1;33m         \u001b[0mtrain_epoch\u001b[0m\u001b[1;33m(\u001b[0m\u001b[1;33m)\u001b[0m\u001b[1;33m\u001b[0m\u001b[1;33m\u001b[0m\u001b[0m\n\u001b[0m\u001b[0;32m      4\u001b[0m \u001b[1;33m\u001b[0m\u001b[0m\n\u001b[0;32m      5\u001b[0m         \u001b[0mverify_in_validate\u001b[0m\u001b[1;33m.\u001b[0m\u001b[0mappend\u001b[0m\u001b[1;33m(\u001b[0m\u001b[0mverify\u001b[0m\u001b[1;33m(\u001b[0m\u001b[1;34m'validate'\u001b[0m\u001b[1;33m,\u001b[0m\u001b[0mparameters\u001b[0m\u001b[1;33m)\u001b[0m\u001b[1;33m)\u001b[0m\u001b[1;33m\u001b[0m\u001b[1;33m\u001b[0m\u001b[0m\n",
      "\u001b[1;32m<ipython-input-35-b09d30415af7>\u001b[0m in \u001b[0;36mtrain_epoch\u001b[1;34m()\u001b[0m\n\u001b[0;32m      5\u001b[0m \u001b[1;33m\u001b[0m\u001b[0m\n\u001b[0;32m      6\u001b[0m         \u001b[1;31m#print('#===============开始训练第'+str(i+1)+'/'+str(train_num//banch_size)+'组==============#')\u001b[0m\u001b[1;33m\u001b[0m\u001b[1;33m\u001b[0m\u001b[1;33m\u001b[0m\u001b[0m\n\u001b[1;32m----> 7\u001b[1;33m         \u001b[0mbanch_grad\u001b[0m\u001b[1;33m=\u001b[0m\u001b[0mcalculate_banch_grad\u001b[0m\u001b[1;33m(\u001b[0m\u001b[0mi\u001b[0m\u001b[1;33m,\u001b[0m\u001b[0mbanch_size\u001b[0m\u001b[1;33m)\u001b[0m\u001b[1;33m\u001b[0m\u001b[1;33m\u001b[0m\u001b[0m\n\u001b[0m\u001b[0;32m      8\u001b[0m         \u001b[0mtrain_banch\u001b[0m\u001b[1;33m(\u001b[0m\u001b[0mbanch_grad\u001b[0m\u001b[1;33m,\u001b[0m\u001b[0mlearn_rate\u001b[0m\u001b[1;33m)\u001b[0m\u001b[1;33m\u001b[0m\u001b[1;33m\u001b[0m\u001b[0m\n\u001b[0;32m      9\u001b[0m \u001b[1;33m\u001b[0m\u001b[0m\n",
      "\u001b[1;32m<ipython-input-15-c4bef70161ce>\u001b[0m in \u001b[0;36mcalculate_banch_grad\u001b[1;34m(banch_time, banch_size)\u001b[0m\n\u001b[0;32m      5\u001b[0m \u001b[1;33m\u001b[0m\u001b[0m\n\u001b[0;32m      6\u001b[0m         \u001b[1;31m#print('训练'+str(i+1)+'/'+str(banch_size)+'个参数')\u001b[0m\u001b[1;33m\u001b[0m\u001b[1;33m\u001b[0m\u001b[1;33m\u001b[0m\u001b[0m\n\u001b[1;32m----> 7\u001b[1;33m         \u001b[0mtem_grad\u001b[0m\u001b[1;33m=\u001b[0m\u001b[0mcalculate_a_grad\u001b[0m\u001b[1;33m(\u001b[0m\u001b[0mtrain_image\u001b[0m\u001b[1;33m[\u001b[0m\u001b[0mi\u001b[0m\u001b[1;33m]\u001b[0m\u001b[1;33m,\u001b[0m\u001b[0mtrain_label\u001b[0m\u001b[1;33m[\u001b[0m\u001b[0mi\u001b[0m\u001b[1;33m]\u001b[0m\u001b[1;33m)\u001b[0m\u001b[1;33m\u001b[0m\u001b[1;33m\u001b[0m\u001b[0m\n\u001b[0m\u001b[0;32m      8\u001b[0m         \u001b[1;32mfor\u001b[0m \u001b[0mj\u001b[0m \u001b[1;32min\u001b[0m \u001b[0mrange\u001b[0m\u001b[1;33m(\u001b[0m\u001b[0mlen\u001b[0m\u001b[1;33m(\u001b[0m\u001b[0mbanch_grad\u001b[0m\u001b[1;33m)\u001b[0m\u001b[1;33m)\u001b[0m\u001b[1;33m:\u001b[0m\u001b[1;33m\u001b[0m\u001b[1;33m\u001b[0m\u001b[0m\n\u001b[0;32m      9\u001b[0m             \u001b[1;32mfor\u001b[0m \u001b[0mk\u001b[0m \u001b[1;32min\u001b[0m \u001b[0mbanch_grad\u001b[0m\u001b[1;33m[\u001b[0m\u001b[0mj\u001b[0m\u001b[1;33m]\u001b[0m\u001b[1;33m.\u001b[0m\u001b[0mkeys\u001b[0m\u001b[1;33m(\u001b[0m\u001b[1;33m)\u001b[0m\u001b[1;33m:\u001b[0m\u001b[1;33m\u001b[0m\u001b[1;33m\u001b[0m\u001b[0m\n",
      "\u001b[1;32m<ipython-input-44-ccacc517ed31>\u001b[0m in \u001b[0;36mcalculate_a_grad\u001b[1;34m(image, label)\u001b[0m\n\u001b[0;32m     20\u001b[0m         \u001b[1;32melif\u001b[0m \u001b[0md_way\u001b[0m\u001b[1;33m[\u001b[0m\u001b[0md_activation\u001b[0m\u001b[1;33m[\u001b[0m\u001b[0mactivation\u001b[0m\u001b[1;33m[\u001b[0m\u001b[0mj\u001b[0m\u001b[1;33m]\u001b[0m\u001b[1;33m]\u001b[0m\u001b[1;33m]\u001b[0m\u001b[1;33m==\u001b[0m\u001b[1;34m'dot'\u001b[0m\u001b[1;33m:\u001b[0m\u001b[1;33m\u001b[0m\u001b[1;33m\u001b[0m\u001b[0m\n\u001b[0;32m     21\u001b[0m             \u001b[0ma_grad\u001b[0m\u001b[1;33m[\u001b[0m\u001b[0mj\u001b[0m\u001b[1;33m]\u001b[0m\u001b[1;33m[\u001b[0m\u001b[1;34m'b'\u001b[0m\u001b[1;33m]\u001b[0m\u001b[1;33m=\u001b[0m\u001b[0mnp\u001b[0m\u001b[1;33m.\u001b[0m\u001b[0mdot\u001b[0m\u001b[1;33m(\u001b[0m\u001b[0md_L\u001b[0m\u001b[1;33m,\u001b[0m\u001b[0md_activation\u001b[0m\u001b[1;33m[\u001b[0m\u001b[0mactivation\u001b[0m\u001b[1;33m[\u001b[0m\u001b[0mj\u001b[0m\u001b[1;33m]\u001b[0m\u001b[1;33m]\u001b[0m\u001b[1;33m(\u001b[0m\u001b[0mlin\u001b[0m\u001b[1;33m[\u001b[0m\u001b[0mj\u001b[0m\u001b[1;33m]\u001b[0m\u001b[1;33m)\u001b[0m\u001b[1;33m)\u001b[0m\u001b[1;33m\u001b[0m\u001b[1;33m\u001b[0m\u001b[0m\n\u001b[1;32m---> 22\u001b[1;33m         \u001b[0ma_grad\u001b[0m\u001b[1;33m[\u001b[0m\u001b[0mj\u001b[0m\u001b[1;33m]\u001b[0m\u001b[1;33m[\u001b[0m\u001b[1;34m'w'\u001b[0m\u001b[1;33m]\u001b[0m\u001b[1;33m=\u001b[0m\u001b[0mnp\u001b[0m\u001b[1;33m.\u001b[0m\u001b[0mouter\u001b[0m\u001b[1;33m(\u001b[0m\u001b[0mlout\u001b[0m\u001b[1;33m[\u001b[0m\u001b[0mj\u001b[0m\u001b[1;33m]\u001b[0m\u001b[1;33m,\u001b[0m\u001b[0ma_grad\u001b[0m\u001b[1;33m[\u001b[0m\u001b[0mj\u001b[0m\u001b[1;33m]\u001b[0m\u001b[1;33m[\u001b[0m\u001b[1;34m'b'\u001b[0m\u001b[1;33m]\u001b[0m\u001b[1;33m)\u001b[0m\u001b[1;33m\u001b[0m\u001b[1;33m\u001b[0m\u001b[0m\n\u001b[0m\u001b[0;32m     23\u001b[0m         \u001b[1;32mif\u001b[0m \u001b[0mj\u001b[0m\u001b[1;33m==\u001b[0m\u001b[1;36m0\u001b[0m\u001b[1;33m:\u001b[0m\u001b[1;33m\u001b[0m\u001b[1;33m\u001b[0m\u001b[0m\n\u001b[0;32m     24\u001b[0m             \u001b[1;32mbreak\u001b[0m\u001b[1;33m\u001b[0m\u001b[1;33m\u001b[0m\u001b[0m\n",
      "\u001b[1;32m~\\Anaconda3\\lib\\site-packages\\numpy\\core\\numeric.py\u001b[0m in \u001b[0;36mouter\u001b[1;34m(a, b, out)\u001b[0m\n\u001b[0;32m   1201\u001b[0m     \u001b[0ma\u001b[0m \u001b[1;33m=\u001b[0m \u001b[0masarray\u001b[0m\u001b[1;33m(\u001b[0m\u001b[0ma\u001b[0m\u001b[1;33m)\u001b[0m\u001b[1;33m\u001b[0m\u001b[1;33m\u001b[0m\u001b[0m\n\u001b[0;32m   1202\u001b[0m     \u001b[0mb\u001b[0m \u001b[1;33m=\u001b[0m \u001b[0masarray\u001b[0m\u001b[1;33m(\u001b[0m\u001b[0mb\u001b[0m\u001b[1;33m)\u001b[0m\u001b[1;33m\u001b[0m\u001b[1;33m\u001b[0m\u001b[0m\n\u001b[1;32m-> 1203\u001b[1;33m     \u001b[1;32mreturn\u001b[0m \u001b[0mmultiply\u001b[0m\u001b[1;33m(\u001b[0m\u001b[0ma\u001b[0m\u001b[1;33m.\u001b[0m\u001b[0mravel\u001b[0m\u001b[1;33m(\u001b[0m\u001b[1;33m)\u001b[0m\u001b[1;33m[\u001b[0m\u001b[1;33m:\u001b[0m\u001b[1;33m,\u001b[0m \u001b[0mnewaxis\u001b[0m\u001b[1;33m]\u001b[0m\u001b[1;33m,\u001b[0m \u001b[0mb\u001b[0m\u001b[1;33m.\u001b[0m\u001b[0mravel\u001b[0m\u001b[1;33m(\u001b[0m\u001b[1;33m)\u001b[0m\u001b[1;33m[\u001b[0m\u001b[0mnewaxis\u001b[0m\u001b[1;33m,\u001b[0m \u001b[1;33m:\u001b[0m\u001b[1;33m]\u001b[0m\u001b[1;33m,\u001b[0m \u001b[0mout\u001b[0m\u001b[1;33m)\u001b[0m\u001b[1;33m\u001b[0m\u001b[1;33m\u001b[0m\u001b[0m\n\u001b[0m\u001b[0;32m   1204\u001b[0m \u001b[1;33m\u001b[0m\u001b[0m\n\u001b[0;32m   1205\u001b[0m \u001b[1;33m\u001b[0m\u001b[0m\n",
      "\u001b[1;31mKeyboardInterrupt\u001b[0m: "
     ]
    }
   ],
   "source": [
    "train(10)"
   ]
  },
  {
   "cell_type": "code",
   "execution_count": 31,
   "metadata": {
    "collapsed": true
   },
   "outputs": [
    {
     "data": {
      "text/plain": [
       "[0.9385,\n",
       " 0.9545,\n",
       " 0.9621999999999999,\n",
       " 0.9667,\n",
       " 0.9689,\n",
       " 0.9697,\n",
       " 0.9716,\n",
       " 0.9718,\n",
       " 0.9732,\n",
       " 0.9731]"
      ]
     },
     "execution_count": 31,
     "metadata": {},
     "output_type": "execute_result"
    }
   ],
   "source": [
    "verify_in_validate"
   ]
  },
  {
   "cell_type": "code",
   "execution_count": 27,
   "metadata": {},
   "outputs": [
    {
     "data": {
      "text/plain": [
       "0.97786"
      ]
     },
     "execution_count": 27,
     "metadata": {},
     "output_type": "execute_result"
    }
   ],
   "source": [
    "verify('train',parameters)"
   ]
  },
  {
   "cell_type": "code",
   "execution_count": 28,
   "metadata": {},
   "outputs": [
    {
     "data": {
      "text/plain": [
       "0.9689"
      ]
     },
     "execution_count": 28,
     "metadata": {},
     "output_type": "execute_result"
    }
   ],
   "source": [
    "verify('validate',parameters)"
   ]
  },
  {
   "cell_type": "code",
   "execution_count": 29,
   "metadata": {},
   "outputs": [
    {
     "data": {
      "text/plain": [
       "0.9669"
      ]
     },
     "execution_count": 29,
     "metadata": {},
     "output_type": "execute_result"
    }
   ],
   "source": [
    "verify('test',parameters)"
   ]
  },
  {
   "cell_type": "code",
   "execution_count": 43,
   "metadata": {},
   "outputs": [
    {
     "data": {
      "image/png": "[encoded data removed]",
      "text/plain": [
       "<Figure size 432x288 with 1 Axes>"
      ]
     },
     "metadata": {
      "needs_background": "light"
     },
     "output_type": "display_data"
    }
   ],
   "source": [
    "plt.plot(verify_in_test,color='black',label='test')\n",
    "plt.plot(verify_in_train,color='red',label='train')\n",
    "plt.plot(verify_in_validate,color='blue',label='validate')\n",
    "plt.show()"
   ]
  },
  {
   "cell_type": "code",
   "execution_count": 33,
   "metadata": {},
   "outputs": [
    {
     "data": {
      "image/png": "[encoded data removed]",
      "text/plain": [
       "<Figure size 432x288 with 1 Axes>"
      ]
     },
     "metadata": {
      "needs_background": "light"
     },
     "output_type": "display_data"
    }
   ],
   "source": [
    "plt.plot(loss_in_test,color='black',label='test')\n",
    "plt.plot(loss_in_train,color='red',label='train')\n",
    "plt.plot(loss_in_validate,color='blue',label='validate')\n",
    "plt.show()"
   ]
  },
  {
   "cell_type": "code",
   "execution_count": null,
   "metadata": {},
   "outputs": [],
   "source": []
  }
 ],
 "metadata": {
  "kernelspec": {
   "display_name": "Python 3",
   "language": "python",
   "name": "python3"
  },
  "language_info": {
   "codemirror_mode": {
    "name": "ipython",
    "version": 3
   },
   "file_extension": ".py",
   "mimetype": "text/x-python",
   "name": "python",
   "nbconvert_exporter": "python",
   "pygments_lexer": "ipython3",
   "version": "3.7.3"
  }
 },
 "nbformat": 4,
 "nbformat_minor": 2
}
