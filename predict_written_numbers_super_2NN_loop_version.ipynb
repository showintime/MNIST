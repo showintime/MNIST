{
 "cells": [
  {
   "cell_type": "code",
   "execution_count": 200,
   "metadata": {},
   "outputs": [],
   "source": [
    "#Import chunk\n",
    "\n",
    "\n",
    "import numpy as np\n",
    "\n",
    "import math\n",
    "\n",
    "import struct\n",
    "\n",
    "import random\n",
    "\n",
    "import time\n",
    "\n",
    "from tqdm import tqdm_notebook\n",
    "import matplotlib.pyplot as plt\n"
   ]
  },
  {
   "cell_type": "code",
   "execution_count": 201,
   "metadata": {},
   "outputs": [],
   "source": [
    "def tanh(x):\n",
    "    return np.tanh(x)\n",
    "\n",
    "def softmax(x):\n",
    "    #这里减去x.max()为了防止指数爆炸，并不会影响结果\n",
    "    exp=np.exp(x-x.max())\n",
    "    return exp/exp.sum()\n",
    "def d_tanh(x):\n",
    "    return 1-np.tanh(x)**2\n",
    "def d_softmax(x):\n",
    "    tem=softmax(x)\n",
    "    return np.diag(tem)-np.outer(tem,tem)"
   ]
  },
  {
   "cell_type": "code",
   "execution_count": 202,
   "metadata": {},
   "outputs": [],
   "source": [
    "#Initial chunk\n",
    "\n",
    "#两层的维度\n",
    "dimension=[784,100,10]\n",
    "#两层的激活函数\n",
    "activation=[tanh,softmax]\n",
    "\n",
    "d_activation={\n",
    "    tanh:d_tanh,\n",
    "    softmax:d_softmax\n",
    "}\n",
    "\n",
    "d_way={\n",
    "    d_tanh:'time',\n",
    "    d_softmax:'dot'\n",
    "}\n",
    "\n",
    "distribution=[\n",
    "    {'b':[0,0],'w':[-math.sqrt(6/(dimension[0]+dimension[-1])),math.sqrt(6/(dimension[0]+dimension[-1]))]},\n",
    "    {'b':[0,0],'w':[-math.sqrt(6/(dimension[0]+dimension[-1])),math.sqrt(6/(dimension[0]+dimension[-1]))]}\n",
    "]\n",
    "\n"
   ]
  },
  {
   "cell_type": "code",
   "execution_count": 203,
   "metadata": {},
   "outputs": [],
   "source": [
    "#Parameter's initial\n",
    "\n",
    "\n",
    "def init_b(layer):\n",
    "    dist=distribution[layer]['b']\n",
    "    return np.random.rand(dimension[layer+1])*(dist[1]-dist[0])+dist[0]\n",
    "\n",
    "\n",
    "def init_w(layer):\n",
    "    dist=distribution[layer]['w']\n",
    "    return np.random.rand(dimension[layer],dimension[layer+1])*(dist[1]-dist[0])+dist[0]\n",
    "\n",
    "def init_wb():\n",
    "    parameter=[]\n",
    "    for i in range(len(distribution)):\n",
    "        layer_parameter={}\n",
    "        for j in distribution[i].keys():\n",
    "            if j=='w':\n",
    "                layer_parameter['w']=init_w(i)\n",
    "            elif j=='b':\n",
    "                layer_parameter['b']=init_b(i)\n",
    "        parameter.append(layer_parameter)\n",
    "    return parameter"
   ]
  },
  {
   "cell_type": "code",
   "execution_count": 204,
   "metadata": {},
   "outputs": [],
   "source": [
    "data_path='./datas/'\n",
    "\n",
    "train_image_path=data_path+'train-images.idx3-ubyte'\n",
    "train_label_path=data_path+'train-labels.idx1-ubyte'\n",
    "\n",
    "test_image_path=data_path+'t10k-images.idx3-ubyte'\n",
    "test_label_path=data_path+'t10k-labels.idx1-ubyte'\n"
   ]
  },
  {
   "cell_type": "code",
   "execution_count": 205,
   "metadata": {},
   "outputs": [],
   "source": [
    "train_num=50000\n",
    "validate_num=10000\n",
    "test_num=10000\n",
    "\n",
    "with open(train_image_path,'rb') as f:\n",
    "    struct.unpack('>4i',f.read(16))\n",
    "    tem_image=np.fromfile(f,dtype=np.uint8).reshape(-1,784)/255\n",
    "    train_image=tem_image[:train_num]\n",
    "    validate_image=tem_image[train_num:]\n",
    "    \n",
    "with open(test_image_path,'rb') as f:\n",
    "    struct.unpack('>4i',f.read(16))\n",
    "    test_image=np.fromfile(f,dtype=np.uint8).reshape(-1,784)/255\n",
    "    \n",
    "\n",
    "with open(train_label_path,'rb') as f:\n",
    "    struct.unpack('>2i',f.read(8))\n",
    "    tem_label=np.fromfile(f,dtype=np.uint8)\n",
    "    train_label=tem_label[:train_num]\n",
    "    validate_label=tem_label[train_num:]\n",
    "\n",
    "with open(test_label_path,'rb') as f:\n",
    "    struct.unpack('>2i',f.read(8))\n",
    "    test_label=np.fromfile(f,dtype=np.uint8)    \n",
    "    \n",
    "\n",
    "dataset={\n",
    "    'train':{\n",
    "        'image':train_image,\n",
    "        'label':train_label,\n",
    "        'num':train_num\n",
    "    },\n",
    "    'validate':{\n",
    "        'image':validate_image,\n",
    "        'label':validate_label,\n",
    "        'num':validate_num\n",
    "    },\n",
    "    'test':{\n",
    "        'image':test_image,\n",
    "        'label':test_label,\n",
    "        'num':test_num\n",
    "    }\n",
    "}\n",
    "    "
   ]
  },
  {
   "cell_type": "code",
   "execution_count": 206,
   "metadata": {},
   "outputs": [],
   "source": [
    "def show_image(data,index):\n",
    "    print('label:'+str(dataset[data]['label'][index]))\n",
    "    a_image=dataset[data]['image'][index].reshape(-1,28)\n",
    "    plt.imshow(a_image,cmap='gray')\n",
    "    "
   ]
  },
  {
   "cell_type": "code",
   "execution_count": 207,
   "metadata": {},
   "outputs": [],
   "source": [
    "label_keys=np.identity(dimension[-1])"
   ]
  },
  {
   "cell_type": "code",
   "execution_count": 208,
   "metadata": {},
   "outputs": [],
   "source": [
    "def predict(image,parameters):\n",
    "    output=image\n",
    "    for i in range(len(distribution)):\n",
    "        output=activation[i](np.dot(output,parameters[i]['w'])+parameters[i]['b'])\n",
    "    return output"
   ]
  },
  {
   "cell_type": "code",
   "execution_count": 209,
   "metadata": {},
   "outputs": [],
   "source": [
    "def loss(data,parameters):\n",
    "    l=0\n",
    "    for i in range(dataset[data]['num']):\n",
    "        pre=predict(dataset[data]['image'][i],parameters)\n",
    "        lab=label_keys[dataset[data]['label'][i]]\n",
    "        dif=pre-lab\n",
    "        l+=np.dot(dif,dif)\n",
    "    return l/(dataset[data]['num']/10000)"
   ]
  },
  {
   "cell_type": "code",
   "execution_count": 210,
   "metadata": {},
   "outputs": [],
   "source": [
    "\n",
    "def verify(data,parameters):\n",
    "    error_num=0\n",
    "    for i in range(dataset[data]['num']):\n",
    "        \n",
    "        if predict(dataset[data]['image'][i],parameters).argmax()!=dataset[data]['label'][i]:\n",
    "        \n",
    "            error_num+=1\n",
    "            \n",
    "    rate=1-error_num/dataset[data]['num']\n",
    "    #print('验证集准确率：'+str(rate*100)+'%')\n",
    "    return rate\n",
    "    "
   ]
  },
  {
   "cell_type": "code",
   "execution_count": 211,
   "metadata": {},
   "outputs": [],
   "source": [
    "def init_zero_grad():\n",
    "    parameter=[]\n",
    "    for layer in range(len(distribution)):\n",
    "        layer_parameter={}\n",
    "        for j in distribution[layer].keys():\n",
    "            if j=='w':\n",
    "                layer_parameter['w']=np.zeros((dimension[layer],dimension[layer+1]))\n",
    "            elif j=='b':\n",
    "                layer_parameter['b']=np.zeros(dimension[layer+1])\n",
    "        parameter.append(layer_parameter)\n",
    "    return parameter"
   ]
  },
  {
   "cell_type": "code",
   "execution_count": 212,
   "metadata": {},
   "outputs": [],
   "source": [
    "def calculate_a_grad(image,label):\n",
    "    \n",
    "    a_grad=[]\n",
    "    \n",
    "    lin=[]\n",
    "    lout=[image]\n",
    "    for i in range(len(distribution)):\n",
    "        lin.append(np.dot(lout[i],parameters[i]['w'])+parameters[i]['b'])\n",
    "        lout.append(activation[i](lin[i]))\n",
    "        a_grad.append({})\n",
    "    \n",
    "    \n",
    "    d_L=2*(lout[-1]-label_keys[label])\n",
    "    \n",
    "    for i in range(len(distribution),0,-1):\n",
    "        \n",
    "        j=i-1\n",
    "        if d_way[d_activation[activation[j]]]=='time':\n",
    "            a_grad[j]['b']=d_L*d_activation[activation[j]](lin[j])\n",
    "        elif d_way[d_activation[activation[j]]]=='dot':\n",
    "            a_grad[j]['b']=np.dot(d_L,d_activation[activation[j]](lin[j]))\n",
    "        a_grad[j]['w']=np.outer(lout[j],a_grad[j]['b'])\n",
    "        d_L=np.dot(parameters[j]['w'],a_grad[j]['b'])\n",
    "        \n",
    "\n",
    "    return a_grad\n",
    "            \n",
    "            "
   ]
  },
  {
   "cell_type": "code",
   "execution_count": 213,
   "metadata": {},
   "outputs": [],
   "source": [
    "def calculate_banch_grad(banch_time,banch_size):\n",
    "    \n",
    "    banch_grad=calculate_a_grad(train_image[banch_size*banch_time],train_label[banch_size*banch_time])\n",
    "    for i in range(banch_size*banch_time+1,banch_size*(banch_time+1)):\n",
    "        \n",
    "        #print('训练'+str(i+1)+'/'+str(banch_size)+'个参数')\n",
    "        tem_grad=calculate_a_grad(train_image[i],train_label[i])\n",
    "        for j in range(len(banch_grad)):\n",
    "            for k in banch_grad[j].keys():\n",
    "                banch_grad[j][k]+=tem_grad[j][k]\n",
    "    for j in range(len(banch_grad)):\n",
    "        for k in banch_grad[j].keys():\n",
    "            banch_grad[j][k]/=banch_size\n",
    "    \n",
    "    \n",
    "    return banch_grad           "
   ]
  },
  {
   "cell_type": "code",
   "execution_count": 214,
   "metadata": {},
   "outputs": [],
   "source": [
    "def train_banch(banch_grad,learn_rate):\n",
    "    #print('正在修正参数')\n",
    "    for j in range(len(banch_grad)):\n",
    "        for k in banch_grad[j].keys():\n",
    "            parameters[j][k]-=learn_rate*banch_grad[j][k]\n",
    "            \n",
    "            "
   ]
  },
  {
   "cell_type": "code",
   "execution_count": 215,
   "metadata": {},
   "outputs": [],
   "source": [
    "\n",
    "def train_epoch():\n",
    "    banch_size=100\n",
    "    learn_rate=1\n",
    "    for i in (range(train_num//banch_size)):\n",
    "        \n",
    "        #print('#===============开始训练第'+str(i+1)+'/'+str(train_num//banch_size)+'组==============#')\n",
    "        banch_grad=calculate_banch_grad(i,banch_size)\n",
    "        train_banch(banch_grad,learn_rate)\n",
    "        \n",
    "        #print('当前组用时：{}s'.format(time1-time0))\n",
    "        #validate_verify(parameters)\n",
    "    #print('Train Over!')\n",
    "    \n",
    "    "
   ]
  },
  {
   "cell_type": "code",
   "execution_count": 241,
   "metadata": {},
   "outputs": [
    {
     "data": {
      "text/plain": [
       "0.07010000000000005"
      ]
     },
     "execution_count": 241,
     "metadata": {},
     "output_type": "execute_result"
    }
   ],
   "source": [
    "parameters=init_wb()\n",
    "verify_in_validate=[]\n",
    "verify_in_train=[]\n",
    "verify_in_test=[]\n",
    "loss_in_train=[]\n",
    "loss_in_validate=[]\n",
    "loss_in_test=[]\n",
    "validate_verify(parameters)\n"
   ]
  },
  {
   "cell_type": "code",
   "execution_count": 217,
   "metadata": {},
   "outputs": [],
   "source": [
    "def train(epoch_num):\n",
    "    for i in tqdm_notebook(range(epoch_num)):\n",
    "        train_epoch()\n",
    "        \n",
    "        verify_in_validate.append(verify('validate',parameters))\n",
    "        verify_in_train.append(verify('train',parameters))\n",
    "        verify_in_test.append(verify('test',parameters))\n",
    "        \n",
    "        loss_in_train.append(loss('train',parameters))\n",
    "        loss_in_validate.append(loss('validate',parameters))\n",
    "        loss_in_test.append(loss('test',parameters))\n",
    "        \n",
    "        "
   ]
  },
  {
   "cell_type": "code",
   "execution_count": 232,
   "metadata": {},
   "outputs": [
    {
     "data": {
      "application/vnd.jupyter.widget-view+json": {
       "model_id": "4b5c36557a4a4ae3a6068d7589a1e5bd",
       "version_major": 2,
       "version_minor": 0
      },
      "text/plain": [
       "HBox(children=(IntProgress(value=0), HTML(value='')))"
      ]
     },
     "metadata": {},
     "output_type": "display_data"
    }
   ],
   "source": [
    "train(100)"
   ]
  },
  {
   "cell_type": "code",
   "execution_count": 242,
   "metadata": {},
   "outputs": [
    {
     "data": {
      "text/plain": [
       "[]"
      ]
     },
     "execution_count": 242,
     "metadata": {},
     "output_type": "execute_result"
    }
   ],
   "source": [
    "verify_in_validate"
   ]
  },
  {
   "cell_type": "code",
   "execution_count": 238,
   "metadata": {},
   "outputs": [
    {
     "data": {
      "text/plain": [
       "0.99866"
      ]
     },
     "execution_count": 238,
     "metadata": {},
     "output_type": "execute_result"
    }
   ],
   "source": [
    "verify('train',parameters)"
   ]
  },
  {
   "cell_type": "code",
   "execution_count": 239,
   "metadata": {},
   "outputs": [
    {
     "data": {
      "text/plain": [
       "0.9771"
      ]
     },
     "execution_count": 239,
     "metadata": {},
     "output_type": "execute_result"
    }
   ],
   "source": [
    "verify('validate',parameters)"
   ]
  },
  {
   "cell_type": "code",
   "execution_count": 240,
   "metadata": {},
   "outputs": [
    {
     "data": {
      "text/plain": [
       "0.9767"
      ]
     },
     "execution_count": 240,
     "metadata": {},
     "output_type": "execute_result"
    }
   ],
   "source": [
    "verify('test',parameters)"
   ]
  },
  {
   "cell_type": "code",
   "execution_count": null,
   "metadata": {},
   "outputs": [],
   "source": []
  },
  {
   "cell_type": "code",
   "execution_count": null,
   "metadata": {},
   "outputs": [],
   "source": []
  }
 ],
 "metadata": {
  "kernelspec": {
   "display_name": "Python 3",
   "language": "python",
   "name": "python3"
  },
  "language_info": {
   "codemirror_mode": {
    "name": "ipython",
    "version": 3
   },
   "file_extension": ".py",
   "mimetype": "text/x-python",
   "name": "python",
   "nbconvert_exporter": "python",
   "pygments_lexer": "ipython3",
   "version": "3.7.3"
  }
 },
 "nbformat": 4,
 "nbformat_minor": 2
}
